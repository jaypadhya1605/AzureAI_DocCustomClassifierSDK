{
 "cells": [
  {
   "cell_type": "code",
   "execution_count": 32,
   "metadata": {
    "jupyter": {
     "outputs_hidden": false,
     "source_hidden": false
    },
    "nteract": {
     "transient": {
      "deleting": false
     }
    }
   },
   "outputs": [
    {
     "name": "stdout",
     "output_type": "stream",
     "text": [
      "Requirement already satisfied: azure.ai.formrecognizer in /anaconda/envs/azureml_py38/lib/python3.10/site-packages (3.3.3)\n",
      "Requirement already satisfied: azure-common>=1.1 in /anaconda/envs/azureml_py38/lib/python3.10/site-packages (from azure.ai.formrecognizer) (1.1.28)\n",
      "Requirement already satisfied: typing-extensions>=4.0.1 in /anaconda/envs/azureml_py38/lib/python3.10/site-packages (from azure.ai.formrecognizer) (4.12.2)\n",
      "Requirement already satisfied: azure-core>=1.23.0 in /anaconda/envs/azureml_py38/lib/python3.10/site-packages (from azure.ai.formrecognizer) (1.30.2)\n",
      "Requirement already satisfied: msrest>=0.6.21 in /anaconda/envs/azureml_py38/lib/python3.10/site-packages (from azure.ai.formrecognizer) (0.7.1)\n",
      "Requirement already satisfied: requests>=2.21.0 in /anaconda/envs/azureml_py38/lib/python3.10/site-packages (from azure-core>=1.23.0->azure.ai.formrecognizer) (2.32.3)\n",
      "Requirement already satisfied: six>=1.11.0 in /anaconda/envs/azureml_py38/lib/python3.10/site-packages (from azure-core>=1.23.0->azure.ai.formrecognizer) (1.16.0)\n",
      "Requirement already satisfied: isodate>=0.6.0 in /anaconda/envs/azureml_py38/lib/python3.10/site-packages (from msrest>=0.6.21->azure.ai.formrecognizer) (0.6.1)\n",
      "Requirement already satisfied: requests-oauthlib>=0.5.0 in /anaconda/envs/azureml_py38/lib/python3.10/site-packages (from msrest>=0.6.21->azure.ai.formrecognizer) (2.0.0)\n",
      "Requirement already satisfied: certifi>=2017.4.17 in /anaconda/envs/azureml_py38/lib/python3.10/site-packages (from msrest>=0.6.21->azure.ai.formrecognizer) (2024.8.30)\n",
      "Requirement already satisfied: idna<4,>=2.5 in /anaconda/envs/azureml_py38/lib/python3.10/site-packages (from requests>=2.21.0->azure-core>=1.23.0->azure.ai.formrecognizer) (3.7)\n",
      "Requirement already satisfied: urllib3<3,>=1.21.1 in /anaconda/envs/azureml_py38/lib/python3.10/site-packages (from requests>=2.21.0->azure-core>=1.23.0->azure.ai.formrecognizer) (1.26.19)\n",
      "Requirement already satisfied: charset-normalizer<4,>=2 in /anaconda/envs/azureml_py38/lib/python3.10/site-packages (from requests>=2.21.0->azure-core>=1.23.0->azure.ai.formrecognizer) (3.3.2)\n",
      "Requirement already satisfied: oauthlib>=3.0.0 in /anaconda/envs/azureml_py38/lib/python3.10/site-packages (from requests-oauthlib>=0.5.0->msrest>=0.6.21->azure.ai.formrecognizer) (3.2.2)\n",
      "Requirement already satisfied: azure.ai.documentintelligence in /anaconda/envs/azureml_py38/lib/python3.10/site-packages (1.0.0b4)\n",
      "Requirement already satisfied: typing-extensions>=4.6.0 in /anaconda/envs/azureml_py38/lib/python3.10/site-packages (from azure.ai.documentintelligence) (4.12.2)\n",
      "Requirement already satisfied: azure-core>=1.30.0 in /anaconda/envs/azureml_py38/lib/python3.10/site-packages (from azure.ai.documentintelligence) (1.30.2)\n",
      "Requirement already satisfied: isodate>=0.6.1 in /anaconda/envs/azureml_py38/lib/python3.10/site-packages (from azure.ai.documentintelligence) (0.6.1)\n",
      "Requirement already satisfied: six>=1.11.0 in /anaconda/envs/azureml_py38/lib/python3.10/site-packages (from azure-core>=1.30.0->azure.ai.documentintelligence) (1.16.0)\n",
      "Requirement already satisfied: requests>=2.21.0 in /anaconda/envs/azureml_py38/lib/python3.10/site-packages (from azure-core>=1.30.0->azure.ai.documentintelligence) (2.32.3)\n",
      "Requirement already satisfied: charset-normalizer<4,>=2 in /anaconda/envs/azureml_py38/lib/python3.10/site-packages (from requests>=2.21.0->azure-core>=1.30.0->azure.ai.documentintelligence) (3.3.2)\n",
      "Requirement already satisfied: idna<4,>=2.5 in /anaconda/envs/azureml_py38/lib/python3.10/site-packages (from requests>=2.21.0->azure-core>=1.30.0->azure.ai.documentintelligence) (3.7)\n",
      "Requirement already satisfied: certifi>=2017.4.17 in /anaconda/envs/azureml_py38/lib/python3.10/site-packages (from requests>=2.21.0->azure-core>=1.30.0->azure.ai.documentintelligence) (2024.8.30)\n",
      "Requirement already satisfied: urllib3<3,>=1.21.1 in /anaconda/envs/azureml_py38/lib/python3.10/site-packages (from requests>=2.21.0->azure-core>=1.30.0->azure.ai.documentintelligence) (1.26.19)\n"
     ]
    }
   ],
   "source": [
    "!pip install azure.ai.formrecognizer\n",
    "!pip install azure.ai.documentintelligence "
   ]
  },
  {
   "cell_type": "code",
   "execution_count": 17,
   "metadata": {
    "gather": {
     "logged": 1732656342383
    }
   },
   "outputs": [],
   "source": [
    "from azure.core.credentials import AzureKeyCredential\n",
    "import azure.ai.formrecognizer\n",
    "from azure.ai.formrecognizer import DocumentAnalysisClient"
   ]
  },
  {
   "cell_type": "code",
   "execution_count": null,
   "metadata": {
    "gather": {
     "logged": 1732656338218
    },
    "jupyter": {
     "outputs_hidden": false,
     "source_hidden": false
    },
    "nteract": {
     "transient": {
      "deleting": false
     }
    }
   },
   "outputs": [],
   "source": [
    "endpoint = #\n",
    "key = #"
   ]
  },
  {
   "cell_type": "code",
   "execution_count": 18,
   "metadata": {
    "gather": {
     "logged": 1732656343009
    },
    "jupyter": {
     "outputs_hidden": false,
     "source_hidden": false
    },
    "nteract": {
     "transient": {
      "deleting": false
     }
    }
   },
   "outputs": [],
   "source": [
    "document_analysis_client = DocumentAnalysisClient(endpoint=endpoint, credential=AzureKeyCredential(key))"
   ]
  },
  {
   "cell_type": "code",
   "execution_count": 4,
   "metadata": {
    "gather": {
     "logged": 1732642831973
    },
    "jupyter": {
     "outputs_hidden": false,
     "source_hidden": false
    },
    "nteract": {
     "transient": {
      "deleting": false
     }
    }
   },
   "outputs": [
    {
     "data": {
      "text/plain": [
       "AnalyzeResult(api_version=2023-07-31, model_id=prebuilt-layout, content=UNITED STATES SECURITIES AND EXCHANGE COMMISSION Washington, D.C. 20549\n",
       "FORM 10-Q :selected: ☒ QUARTERLY REPORT PURSUANT TO SECTION 13 OR 15(d) OF THE SECURITIES EXCHANGE ACT OF 1934\n",
       "For the Quarterly Period Ended March 31, 2020\n",
       "OR :unselected:\n",
       "☐ TRANSITION REPORT PURSUANT TO SECTION 13 OR 15(d) OF THE SECURITIES EXCHANGE ACT OF 1934\n",
       "For the Transition Period From\n",
       "to\n",
       "Commission File Number 001-37845\n",
       "MICROSOFT CORPORATION\n",
       "WASHINGTON (STATE OF INCORPORATION)\n",
       "91-1144442\n",
       "(I.R.S. ID)\n",
       "ONE MICROSOFT WAY, REDMOND, WASHINGTON 98052-6399 (425) 882-8080 www.microsoft.com/investor\n",
       "Securities registered pursuant to Section 12(b) of the Act:\n",
       "Title of each class\n",
       "Trading Symbol\n",
       "Name of exchange on which registered\n",
       "Common stock, $0.00000625 par value per share\n",
       "MSFT\n",
       "NASDAQ\n",
       "2.125% Notes due 2021\n",
       "MSFT\n",
       "NASDAQ\n",
       "3.125% Notes due 2028\n",
       "MSFT\n",
       "NASDAQ\n",
       "2.625% Notes due 2033\n",
       "MSFT\n",
       "NASDAQ\n",
       "Securities registered pursuant to Section 12(g) of the Act:\n",
       "NONE\n",
       "Indicate by check mark whether the registrant (1) has filed all reports required to be filed by Section 13 or 15(d) of the Securities Exchange Act of 1934 during the preceding 12 months (or for such shorter period that the registrant was required to file such reports), and (2) has been subject to such filing requirements for the past 90 days. Yes :selected: :unselected: No\n",
       "Indicate by check mark whether the registrant has submitted electronically every Interactive Data File required to be submitted pursuant to Rule 405 of Regulation S-T (§232.405 of this chapter) during the preceding 12 months (or for such shorter period that the registrant was required to submit such files). Yes :selected: :unselected: No\n",
       "Indicate by check mark whether the registrant is a large accelerated filer, an accelerated filer, a non-accelerated filer, a smaller reporting company, or an emerging growth company. See the definitions of \"large accelerated filer,\" \"accelerated filer,\" \"smaller reporting company,\" and \"emerging growth company\" in Rule 12b-2 of the Exchange Act. :selected: Large accelerated filer :unselected: Accelerated filer\n",
       "Non-accelerated filer :unselected: :unselected: Smaller reporting company :unselected: Emerging growth company\n",
       "If an emerging growth company, indicate by check mark if the registrant has elected not to use the extended transition period for complying with any new or revised financial accounting standards provided pursuant to Section 13(a) of the Exchange Act. :unselected: Indicate by check mark whether the registrant is a shell company (as defined in Rule 12b-2 of the Exchange Act). :unselected: Yes :selected: No\n",
       "Indicate the number of shares outstanding of each of the issuer's classes of common stock, as of the latest practicable date.\n",
       "Class\n",
       "Outstanding as of April 24, 2020\n",
       "Common Stock, $0.00000625 par value per share\n",
       "7,583,440,247 shares, languages=[], pages=[DocumentPage(page_number=1, angle=None, width=8.5, height=11.0, unit=inch, lines=[DocumentLine(content=UNITED STATES, polygon=[Point(x=3.4669, y=0.6636), Point(x=5.0236, y=0.6589), Point(x=5.0236, y=0.8451), Point(x=3.4669, y=0.8498)], spans=[DocumentSpan(offset=0, length=13)]), DocumentLine(content=SECURITIES AND EXCHANGE COMMISSION, polygon=[Point(x=2.168, y=0.8737), Point(x=6.3129, y=0.8737), Point(x=6.3129, y=1.0647), Point(x=2.168, y=1.0647)], spans=[DocumentSpan(offset=14, length=34)]), DocumentLine(content=Washington, D.C. 20549, polygon=[Point(x=3.443, y=1.0885), Point(x=5.057, y=1.0838), Point(x=5.057, y=1.2509), Point(x=3.443, y=1.2604)], spans=[DocumentSpan(offset=49, length=22)]), DocumentLine(content=FORM 10-Q, polygon=[Point(x=3.7104, y=1.3893), Point(x=4.7944, y=1.3893), Point(x=4.7944, y=1.5898), Point(x=3.7104, y=1.5898)], spans=[DocumentSpan(offset=72, length=9)]), DocumentLine(content=☒, polygon=[Point(x=0.6694, y=1.7746), Point(x=0.7764, y=1.7746), Point(x=0.7764, y=1.8833), Point(x=0.6694, y=1.8833)], spans=[DocumentSpan(offset=93, length=1)]), DocumentLine(content=QUARTERLY REPORT PURSUANT TO SECTION 13 OR 15(d) OF THE SECURITIES EXCHANGE ACT OF, polygon=[Point(x=0.9694, y=1.7426), Point(x=7.8601, y=1.7426), Point(x=7.8601, y=1.9145), Point(x=0.9694, y=1.9097)], spans=[DocumentSpan(offset=95, length=82)]), DocumentLine(content=1934, polygon=[Point(x=0.9837, y=1.9336), Point(x=1.2989, y=1.9336), Point(x=1.2989, y=2.0625), Point(x=0.9885, y=2.0577)], spans=[DocumentSpan(offset=178, length=4)]), DocumentLine(content=For the Quarterly Period Ended March 31, 2020, polygon=[Point(x=0.9789, y=2.1341), Point(x=3.4621, y=2.1293), Point(x=3.4621, y=2.2726), Point(x=0.9789, y=2.2773)], spans=[DocumentSpan(offset=183, length=45)]), DocumentLine(content=OR, polygon=[Point(x=4.1306, y=2.2726), Point(x=4.3598, y=2.2726), Point(x=4.3646, y=2.4158), Point(x=4.1306, y=2.411)], spans=[DocumentSpan(offset=229, length=2)]), DocumentLine(content=☐, polygon=[Point(x=0.6694, y=2.6955), Point(x=0.777, y=2.6955), Point(x=0.777, y=2.8042), Point(x=0.6694, y=2.8042)], spans=[DocumentSpan(offset=245, length=1)]), DocumentLine(content=TRANSITION REPORT PURSUANT TO SECTION 13 OR 15(d) OF THE SECURITIES EXCHANGE ACT OF, polygon=[Point(x=0.9694, y=2.6641), Point(x=7.8649, y=2.6641), Point(x=7.8649, y=2.8312), Point(x=0.9694, y=2.8312)], spans=[DocumentSpan(offset=247, length=83)]), DocumentLine(content=1934, polygon=[Point(x=0.9837, y=2.8598), Point(x=1.3084, y=2.855), Point(x=1.3084, y=2.9935), Point(x=0.9933, y=2.9887)], spans=[DocumentSpan(offset=331, length=4)]), DocumentLine(content=For the Transition Period From, polygon=[Point(x=0.9694, y=3.0556), Point(x=2.6264, y=3.0556), Point(x=2.6264, y=3.194), Point(x=0.9694, y=3.1892)], spans=[DocumentSpan(offset=336, length=30)]), DocumentLine(content=to, polygon=[Point(x=3.1565, y=3.0794), Point(x=3.2806, y=3.0747), Point(x=3.2854, y=3.1654), Point(x=3.1612, y=3.1654)], spans=[DocumentSpan(offset=367, length=2)]), DocumentLine(content=Commission File Number 001-37845, polygon=[Point(x=3.2185, y=3.2418), Point(x=5.2671, y=3.237), Point(x=5.2671, y=3.3802), Point(x=3.2185, y=3.385)], spans=[DocumentSpan(offset=370, length=32)]), DocumentLine(content=MICROSOFT CORPORATION, polygon=[Point(x=2.5261, y=3.5378), Point(x=5.9691, y=3.533), Point(x=5.9691, y=3.7717), Point(x=2.5261, y=3.7813)], spans=[DocumentSpan(offset=403, length=21)]), DocumentLine(content=WASHINGTON, polygon=[Point(x=1.9865, y=3.9293), Point(x=2.8174, y=3.9293), Point(x=2.8174, y=4.0677), Point(x=1.9865, y=4.0677)], spans=[DocumentSpan(offset=425, length=10)]), DocumentLine(content=(STATE OF INCORPORATION), polygon=[Point(x=1.6857, y=4.0773), Point(x=3.1135, y=4.0773), Point(x=3.1135, y=4.2014), Point(x=1.6857, y=4.2014)], spans=[DocumentSpan(offset=436, length=24)]), DocumentLine(content=91-1144442, polygon=[Point(x=5.7542, y=3.934), Point(x=6.418, y=3.9388), Point(x=6.418, y=4.0677), Point(x=5.7542, y=4.0629)], spans=[DocumentSpan(offset=461, length=10)]), DocumentLine(content=(I.R.S. ID), polygon=[Point(x=5.8593, y=4.082), Point(x=6.3081, y=4.082), Point(x=6.3081, y=4.2062), Point(x=5.8593, y=4.2014)], spans=[DocumentSpan(offset=472, length=11)]), DocumentLine(content=ONE MICROSOFT WAY, REDMOND, WASHINGTON 98052-6399, polygon=[Point(x=2.5691, y=4.2491), Point(x=5.9118, y=4.2491), Point(x=5.9118, y=4.3828), Point(x=2.5691, y=4.3876)], spans=[DocumentSpan(offset=484, length=49)]), DocumentLine(content=(425) 882-8080, polygon=[Point(x=3.8346, y=4.3876), Point(x=4.6272, y=4.3876), Point(x=4.6272, y=4.5165), Point(x=3.8393, y=4.5213)], spans=[DocumentSpan(offset=534, length=14)]), DocumentLine(content=www.microsoft.com/investor, polygon=[Point(x=3.4716, y=4.5165), Point(x=5.0188, y=4.5165), Point(x=5.0188, y=4.6454), Point(x=3.4716, y=4.6454)], spans=[DocumentSpan(offset=549, length=26)]), DocumentLine(content=Securities registered pursuant to Section 12(b) of the Act:, polygon=[Point(x=0.616, y=4.717), Point(x=3.634, y=4.7122), Point(x=3.634, y=4.8555), Point(x=0.616, y=4.8602)], spans=[DocumentSpan(offset=576, length=59)]), DocumentLine(content=Title of each class, polygon=[Point(x=0.616, y=4.9462), Point(x=1.5711, y=4.951), Point(x=1.5711, y=5.0799), Point(x=0.616, y=5.0703)], spans=[DocumentSpan(offset=636, length=19)]), DocumentLine(content=Trading Symbol, polygon=[Point(x=4.3312, y=4.9462), Point(x=5.1716, y=4.9462), Point(x=5.1716, y=5.0846), Point(x=4.3312, y=5.0846)], spans=[DocumentSpan(offset=656, length=14)]), DocumentLine(content=Name of exchange on which registered, polygon=[Point(x=5.5632, y=4.9462), Point(x=7.6357, y=4.9462), Point(x=7.6309, y=5.0894), Point(x=5.5632, y=5.0846)], spans=[DocumentSpan(offset=671, length=36)]), DocumentLine(content=Common stock, $0.00000625 par value per share, polygon=[Point(x=0.616, y=5.1467), Point(x=3.3522, y=5.1515), Point(x=3.3522, y=5.2947), Point(x=0.616, y=5.2852)], spans=[DocumentSpan(offset=708, length=45)]), DocumentLine(content=MSFT, polygon=[Point(x=4.5795, y=5.1563), Point(x=4.9185, y=5.1515), Point(x=4.9185, y=5.2708), Point(x=4.5795, y=5.2756)], spans=[DocumentSpan(offset=754, length=4)]), DocumentLine(content=NASDAQ, polygon=[Point(x=6.3177, y=5.1372), Point(x=6.8716, y=5.1372), Point(x=6.8716, y=5.2947), Point(x=6.3177, y=5.2947)], spans=[DocumentSpan(offset=759, length=6)]), DocumentLine(content=2.125% Notes due 2021, polygon=[Point(x=0.6112, y=5.309), Point(x=1.9292, y=5.3043), Point(x=1.9292, y=5.4427), Point(x=0.6112, y=5.4427)], spans=[DocumentSpan(offset=766, length=21)]), DocumentLine(content=MSFT, polygon=[Point(x=4.5747, y=5.3138), Point(x=4.9185, y=5.309), Point(x=4.9185, y=5.4332), Point(x=4.5795, y=5.4284)], spans=[DocumentSpan(offset=788, length=4)]), DocumentLine(content=NASDAQ, polygon=[Point(x=6.3368, y=5.309), Point(x=6.8716, y=5.309), Point(x=6.8716, y=5.4379), Point(x=6.3368, y=5.4332)], spans=[DocumentSpan(offset=793, length=6)]), DocumentLine(content=3.125% Notes due 2028, polygon=[Point(x=0.616, y=5.4714), Point(x=1.9388, y=5.4714), Point(x=1.9388, y=5.6003), Point(x=0.616, y=5.6003)], spans=[DocumentSpan(offset=800, length=21)]), DocumentLine(content=MSFT, polygon=[Point(x=4.5747, y=5.4761), Point(x=4.9138, y=5.4714), Point(x=4.9138, y=5.5907), Point(x=4.5843, y=5.5907)], spans=[DocumentSpan(offset=822, length=4)]), DocumentLine(content=NASDAQ, polygon=[Point(x=6.3368, y=5.4761), Point(x=6.8669, y=5.4761), Point(x=6.8669, y=5.5955), Point(x=6.3368, y=5.5955)], spans=[DocumentSpan(offset=827, length=6)]), DocumentLine(content=2.625% Notes due 2033, polygon=[Point(x=0.6112, y=5.6289), Point(x=1.9292, y=5.6289), Point(x=1.9292, y=5.7578), Point(x=0.6112, y=5.7578)], spans=[DocumentSpan(offset=834, length=21)]), DocumentLine(content=MSFT, polygon=[Point(x=4.5747, y=5.6146), Point(x=4.9329, y=5.6146), Point(x=4.9329, y=5.7674), Point(x=4.5747, y=5.7674)], spans=[DocumentSpan(offset=856, length=4)]), DocumentLine(content=NASDAQ, polygon=[Point(x=6.332, y=5.6289), Point(x=6.8764, y=5.6289), Point(x=6.8764, y=5.753), Point(x=6.332, y=5.753)], spans=[DocumentSpan(offset=861, length=6)]), DocumentLine(content=Securities registered pursuant to Section 12(g) of the Act:, polygon=[Point(x=0.6065, y=5.8247), Point(x=3.6292, y=5.8199), Point(x=3.6292, y=5.9631), Point(x=0.6065, y=5.9631)], spans=[DocumentSpan(offset=868, length=59)]), DocumentLine(content=NONE, polygon=[Point(x=0.6112, y=6.0538), Point(x=0.9789, y=6.0538), Point(x=0.9742, y=6.178), Point(x=0.6112, y=6.1732)], spans=[DocumentSpan(offset=928, length=4)]), DocumentLine(content=Indicate by check mark whether the registrant (1) has filed all reports required to be filed by Section 13 or 15(d) of the Securities Exchange, polygon=[Point(x=0.6303, y=6.2448), Point(x=7.8553, y=6.24), Point(x=7.8553, y=6.3832), Point(x=0.6303, y=6.3832)], spans=[DocumentSpan(offset=933, length=142)]), DocumentLine(content=Act of 1934 during the preceding 12 months (or for such shorter period that the registrant was required to file such reports), and (2) has, polygon=[Point(x=0.6351, y=6.3832), Point(x=7.8553, y=6.3832), Point(x=7.8553, y=6.5265), Point(x=0.6351, y=6.5217)], spans=[DocumentSpan(offset=1076, length=138)]), DocumentLine(content=been subject to such filing requirements for the past 90 days. Yes, polygon=[Point(x=0.6351, y=6.5265), Point(x=4.1831, y=6.5265), Point(x=4.1831, y=6.6697), Point(x=0.6351, y=6.6697)], spans=[DocumentSpan(offset=1215, length=66)]), DocumentLine(content=No, polygon=[Point(x=4.4697, y=6.5408), Point(x=4.6368, y=6.5456), Point(x=4.6368, y=6.6411), Point(x=4.4697, y=6.6411)], spans=[DocumentSpan(offset=1306, length=2)]), DocumentLine(content=Indicate by check mark whether the registrant has submitted electronically every Interactive Data File required to be submitted pursuant to Rule, polygon=[Point(x=0.6399, y=6.727), Point(x=7.8506, y=6.727), Point(x=7.8506, y=6.8607), Point(x=0.6399, y=6.8607)], spans=[DocumentSpan(offset=1309, length=144)]), DocumentLine(content=405 of Regulation S-T (§232.405 of this chapter) during the preceding 12 months (or for such shorter period that the registrant was required to, polygon=[Point(x=0.6399, y=6.8655), Point(x=7.8601, y=6.8655), Point(x=7.8601, y=6.9991), Point(x=0.6399, y=6.9944)], spans=[DocumentSpan(offset=1454, length=143)]), DocumentLine(content=submit such files). Yes, polygon=[Point(x=0.6351, y=7.0087), Point(x=1.9149, y=7.0087), Point(x=1.9149, y=7.1376), Point(x=0.6351, y=7.1376)], spans=[DocumentSpan(offset=1598, length=23)]), DocumentLine(content=No, polygon=[Point(x=2.1775, y=7.0278), Point(x=2.3494, y=7.0278), Point(x=2.3494, y=7.1185), Point(x=2.1823, y=7.1185)], spans=[DocumentSpan(offset=1646, length=2)]), DocumentLine(content=Indicate by check mark whether the registrant is a large accelerated filer, an accelerated filer, a non-accelerated filer, a smaller reporting, polygon=[Point(x=0.6303, y=7.2044), Point(x=7.8506, y=7.2092), Point(x=7.8506, y=7.3477), Point(x=0.6303, y=7.3429)], spans=[DocumentSpan(offset=1649, length=142)]), DocumentLine(content=company, or an emerging growth company. See the definitions of \"large accelerated filer,\" \"accelerated filer,\" \"smaller reporting company,\", polygon=[Point(x=0.6303, y=7.3477), Point(x=7.8506, y=7.3429), Point(x=7.8506, y=7.4861), Point(x=0.6303, y=7.4909)], spans=[DocumentSpan(offset=1792, length=139)]), DocumentLine(content=and \"emerging growth company\" in Rule 12b-2 of the Exchange Act., polygon=[Point(x=0.6351, y=7.4813), Point(x=4.2022, y=7.4766), Point(x=4.2022, y=7.615), Point(x=0.6351, y=7.6198)], spans=[DocumentSpan(offset=1932, length=64)]), DocumentLine(content=Large accelerated filer, polygon=[Point(x=0.6351, y=7.6866), Point(x=1.8576, y=7.6866), Point(x=1.8624, y=7.8203), Point(x=0.6351, y=7.8299)], spans=[DocumentSpan(offset=2008, length=23)]), DocumentLine(content=Accelerated filer, polygon=[Point(x=5.3149, y=7.6866), Point(x=6.1935, y=7.6866), Point(x=6.1935, y=7.8155), Point(x=5.3149, y=7.8155)], spans=[DocumentSpan(offset=2045, length=17)]), DocumentLine(content=Non-accelerated filer, polygon=[Point(x=0.6351, y=7.8681), Point(x=1.7573, y=7.8681), Point(x=1.7573, y=7.9922), Point(x=0.6351, y=7.9922)], spans=[DocumentSpan(offset=2063, length=21)]), DocumentLine(content=Smaller reporting company, polygon=[Point(x=5.3101, y=7.8633), Point(x=6.7522, y=7.8728), Point(x=6.7522, y=8.0065), Point(x=5.3101, y=7.997)], spans=[DocumentSpan(offset=2111, length=25)]), DocumentLine(content=Emerging growth company, polygon=[Point(x=5.3292, y=8.0399), Point(x=6.7522, y=8.0399), Point(x=6.7522, y=8.1784), Point(x=5.3292, y=8.1784)], spans=[DocumentSpan(offset=2150, length=23)]), DocumentLine(content=If an emerging growth company, indicate by check mark if the registrant has elected not to use the extended transition period for complying, polygon=[Point(x=0.6399, y=8.2357), Point(x=7.8506, y=8.2357), Point(x=7.8506, y=8.3789), Point(x=0.6399, y=8.3789)], spans=[DocumentSpan(offset=2174, length=139)]), DocumentLine(content=with any new or revised financial accounting standards provided pursuant to Section 13(a) of the Exchange Act., polygon=[Point(x=0.6351, y=8.3885), Point(x=6.461, y=8.3885), Point(x=6.461, y=8.5269), Point(x=0.6351, y=8.5269)], spans=[DocumentSpan(offset=2314, length=110)]), DocumentLine(content=Indicate by check mark whether the registrant is a shell company (as defined in Rule 12b-2 of the Exchange Act)., polygon=[Point(x=0.6399, y=8.5938), Point(x=6.4323, y=8.5938), Point(x=6.4371, y=8.7322), Point(x=0.6399, y=8.7322)], spans=[DocumentSpan(offset=2438, length=112)]), DocumentLine(content=Yes, polygon=[Point(x=6.4323, y=8.5603), Point(x=6.7284, y=8.5603), Point(x=6.7284, y=8.7513), Point(x=6.4371, y=8.7513)], spans=[DocumentSpan(offset=2564, length=3)]), DocumentLine(content=No, polygon=[Point(x=7.0101, y=8.6128), Point(x=7.2011, y=8.6128), Point(x=7.1963, y=8.7131), Point(x=7.0101, y=8.7083)], spans=[DocumentSpan(offset=2579, length=2)]), DocumentLine(content=Indicate the number of shares outstanding of each of the issuer's classes of common stock, as of the latest practicable date., polygon=[Point(x=0.6303, y=8.7943), Point(x=6.9385, y=8.7943), Point(x=6.9385, y=8.928), Point(x=0.6303, y=8.928)], spans=[DocumentSpan(offset=2582, length=125)]), DocumentLine(content=Class, polygon=[Point(x=0.6447, y=9.0425), Point(x=0.9169, y=9.0521), Point(x=0.9169, y=9.224), Point(x=0.6399, y=9.2144)], spans=[DocumentSpan(offset=2708, length=5)]), DocumentLine(content=Outstanding as of April 24, 2020, polygon=[Point(x=6.1124, y=9.0855), Point(x=7.7073, y=9.076), Point(x=7.7073, y=9.2049), Point(x=6.1124, y=9.2096)], spans=[DocumentSpan(offset=2714, length=32)]), DocumentLine(content=Common Stock, $0.00000625 par value per share, polygon=[Point(x=0.6399, y=9.2956), Point(x=3.2615, y=9.2956), Point(x=3.2615, y=9.434), Point(x=0.6399, y=9.4245)], spans=[DocumentSpan(offset=2747, length=45)]), DocumentLine(content=7,583,440,247 shares, polygon=[Point(x=6.5517, y=9.3194), Point(x=7.7121, y=9.3147), Point(x=7.7121, y=9.4531), Point(x=6.5517, y=9.4579)], spans=[DocumentSpan(offset=2793, length=20)])], words=[DocumentWord(content=UNITED, polygon=[Point(x=3.4764, y=0.6636), Point(x=4.1545, y=0.6636), Point(x=4.1545, y=0.8498), Point(x=3.4716, y=0.8546)], span=DocumentSpan(offset=0, length=6), confidence=0.995), DocumentWord(content=STATES, polygon=[Point(x=4.2643, y=0.6636), Point(x=5.0093, y=0.6636), Point(x=5.0093, y=0.8498), Point(x=4.2643, y=0.8498)], span=DocumentSpan(offset=7, length=6), confidence=0.992), DocumentWord(content=SECURITIES, polygon=[Point(x=2.1919, y=0.8785), Point(x=3.3331, y=0.8785), Point(x=3.3236, y=1.0694), Point(x=2.1823, y=1.0694)], span=DocumentSpan(offset=14, length=10), confidence=0.994), DocumentWord(content=AND, polygon=[Point(x=3.4048, y=0.8785), Point(x=3.782, y=0.8785), Point(x=3.7772, y=1.0694), Point(x=3.4, y=1.0694)], span=DocumentSpan(offset=25, length=3), confidence=0.998), DocumentWord(content=EXCHANGE, polygon=[Point(x=3.8823, y=0.8785), Point(x=4.952, y=0.8785), Point(x=4.9472, y=1.0694), Point(x=3.8775, y=1.0694)], span=DocumentSpan(offset=29, length=8), confidence=0.995), DocumentWord(content=COMMISSION, polygon=[Point(x=5.0379, y=0.8785), Point(x=6.2556, y=0.8785), Point(x=6.2556, y=1.0694), Point(x=5.0331, y=1.0694)], span=DocumentSpan(offset=38, length=10), confidence=0.993), DocumentWord(content=Washington,, polygon=[Point(x=3.4478, y=1.0933), Point(x=4.2978, y=1.0933), Point(x=4.2978, y=1.2604), Point(x=3.443, y=1.2652)], span=DocumentSpan(offset=49, length=11), confidence=0.99), DocumentWord(content=D.C., polygon=[Point(x=4.3264, y=1.0933), Point(x=4.6177, y=1.0885), Point(x=4.6225, y=1.2604), Point(x=4.3312, y=1.2604)], span=DocumentSpan(offset=61, length=4), confidence=0.989), DocumentWord(content=20549, polygon=[Point(x=4.6511, y=1.0885), Point(x=5.0475, y=1.0838), Point(x=5.057, y=1.2556), Point(x=4.6559, y=1.2604)], span=DocumentSpan(offset=66, length=5), confidence=0.993), DocumentWord(content=FORM, polygon=[Point(x=3.7152, y=1.3941), Point(x=4.2261, y=1.3989), Point(x=4.2261, y=1.5898), Point(x=3.7152, y=1.5851)], span=DocumentSpan(offset=72, length=4), confidence=0.993), DocumentWord(content=10-Q, polygon=[Point(x=4.3694, y=1.3941), Point(x=4.7419, y=1.3893), Point(x=4.7371, y=1.5946), Point(x=4.3646, y=1.5898)], span=DocumentSpan(offset=77, length=4), confidence=0.993), DocumentWord(content=☒, polygon=[Point(x=0.6694, y=1.7746), Point(x=0.7764, y=1.7746), Point(x=0.7764, y=1.8833), Point(x=0.6694, y=1.8833)], span=DocumentSpan(offset=93, length=1), confidence=1.0), DocumentWord(content=QUARTERLY, polygon=[Point(x=0.9837, y=1.7522), Point(x=1.8433, y=1.7474), Point(x=1.848, y=1.9049), Point(x=0.9837, y=1.9002)], span=DocumentSpan(offset=95, length=9), confidence=0.994), DocumentWord(content=REPORT, polygon=[Point(x=1.8862, y=1.7474), Point(x=2.4688, y=1.7474), Point(x=2.4736, y=1.9097), Point(x=1.891, y=1.9049)], span=DocumentSpan(offset=105, length=6), confidence=0.995), DocumentWord(content=PURSUANT, polygon=[Point(x=2.5022, y=1.7474), Point(x=3.2902, y=1.7474), Point(x=3.2902, y=1.9145), Point(x=2.507, y=1.9097)], span=DocumentSpan(offset=112, length=8), confidence=0.994), DocumentWord(content=TO, polygon=[Point(x=3.3331, y=1.7474), Point(x=3.5051, y=1.7474), Point(x=3.5098, y=1.9145), Point(x=3.3331, y=1.9145)], span=DocumentSpan(offset=121, length=2), confidence=0.993), DocumentWord(content=SECTION, polygon=[Point(x=3.5719, y=1.7474), Point(x=4.1545, y=1.7474), Point(x=4.1545, y=1.9145), Point(x=3.5719, y=1.9145)], span=DocumentSpan(offset=124, length=7), confidence=0.995), DocumentWord(content=13, polygon=[Point(x=4.2404, y=1.7474), Point(x=4.3885, y=1.7474), Point(x=4.3933, y=1.9193), Point(x=4.2404, y=1.9193)], span=DocumentSpan(offset=132, length=2), confidence=0.995), DocumentWord(content=OR, polygon=[Point(x=4.4219, y=1.7474), Point(x=4.6177, y=1.7474), Point(x=4.6177, y=1.9193), Point(x=4.4267, y=1.9193)], span=DocumentSpan(offset=135, length=2), confidence=0.995), DocumentWord(content=15(d), polygon=[Point(x=4.6941, y=1.7474), Point(x=5.0284, y=1.7426), Point(x=5.0284, y=1.9193), Point(x=4.6941, y=1.9193)], span=DocumentSpan(offset=138, length=5), confidence=0.975), DocumentWord(content=OF, polygon=[Point(x=5.0618, y=1.7426), Point(x=5.2433, y=1.7474), Point(x=5.2433, y=1.9193), Point(x=5.0618, y=1.9193)], span=DocumentSpan(offset=144, length=2), confidence=0.997), DocumentWord(content=THE, polygon=[Point(x=5.2958, y=1.7474), Point(x=5.5537, y=1.7474), Point(x=5.5584, y=1.9193), Point(x=5.2958, y=1.9193)], span=DocumentSpan(offset=147, length=3), confidence=0.995), DocumentWord(content=SECURITIES, polygon=[Point(x=5.6205, y=1.7474), Point(x=6.4514, y=1.7474), Point(x=6.4514, y=1.9145), Point(x=5.6205, y=1.9193)], span=DocumentSpan(offset=151, length=10), confidence=0.993), DocumentWord(content=EXCHANGE, polygon=[Point(x=6.4848, y=1.7474), Point(x=7.2728, y=1.7474), Point(x=7.2728, y=1.9097), Point(x=6.4848, y=1.9145)], span=DocumentSpan(offset=162, length=8), confidence=0.994), DocumentWord(content=ACT, polygon=[Point(x=7.3253, y=1.7474), Point(x=7.6166, y=1.7474), Point(x=7.6166, y=1.9097), Point(x=7.3253, y=1.9097)], span=DocumentSpan(offset=171, length=3), confidence=0.995), DocumentWord(content=OF, polygon=[Point(x=7.65, y=1.7474), Point(x=7.841, y=1.7474), Point(x=7.841, y=1.9097), Point(x=7.65, y=1.9097)], span=DocumentSpan(offset=175, length=2), confidence=0.994), DocumentWord(content=1934, polygon=[Point(x=0.998, y=1.9336), Point(x=1.2893, y=1.9336), Point(x=1.2893, y=2.0625), Point(x=0.998, y=2.0625)], span=DocumentSpan(offset=178, length=4), confidence=0.993), DocumentWord(content=For, polygon=[Point(x=0.9837, y=2.1341), Point(x=1.1556, y=2.1341), Point(x=1.1556, y=2.2726), Point(x=0.9837, y=2.2726)], span=DocumentSpan(offset=183, length=3), confidence=0.996), DocumentWord(content=the, polygon=[Point(x=1.1843, y=2.1341), Point(x=1.3562, y=2.1341), Point(x=1.3562, y=2.2773), Point(x=1.1843, y=2.2726)], span=DocumentSpan(offset=187, length=3), confidence=0.996), DocumentWord(content=Quarterly, polygon=[Point(x=1.3848, y=2.1341), Point(x=1.8815, y=2.1341), Point(x=1.8815, y=2.2773), Point(x=1.3848, y=2.2773)], span=DocumentSpan(offset=191, length=9), confidence=0.991), DocumentWord(content=Period, polygon=[Point(x=1.9101, y=2.1341), Point(x=2.2587, y=2.1341), Point(x=2.2587, y=2.2773), Point(x=1.9101, y=2.2773)], span=DocumentSpan(offset=201, length=6), confidence=0.995), DocumentWord(content=Ended, polygon=[Point(x=2.2874, y=2.1341), Point(x=2.6264, y=2.1341), Point(x=2.6264, y=2.2773), Point(x=2.2874, y=2.2773)], span=DocumentSpan(offset=208, length=5), confidence=0.993), DocumentWord(content=March, polygon=[Point(x=2.6551, y=2.1341), Point(x=2.9846, y=2.1341), Point(x=2.9846, y=2.2773), Point(x=2.6551, y=2.2773)], span=DocumentSpan(offset=214, length=5), confidence=0.995), DocumentWord(content=31,, polygon=[Point(x=3.0228, y=2.1341), Point(x=3.1803, y=2.1341), Point(x=3.1803, y=2.2726), Point(x=3.0228, y=2.2773)], span=DocumentSpan(offset=220, length=3), confidence=0.995), DocumentWord(content=2020, polygon=[Point(x=3.209, y=2.1341), Point(x=3.4573, y=2.1341), Point(x=3.4573, y=2.2726), Point(x=3.209, y=2.2726)], span=DocumentSpan(offset=224, length=4), confidence=0.992), DocumentWord(content=OR, polygon=[Point(x=4.1402, y=2.2726), Point(x=4.3264, y=2.2726), Point(x=4.3264, y=2.4158), Point(x=4.1354, y=2.411)], span=DocumentSpan(offset=229, length=2), confidence=0.995), DocumentWord(content=☐, polygon=[Point(x=0.6694, y=2.6955), Point(x=0.777, y=2.6955), Point(x=0.777, y=2.8042), Point(x=0.6694, y=2.8042)], span=DocumentSpan(offset=245, length=1), confidence=1.0), DocumentWord(content=TRANSITION, polygon=[Point(x=0.9837, y=2.6736), Point(x=1.8051, y=2.6688), Point(x=1.8098, y=2.8264), Point(x=0.9885, y=2.8216)], span=DocumentSpan(offset=247, length=10), confidence=0.994), DocumentWord(content=REPORT, polygon=[Point(x=1.8719, y=2.6688), Point(x=2.4593, y=2.6688), Point(x=2.464, y=2.8312), Point(x=1.8767, y=2.8312)], span=DocumentSpan(offset=258, length=6), confidence=0.995), DocumentWord(content=PURSUANT, polygon=[Point(x=2.4879, y=2.6688), Point(x=3.2806, y=2.6688), Point(x=3.2854, y=2.8359), Point(x=2.4927, y=2.8312)], span=DocumentSpan(offset=265, length=8), confidence=0.994), DocumentWord(content=TO, polygon=[Point(x=3.3236, y=2.6688), Point(x=3.486, y=2.6688), Point(x=3.4907, y=2.8359), Point(x=3.3284, y=2.8359)], span=DocumentSpan(offset=274, length=2), confidence=0.996), DocumentWord(content=SECTION, polygon=[Point(x=3.5576, y=2.6688), Point(x=4.1449, y=2.6688), Point(x=4.1497, y=2.8359), Point(x=3.5624, y=2.8359)], span=DocumentSpan(offset=277, length=7), confidence=0.994), DocumentWord(content=13, polygon=[Point(x=4.2309, y=2.6688), Point(x=4.3837, y=2.6688), Point(x=4.3885, y=2.8359), Point(x=4.2357, y=2.8359)], span=DocumentSpan(offset=285, length=2), confidence=0.995), DocumentWord(content=OR, polygon=[Point(x=4.4124, y=2.6688), Point(x=4.6081, y=2.6688), Point(x=4.6129, y=2.8359), Point(x=4.4171, y=2.8359)], span=DocumentSpan(offset=288, length=2), confidence=0.969), DocumentWord(content=15(d), polygon=[Point(x=4.6798, y=2.6688), Point(x=5.014, y=2.6688), Point(x=5.0188, y=2.8359), Point(x=4.6846, y=2.8359)], span=DocumentSpan(offset=291, length=5), confidence=0.992), DocumentWord(content=OF, polygon=[Point(x=5.0475, y=2.6688), Point(x=5.2385, y=2.6688), Point(x=5.2433, y=2.8359), Point(x=5.0475, y=2.8359)], span=DocumentSpan(offset=297, length=2), confidence=0.996), DocumentWord(content=THE, polygon=[Point(x=5.291, y=2.6688), Point(x=5.5584, y=2.6688), Point(x=5.5632, y=2.8359), Point(x=5.2958, y=2.8359)], span=DocumentSpan(offset=300, length=3), confidence=0.996), DocumentWord(content=SECURITIES, polygon=[Point(x=5.611, y=2.6688), Point(x=6.4466, y=2.6688), Point(x=6.4514, y=2.8359), Point(x=5.6157, y=2.8359)], span=DocumentSpan(offset=304, length=10), confidence=0.994), DocumentWord(content=EXCHANGE, polygon=[Point(x=6.4896, y=2.6688), Point(x=7.268, y=2.6688), Point(x=7.2728, y=2.8312), Point(x=6.4944, y=2.8359)], span=DocumentSpan(offset=315, length=8), confidence=0.985), DocumentWord(content=ACT, polygon=[Point(x=7.3253, y=2.6688), Point(x=7.6213, y=2.6688), Point(x=7.6261, y=2.8312), Point(x=7.3253, y=2.8312)], span=DocumentSpan(offset=324, length=3), confidence=0.963), DocumentWord(content=OF, polygon=[Point(x=7.6548, y=2.6688), Point(x=7.8458, y=2.6736), Point(x=7.8506, y=2.8312), Point(x=7.6596, y=2.8312)], span=DocumentSpan(offset=328, length=2), confidence=0.996), DocumentWord(content=1934, polygon=[Point(x=0.998, y=2.855), Point(x=1.2941, y=2.855), Point(x=1.2941, y=2.9935), Point(x=0.998, y=2.9935)], span=DocumentSpan(offset=331, length=4), confidence=0.993), DocumentWord(content=For, polygon=[Point(x=0.9742, y=3.0556), Point(x=1.1508, y=3.0556), Point(x=1.1556, y=3.194), Point(x=0.9789, y=3.1892)], span=DocumentSpan(offset=336, length=3), confidence=0.997), DocumentWord(content=the, polygon=[Point(x=1.1795, y=3.0556), Point(x=1.361, y=3.0556), Point(x=1.361, y=3.194), Point(x=1.1843, y=3.194)], span=DocumentSpan(offset=340, length=3), confidence=0.996), DocumentWord(content=Transition, polygon=[Point(x=1.3944, y=3.0556), Point(x=1.9197, y=3.0556), Point(x=1.9197, y=3.1988), Point(x=1.3992, y=3.194)], span=DocumentSpan(offset=344, length=10), confidence=0.991), DocumentWord(content=Period, polygon=[Point(x=1.9579, y=3.0556), Point(x=2.3065, y=3.0603), Point(x=2.3112, y=3.194), Point(x=1.9579, y=3.1988)], span=DocumentSpan(offset=355, length=6), confidence=0.995), DocumentWord(content=From, polygon=[Point(x=2.3351, y=3.0603), Point(x=2.5787, y=3.0603), Point(x=2.5787, y=3.194), Point(x=2.3351, y=3.194)], span=DocumentSpan(offset=362, length=4), confidence=0.993), DocumentWord(content=to, polygon=[Point(x=3.166, y=3.0747), Point(x=3.2615, y=3.0747), Point(x=3.2615, y=3.1654), Point(x=3.166, y=3.1654)], span=DocumentSpan(offset=367, length=2), confidence=0.996), DocumentWord(content=Commission, polygon=[Point(x=3.2281, y=3.2513), Point(x=3.9301, y=3.2465), Point(x=3.9301, y=3.385), Point(x=3.2281, y=3.3802)], span=DocumentSpan(offset=370, length=10), confidence=0.99), DocumentWord(content=File, polygon=[Point(x=3.9683, y=3.2465), Point(x=4.1688, y=3.2418), Point(x=4.1688, y=3.385), Point(x=3.9683, y=3.385)], span=DocumentSpan(offset=381, length=4), confidence=0.993), DocumentWord(content=Number, polygon=[Point(x=4.1975, y=3.2418), Point(x=4.6607, y=3.2418), Point(x=4.6607, y=3.385), Point(x=4.1975, y=3.385)], span=DocumentSpan(offset=386, length=6), confidence=0.991), DocumentWord(content=001-37845, polygon=[Point(x=4.6893, y=3.2418), Point(x=5.2624, y=3.2418), Point(x=5.2624, y=3.3802), Point(x=4.6893, y=3.385)], span=DocumentSpan(offset=393, length=9), confidence=0.994), DocumentWord(content=MICROSOFT, polygon=[Point(x=2.5357, y=3.5473), Point(x=4.0112, y=3.5378), Point(x=4.0065, y=3.7813), Point(x=2.5261, y=3.7717)], span=DocumentSpan(offset=403, length=9), confidence=0.993), DocumentWord(content=CORPORATION, polygon=[Point(x=4.102, y=3.5378), Point(x=5.8975, y=3.5378), Point(x=5.8975, y=3.7669), Point(x=4.102, y=3.7813)], span=DocumentSpan(offset=413, length=11), confidence=0.993), DocumentWord(content=WASHINGTON, polygon=[Point(x=1.9913, y=3.9436), Point(x=2.7888, y=3.934), Point(x=2.7888, y=4.0725), Point(x=1.9913, y=4.0629)], span=DocumentSpan(offset=425, length=10), confidence=0.995), DocumentWord(content=(STATE, polygon=[Point(x=1.6952, y=4.0868), Point(x=2.0534, y=4.082), Point(x=2.0534, y=4.2014), Point(x=1.7, y=4.2062)], span=DocumentSpan(offset=436, length=6), confidence=0.994), DocumentWord(content=OF, polygon=[Point(x=2.082, y=4.082), Point(x=2.211, y=4.082), Point(x=2.211, y=4.2014), Point(x=2.0868, y=4.2014)], span=DocumentSpan(offset=443, length=2), confidence=0.996), DocumentWord(content=INCORPORATION), polygon=[Point(x=2.2348, y=4.082), Point(x=3.1135, y=4.082), Point(x=3.1135, y=4.2062), Point(x=2.2348, y=4.2014)], span=DocumentSpan(offset=446, length=14), confidence=0.991), DocumentWord(content=91-1144442, polygon=[Point(x=5.7685, y=3.9388), Point(x=6.4084, y=3.9436), Point(x=6.4132, y=4.0677), Point(x=5.7733, y=4.0677)], span=DocumentSpan(offset=461, length=10), confidence=0.993), DocumentWord(content=(I.R.S., polygon=[Point(x=5.8593, y=4.0916), Point(x=6.1458, y=4.0868), Point(x=6.1458, y=4.2062), Point(x=5.864, y=4.2014)], span=DocumentSpan(offset=472, length=7), confidence=0.942), DocumentWord(content=ID), polygon=[Point(x=6.1649, y=4.0868), Point(x=6.3081, y=4.0868), Point(x=6.3081, y=4.2062), Point(x=6.1697, y=4.2062)], span=DocumentSpan(offset=480, length=3), confidence=0.995), DocumentWord(content=ONE, polygon=[Point(x=2.5834, y=4.2539), Point(x=2.8126, y=4.2539), Point(x=2.8126, y=4.3876), Point(x=2.5834, y=4.3828)], span=DocumentSpan(offset=484, length=3), confidence=0.997), DocumentWord(content=MICROSOFT, polygon=[Point(x=2.8413, y=4.2539), Point(x=3.5242, y=4.2539), Point(x=3.5242, y=4.3924), Point(x=2.8413, y=4.3876)], span=DocumentSpan(offset=488, length=9), confidence=0.993), DocumentWord(content=WAY,, polygon=[Point(x=3.548, y=4.2539), Point(x=3.8393, y=4.2539), Point(x=3.8393, y=4.3924), Point(x=3.548, y=4.3924)], span=DocumentSpan(offset=498, length=4), confidence=0.982), DocumentWord(content=REDMOND,, polygon=[Point(x=3.8632, y=4.2539), Point(x=4.4792, y=4.2539), Point(x=4.4744, y=4.3924), Point(x=3.8632, y=4.3924)], span=DocumentSpan(offset=503, length=8), confidence=0.993), DocumentWord(content=WASHINGTON, polygon=[Point(x=4.5031, y=4.2539), Point(x=5.2671, y=4.2539), Point(x=5.2624, y=4.3876), Point(x=4.5031, y=4.3924)], span=DocumentSpan(offset=512, length=10), confidence=0.992), DocumentWord(content=98052-6399, polygon=[Point(x=5.3101, y=4.2539), Point(x=5.9118, y=4.2539), Point(x=5.9118, y=4.378), Point(x=5.3053, y=4.3876)], span=DocumentSpan(offset=523, length=10), confidence=0.961), DocumentWord(content=(425), polygon=[Point(x=3.8537, y=4.3876), Point(x=4.1258, y=4.3924), Point(x=4.1306, y=4.5213), Point(x=3.8584, y=4.5213)], span=DocumentSpan(offset=534, length=5), confidence=0.964), DocumentWord(content=882-8080, polygon=[Point(x=4.1545, y=4.3924), Point(x=4.6272, y=4.3924), Point(x=4.6272, y=4.5165), Point(x=4.1545, y=4.5213)], span=DocumentSpan(offset=540, length=8), confidence=0.993), DocumentWord(content=www.microsoft.com/investor, polygon=[Point(x=3.4716, y=4.526), Point(x=5.0188, y=4.526), Point(x=5.0188, y=4.6502), Point(x=3.4764, y=4.6502)], span=DocumentSpan(offset=549, length=26), confidence=0.961), DocumentWord(content=Securities, polygon=[Point(x=0.6256, y=4.7218), Point(x=1.1365, y=4.7218), Point(x=1.1365, y=4.8602), Point(x=0.6256, y=4.8555)], span=DocumentSpan(offset=576, length=10), confidence=0.979), DocumentWord(content=registered, polygon=[Point(x=1.1604, y=4.7218), Point(x=1.6904, y=4.717), Point(x=1.6952, y=4.8602), Point(x=1.1652, y=4.8602)], span=DocumentSpan(offset=587, length=10), confidence=0.987), DocumentWord(content=pursuant, polygon=[Point(x=1.7191, y=4.717), Point(x=2.1871, y=4.717), Point(x=2.1871, y=4.8602), Point(x=1.7239, y=4.8602)], span=DocumentSpan(offset=598, length=8), confidence=0.991), DocumentWord(content=to, polygon=[Point(x=2.211, y=4.717), Point(x=2.3256, y=4.717), Point(x=2.3256, y=4.8602), Point(x=2.2157, y=4.8602)], span=DocumentSpan(offset=607, length=2), confidence=0.995), DocumentWord(content=Section, polygon=[Point(x=2.3638, y=4.717), Point(x=2.7506, y=4.717), Point(x=2.7553, y=4.8602), Point(x=2.3638, y=4.8602)], span=DocumentSpan(offset=610, length=7), confidence=0.991), DocumentWord(content=12(b), polygon=[Point(x=2.7888, y=4.717), Point(x=3.061, y=4.717), Point(x=3.061, y=4.8602), Point(x=2.7935, y=4.8602)], span=DocumentSpan(offset=618, length=5), confidence=0.993), DocumentWord(content=of, polygon=[Point(x=3.0848, y=4.717), Point(x=3.1803, y=4.717), Point(x=3.1803, y=4.8602), Point(x=3.0896, y=4.8602)], span=DocumentSpan(offset=624, length=2), confidence=0.995), DocumentWord(content=the, polygon=[Point(x=3.209, y=4.717), Point(x=3.3857, y=4.717), Point(x=3.3857, y=4.8555), Point(x=3.209, y=4.8602)], span=DocumentSpan(offset=627, length=3), confidence=0.995), DocumentWord(content=Act:, polygon=[Point(x=3.4143, y=4.717), Point(x=3.6292, y=4.717), Point(x=3.6292, y=4.8555), Point(x=3.4143, y=4.8555)], span=DocumentSpan(offset=631, length=4), confidence=0.982), DocumentWord(content=Title, polygon=[Point(x=0.6351, y=4.951), Point(x=0.8452, y=4.951), Point(x=0.85, y=5.0751), Point(x=0.6351, y=5.0751)], span=DocumentSpan(offset=636, length=5), confidence=0.993), DocumentWord(content=of, polygon=[Point(x=0.8691, y=4.951), Point(x=0.9837, y=4.951), Point(x=0.9885, y=5.0751), Point(x=0.8739, y=5.0751)], span=DocumentSpan(offset=642, length=2), confidence=0.992), DocumentWord(content=each, polygon=[Point(x=1.0124, y=4.951), Point(x=1.2559, y=4.951), Point(x=1.2559, y=5.0751), Point(x=1.0124, y=5.0751)], span=DocumentSpan(offset=645, length=4), confidence=0.993), DocumentWord(content=class, polygon=[Point(x=1.2989, y=4.951), Point(x=1.5711, y=4.951), Point(x=1.5711, y=5.0799), Point(x=1.2989, y=5.0751)], span=DocumentSpan(offset=650, length=5), confidence=0.995), DocumentWord(content=Trading, polygon=[Point(x=4.3407, y=4.951), Point(x=4.7419, y=4.9462), Point(x=4.7419, y=5.0894), Point(x=4.3407, y=5.0846)], span=DocumentSpan(offset=656, length=7), confidence=0.993), DocumentWord(content=Symbol, polygon=[Point(x=4.7801, y=4.9462), Point(x=5.1764, y=4.951), Point(x=5.1764, y=5.0894), Point(x=4.7801, y=5.0894)], span=DocumentSpan(offset=664, length=6), confidence=0.994), DocumentWord(content=Name, polygon=[Point(x=5.5632, y=4.951), Point(x=5.8927, y=4.951), Point(x=5.8927, y=5.0846), Point(x=5.5632, y=5.0799)], span=DocumentSpan(offset=671, length=4), confidence=0.993), DocumentWord(content=of, polygon=[Point(x=5.9213, y=4.951), Point(x=6.0216, y=4.951), Point(x=6.0216, y=5.0894), Point(x=5.9213, y=5.0846)], span=DocumentSpan(offset=676, length=2), confidence=0.995), DocumentWord(content=exchange, polygon=[Point(x=6.0503, y=4.951), Point(x=6.5708, y=4.951), Point(x=6.5708, y=5.0942), Point(x=6.0503, y=5.0894)], span=DocumentSpan(offset=679, length=8), confidence=0.994), DocumentWord(content=on, polygon=[Point(x=6.5994, y=4.951), Point(x=6.7284, y=4.951), Point(x=6.7284, y=5.0942), Point(x=6.5994, y=5.0942)], span=DocumentSpan(offset=688, length=2), confidence=0.997), DocumentWord(content=which, polygon=[Point(x=6.757, y=4.951), Point(x=7.0579, y=4.951), Point(x=7.0579, y=5.0942), Point(x=6.757, y=5.0942)], span=DocumentSpan(offset=691, length=5), confidence=0.995), DocumentWord(content=registered, polygon=[Point(x=7.0865, y=4.951), Point(x=7.6309, y=4.9462), Point(x=7.6309, y=5.0894), Point(x=7.0865, y=5.0942)], span=DocumentSpan(offset=697, length=10), confidence=0.993), DocumentWord(content=Common, polygon=[Point(x=0.6256, y=5.1563), Point(x=1.127, y=5.1515), Point(x=1.127, y=5.2852), Point(x=0.6256, y=5.2804)], span=DocumentSpan(offset=708, length=6), confidence=0.995), DocumentWord(content=stock,, polygon=[Point(x=1.1652, y=5.1515), Point(x=1.509, y=5.1515), Point(x=1.509, y=5.2899), Point(x=1.1652, y=5.2852)], span=DocumentSpan(offset=715, length=6), confidence=0.993), DocumentWord(content=$0.00000625, polygon=[Point(x=1.5376, y=5.1515), Point(x=2.2301, y=5.1515), Point(x=2.2301, y=5.2947), Point(x=1.5376, y=5.2899)], span=DocumentSpan(offset=722, length=11), confidence=0.994), DocumentWord(content=par, polygon=[Point(x=2.2539, y=5.1515), Point(x=2.4449, y=5.1515), Point(x=2.4497, y=5.2947), Point(x=2.2587, y=5.2947)], span=DocumentSpan(offset=734, length=3), confidence=0.996), DocumentWord(content=value, polygon=[Point(x=2.4736, y=5.1515), Point(x=2.784, y=5.1515), Point(x=2.784, y=5.2947), Point(x=2.4736, y=5.2947)], span=DocumentSpan(offset=738, length=5), confidence=0.995), DocumentWord(content=per, polygon=[Point(x=2.8126, y=5.1515), Point(x=3.0037, y=5.1563), Point(x=3.0037, y=5.2947), Point(x=2.8126, y=5.2947)], span=DocumentSpan(offset=744, length=3), confidence=0.996), DocumentWord(content=share, polygon=[Point(x=3.0275, y=5.1563), Point(x=3.3475, y=5.1563), Point(x=3.3522, y=5.2947), Point(x=3.0323, y=5.2947)], span=DocumentSpan(offset=748, length=5), confidence=0.995), DocumentWord(content=MSFT, polygon=[Point(x=4.5795, y=5.161), Point(x=4.9138, y=5.1563), Point(x=4.9138, y=5.2756), Point(x=4.5795, y=5.2756)], span=DocumentSpan(offset=754, length=4), confidence=0.99), DocumentWord(content=NASDAQ, polygon=[Point(x=6.3368, y=5.1419), Point(x=6.843, y=5.1372), Point(x=6.843, y=5.2995), Point(x=6.3368, y=5.2995)], span=DocumentSpan(offset=759, length=6), confidence=0.993), DocumentWord(content=2.125%, polygon=[Point(x=0.6303, y=5.3138), Point(x=1.0219, y=5.3138), Point(x=1.0219, y=5.4379), Point(x=0.6303, y=5.4427)], span=DocumentSpan(offset=766, length=6), confidence=0.987), DocumentWord(content=Notes, polygon=[Point(x=1.0458, y=5.3138), Point(x=1.3896, y=5.309), Point(x=1.3848, y=5.4379), Point(x=1.0458, y=5.4379)], span=DocumentSpan(offset=773, length=5), confidence=0.994), DocumentWord(content=due, polygon=[Point(x=1.4135, y=5.309), Point(x=1.6284, y=5.309), Point(x=1.6236, y=5.4427), Point(x=1.4135, y=5.4379)], span=DocumentSpan(offset=779, length=3), confidence=0.995), DocumentWord(content=2021, polygon=[Point(x=1.6713, y=5.309), Point(x=1.9292, y=5.309), Point(x=1.9244, y=5.4475), Point(x=1.6666, y=5.4427)], span=DocumentSpan(offset=783, length=4), confidence=0.991), DocumentWord(content=MSFT, polygon=[Point(x=4.5795, y=5.309), Point(x=4.9138, y=5.309), Point(x=4.9138, y=5.4332), Point(x=4.5795, y=5.4332)], span=DocumentSpan(offset=788, length=4), confidence=0.99), DocumentWord(content=NASDAQ, polygon=[Point(x=6.3368, y=5.3138), Point(x=6.8382, y=5.309), Point(x=6.8382, y=5.4427), Point(x=6.3416, y=5.4332)], span=DocumentSpan(offset=793, length=6), confidence=0.995), DocumentWord(content=3.125%, polygon=[Point(x=0.6256, y=5.4809), Point(x=1.0219, y=5.4761), Point(x=1.0219, y=5.6003), Point(x=0.6256, y=5.6003)], span=DocumentSpan(offset=800, length=6), confidence=0.994), DocumentWord(content=Notes, polygon=[Point(x=1.0458, y=5.4761), Point(x=1.3896, y=5.4761), Point(x=1.3896, y=5.6003), Point(x=1.0506, y=5.6003)], span=DocumentSpan(offset=807, length=5), confidence=0.993), DocumentWord(content=due, polygon=[Point(x=1.4135, y=5.4761), Point(x=1.6236, y=5.4761), Point(x=1.6236, y=5.6003), Point(x=1.4135, y=5.6003)], span=DocumentSpan(offset=813, length=3), confidence=0.99), DocumentWord(content=2028, polygon=[Point(x=1.6618, y=5.4761), Point(x=1.9244, y=5.4714), Point(x=1.9197, y=5.605), Point(x=1.6618, y=5.6003)], span=DocumentSpan(offset=817, length=4), confidence=0.982), DocumentWord(content=MSFT, polygon=[Point(x=4.5795, y=5.4714), Point(x=4.909, y=5.4714), Point(x=4.909, y=5.5907), Point(x=4.5795, y=5.5907)], span=DocumentSpan(offset=822, length=4), confidence=0.99), DocumentWord(content=NASDAQ, polygon=[Point(x=6.3416, y=5.4761), Point(x=6.8382, y=5.4761), Point(x=6.8382, y=5.6003), Point(x=6.3416, y=5.5955)], span=DocumentSpan(offset=827, length=6), confidence=0.995), DocumentWord(content=2.625%, polygon=[Point(x=0.6256, y=5.6337), Point(x=1.0267, y=5.6337), Point(x=1.0315, y=5.7578), Point(x=0.6351, y=5.7626)], span=DocumentSpan(offset=834, length=6), confidence=0.995), DocumentWord(content=Notes, polygon=[Point(x=1.0506, y=5.6337), Point(x=1.3801, y=5.6337), Point(x=1.3848, y=5.7578), Point(x=1.0553, y=5.7578)], span=DocumentSpan(offset=841, length=5), confidence=0.994), DocumentWord(content=due, polygon=[Point(x=1.4135, y=5.6337), Point(x=1.6284, y=5.6337), Point(x=1.6284, y=5.7578), Point(x=1.4183, y=5.7578)], span=DocumentSpan(offset=847, length=3), confidence=0.995), DocumentWord(content=2033, polygon=[Point(x=1.6713, y=5.6337), Point(x=1.9292, y=5.6289), Point(x=1.9292, y=5.7626), Point(x=1.6713, y=5.7578)], span=DocumentSpan(offset=851, length=4), confidence=0.993), DocumentWord(content=MSFT, polygon=[Point(x=4.5747, y=5.6146), Point(x=4.9281, y=5.6146), Point(x=4.9281, y=5.7674), Point(x=4.5747, y=5.7674)], span=DocumentSpan(offset=856, length=4), confidence=0.987), DocumentWord(content=NASDAQ, polygon=[Point(x=6.3416, y=5.6385), Point(x=6.8382, y=5.6337), Point(x=6.8382, y=5.7578), Point(x=6.3463, y=5.753)], span=DocumentSpan(offset=861, length=6), confidence=0.995), DocumentWord(content=Securities, polygon=[Point(x=0.6256, y=5.8294), Point(x=1.1365, y=5.8247), Point(x=1.1365, y=5.9679), Point(x=0.6303, y=5.9631)], span=DocumentSpan(offset=868, length=10), confidence=0.964), DocumentWord(content=registered, polygon=[Point(x=1.1652, y=5.8247), Point(x=1.6904, y=5.8247), Point(x=1.6952, y=5.9679), Point(x=1.1652, y=5.9679)], span=DocumentSpan(offset=879, length=10), confidence=0.981), DocumentWord(content=pursuant, polygon=[Point(x=1.7191, y=5.8247), Point(x=2.1823, y=5.8247), Point(x=2.1823, y=5.9679), Point(x=1.7191, y=5.9679)], span=DocumentSpan(offset=890, length=8), confidence=0.988), DocumentWord(content=to, polygon=[Point(x=2.211, y=5.8247), Point(x=2.3303, y=5.8247), Point(x=2.3303, y=5.9679), Point(x=2.211, y=5.9679)], span=DocumentSpan(offset=899, length=2), confidence=0.995), DocumentWord(content=Section, polygon=[Point(x=2.359, y=5.8247), Point(x=2.7458, y=5.8247), Point(x=2.7458, y=5.9679), Point(x=2.359, y=5.9679)], span=DocumentSpan(offset=902, length=7), confidence=0.991), DocumentWord(content=12(g), polygon=[Point(x=2.7935, y=5.8247), Point(x=3.061, y=5.8247), Point(x=3.061, y=5.9679), Point(x=2.7935, y=5.9679)], span=DocumentSpan(offset=910, length=5), confidence=0.933), DocumentWord(content=of, polygon=[Point(x=3.0896, y=5.8247), Point(x=3.1803, y=5.8247), Point(x=3.1803, y=5.9679), Point(x=3.0896, y=5.9679)], span=DocumentSpan(offset=916, length=2), confidence=0.995), DocumentWord(content=the, polygon=[Point(x=3.209, y=5.8247), Point(x=3.3857, y=5.8247), Point(x=3.3857, y=5.9631), Point(x=3.209, y=5.9679)], span=DocumentSpan(offset=919, length=3), confidence=0.995), DocumentWord(content=Act:, polygon=[Point(x=3.4143, y=5.8247), Point(x=3.6292, y=5.8247), Point(x=3.6292, y=5.9631), Point(x=3.4143, y=5.9631)], span=DocumentSpan(offset=923, length=4), confidence=0.983), DocumentWord(content=NONE, polygon=[Point(x=0.6112, y=6.0586), Point(x=0.9598, y=6.0538), Point(x=0.9598, y=6.1827), Point(x=0.6208, y=6.178)], span=DocumentSpan(offset=928, length=4), confidence=0.993), DocumentWord(content=Indicate, polygon=[Point(x=0.6303, y=6.2496), Point(x=1.0553, y=6.2496), Point(x=1.0553, y=6.3832), Point(x=0.6351, y=6.3832)], span=DocumentSpan(offset=933, length=8), confidence=0.961), DocumentWord(content=by, polygon=[Point(x=1.084, y=6.2496), Point(x=1.2129, y=6.2496), Point(x=1.2129, y=6.3832), Point(x=1.084, y=6.3832)], span=DocumentSpan(offset=942, length=2), confidence=0.995), DocumentWord(content=check, polygon=[Point(x=1.2368, y=6.2496), Point(x=1.5424, y=6.2496), Point(x=1.5472, y=6.3832), Point(x=1.2416, y=6.3832)], span=DocumentSpan(offset=945, length=5), confidence=0.994), DocumentWord(content=mark, polygon=[Point(x=1.5711, y=6.2496), Point(x=1.8385, y=6.2496), Point(x=1.8385, y=6.388), Point(x=1.5711, y=6.3832)], span=DocumentSpan(offset=951, length=4), confidence=0.992), DocumentWord(content=whether, polygon=[Point(x=1.8671, y=6.2496), Point(x=2.2874, y=6.2448), Point(x=2.2921, y=6.388), Point(x=1.8671, y=6.388)], span=DocumentSpan(offset=956, length=7), confidence=0.993), DocumentWord(content=the, polygon=[Point(x=2.316, y=6.2448), Point(x=2.4831, y=6.2448), Point(x=2.4831, y=6.388), Point(x=2.3208, y=6.388)], span=DocumentSpan(offset=964, length=3), confidence=0.995), DocumentWord(content=registrant, polygon=[Point(x=2.5118, y=6.2448), Point(x=3.018, y=6.2448), Point(x=3.018, y=6.388), Point(x=2.5118, y=6.388)], span=DocumentSpan(offset=968, length=10), confidence=0.982), DocumentWord(content=(1), polygon=[Point(x=3.0466, y=6.2448), Point(x=3.1851, y=6.2448), Point(x=3.1851, y=6.388), Point(x=3.0466, y=6.388)], span=DocumentSpan(offset=979, length=3), confidence=0.995), DocumentWord(content=has, polygon=[Point(x=3.209, y=6.2448), Point(x=3.4143, y=6.2448), Point(x=3.4143, y=6.388), Point(x=3.2138, y=6.388)], span=DocumentSpan(offset=983, length=3), confidence=0.995), DocumentWord(content=filed, polygon=[Point(x=3.443, y=6.2448), Point(x=3.6626, y=6.2448), Point(x=3.6626, y=6.388), Point(x=3.443, y=6.388)], span=DocumentSpan(offset=987, length=5), confidence=0.994), DocumentWord(content=all, polygon=[Point(x=3.6913, y=6.2448), Point(x=3.8107, y=6.2448), Point(x=3.8107, y=6.388), Point(x=3.6913, y=6.388)], span=DocumentSpan(offset=993, length=3), confidence=0.963), DocumentWord(content=reports, polygon=[Point(x=3.8393, y=6.2448), Point(x=4.207, y=6.2448), Point(x=4.207, y=6.388), Point(x=3.8393, y=6.388)], span=DocumentSpan(offset=997, length=7), confidence=0.989), DocumentWord(content=required, polygon=[Point(x=4.2357, y=6.2448), Point(x=4.675, y=6.2448), Point(x=4.6798, y=6.388), Point(x=4.2357, y=6.388)], span=DocumentSpan(offset=1005, length=8), confidence=0.992), DocumentWord(content=to, polygon=[Point(x=4.7037, y=6.2448), Point(x=4.8039, y=6.2448), Point(x=4.8087, y=6.388), Point(x=4.7037, y=6.388)], span=DocumentSpan(offset=1014, length=2), confidence=0.995), DocumentWord(content=be, polygon=[Point(x=4.8326, y=6.2448), Point(x=4.9615, y=6.2448), Point(x=4.9663, y=6.388), Point(x=4.8374, y=6.388)], span=DocumentSpan(offset=1017, length=2), confidence=0.995), DocumentWord(content=filed, polygon=[Point(x=4.9902, y=6.2448), Point(x=5.2194, y=6.2448), Point(x=5.2242, y=6.388), Point(x=4.9902, y=6.388)], span=DocumentSpan(offset=1020, length=5), confidence=0.99), DocumentWord(content=by, polygon=[Point(x=5.248, y=6.2448), Point(x=5.3865, y=6.2448), Point(x=5.3865, y=6.388), Point(x=5.248, y=6.388)], span=DocumentSpan(offset=1026, length=2), confidence=0.995), DocumentWord(content=Section, polygon=[Point(x=5.4152, y=6.2448), Point(x=5.802, y=6.2448), Point(x=5.802, y=6.388), Point(x=5.4152, y=6.388)], span=DocumentSpan(offset=1029, length=7), confidence=0.993), DocumentWord(content=13, polygon=[Point(x=5.8497, y=6.2448), Point(x=5.9691, y=6.2448), Point(x=5.9691, y=6.388), Point(x=5.8497, y=6.388)], span=DocumentSpan(offset=1037, length=2), confidence=0.995), DocumentWord(content=or, polygon=[Point(x=5.9978, y=6.2448), Point(x=6.1171, y=6.2448), Point(x=6.1171, y=6.388), Point(x=5.9978, y=6.388)], span=DocumentSpan(offset=1040, length=2), confidence=0.995), DocumentWord(content=15(d), polygon=[Point(x=6.141, y=6.2448), Point(x=6.4084, y=6.2448), Point(x=6.4084, y=6.388), Point(x=6.1458, y=6.388)], span=DocumentSpan(offset=1043, length=5), confidence=0.986), DocumentWord(content=of, polygon=[Point(x=6.4371, y=6.2448), Point(x=6.5278, y=6.2448), Point(x=6.5326, y=6.388), Point(x=6.4371, y=6.388)], span=DocumentSpan(offset=1049, length=2), confidence=0.983), DocumentWord(content=the, polygon=[Point(x=6.5565, y=6.2448), Point(x=6.7427, y=6.2448), Point(x=6.7427, y=6.388), Point(x=6.5565, y=6.388)], span=DocumentSpan(offset=1052, length=3), confidence=0.994), DocumentWord(content=Securities, polygon=[Point(x=6.7713, y=6.2448), Point(x=7.2871, y=6.2448), Point(x=7.2871, y=6.388), Point(x=6.7713, y=6.388)], span=DocumentSpan(offset=1056, length=10), confidence=0.986), DocumentWord(content=Exchange, polygon=[Point(x=7.3157, y=6.2448), Point(x=7.8506, y=6.2448), Point(x=7.8506, y=6.388), Point(x=7.3157, y=6.388)], span=DocumentSpan(offset=1067, length=8), confidence=0.994), DocumentWord(content=Act, polygon=[Point(x=0.6447, y=6.388), Point(x=0.8213, y=6.388), Point(x=0.8261, y=6.5265), Point(x=0.6494, y=6.5265)], span=DocumentSpan(offset=1076, length=3), confidence=0.995), DocumentWord(content=of, polygon=[Point(x=0.85, y=6.388), Point(x=0.9694, y=6.388), Point(x=0.9742, y=6.5265), Point(x=0.85, y=6.5265)], span=DocumentSpan(offset=1080, length=2), confidence=0.995), DocumentWord(content=1934, polygon=[Point(x=0.998, y=6.388), Point(x=1.2559, y=6.388), Point(x=1.2559, y=6.5265), Point(x=1.0028, y=6.5265)], span=DocumentSpan(offset=1083, length=4), confidence=0.991), DocumentWord(content=during, polygon=[Point(x=1.2893, y=6.388), Point(x=1.6236, y=6.388), Point(x=1.6284, y=6.5217), Point(x=1.2941, y=6.5265)], span=DocumentSpan(offset=1088, length=6), confidence=0.994), DocumentWord(content=the, polygon=[Point(x=1.6522, y=6.388), Point(x=1.8289, y=6.388), Point(x=1.8289, y=6.5217), Point(x=1.6522, y=6.5217)], span=DocumentSpan(offset=1095, length=3), confidence=0.995), DocumentWord(content=preceding, polygon=[Point(x=1.8576, y=6.388), Point(x=2.3876, y=6.388), Point(x=2.3876, y=6.5217), Point(x=1.8576, y=6.5217)], span=DocumentSpan(offset=1099, length=9), confidence=0.993), DocumentWord(content=12, polygon=[Point(x=2.4402, y=6.388), Point(x=2.5548, y=6.388), Point(x=2.5548, y=6.5217), Point(x=2.4402, y=6.5217)], span=DocumentSpan(offset=1109, length=2), confidence=0.995), DocumentWord(content=months, polygon=[Point(x=2.5787, y=6.388), Point(x=2.9846, y=6.3928), Point(x=2.9893, y=6.5217), Point(x=2.5834, y=6.5217)], span=DocumentSpan(offset=1112, length=6), confidence=0.995), DocumentWord(content=(or, polygon=[Point(x=3.0132, y=6.3928), Point(x=3.1708, y=6.3928), Point(x=3.1756, y=6.5217), Point(x=3.0132, y=6.5217)], span=DocumentSpan(offset=1119, length=3), confidence=0.995), DocumentWord(content=for, polygon=[Point(x=3.1994, y=6.3928), Point(x=3.357, y=6.3928), Point(x=3.3618, y=6.5217), Point(x=3.1994, y=6.5217)], span=DocumentSpan(offset=1123, length=3), confidence=0.996), DocumentWord(content=such, polygon=[Point(x=3.3857, y=6.3928), Point(x=3.634, y=6.3928), Point(x=3.634, y=6.5217), Point(x=3.3857, y=6.5217)], span=DocumentSpan(offset=1127, length=4), confidence=0.982), DocumentWord(content=shorter, polygon=[Point(x=3.6674, y=6.3928), Point(x=4.0494, y=6.3928), Point(x=4.0494, y=6.5217), Point(x=3.6674, y=6.5217)], span=DocumentSpan(offset=1132, length=7), confidence=0.99), DocumentWord(content=period, polygon=[Point(x=4.0733, y=6.3928), Point(x=4.4076, y=6.3928), Point(x=4.4124, y=6.5217), Point(x=4.0733, y=6.5217)], span=DocumentSpan(offset=1140, length=6), confidence=0.994), DocumentWord(content=that, polygon=[Point(x=4.4362, y=6.3928), Point(x=4.6463, y=6.3928), Point(x=4.6511, y=6.5217), Point(x=4.4362, y=6.5217)], span=DocumentSpan(offset=1147, length=4), confidence=0.993), DocumentWord(content=the, polygon=[Point(x=4.675, y=6.3928), Point(x=4.8517, y=6.3928), Point(x=4.8517, y=6.5217), Point(x=4.675, y=6.5217)], span=DocumentSpan(offset=1152, length=3), confidence=0.996), DocumentWord(content=registrant, polygon=[Point(x=4.8803, y=6.3928), Point(x=5.3913, y=6.3928), Point(x=5.3913, y=6.5217), Point(x=4.8803, y=6.5217)], span=DocumentSpan(offset=1156, length=10), confidence=0.992), DocumentWord(content=was, polygon=[Point(x=5.4152, y=6.3928), Point(x=5.6396, y=6.3928), Point(x=5.6396, y=6.5217), Point(x=5.4199, y=6.5217)], span=DocumentSpan(offset=1167, length=3), confidence=0.995), DocumentWord(content=required, polygon=[Point(x=5.6635, y=6.3928), Point(x=6.1076, y=6.388), Point(x=6.1076, y=6.5217), Point(x=5.6635, y=6.5217)], span=DocumentSpan(offset=1171, length=8), confidence=0.992), DocumentWord(content=to, polygon=[Point(x=6.1315, y=6.388), Point(x=6.2461, y=6.388), Point(x=6.2508, y=6.5265), Point(x=6.1315, y=6.5217)], span=DocumentSpan(offset=1180, length=2), confidence=0.995), DocumentWord(content=file, polygon=[Point(x=6.2747, y=6.388), Point(x=6.4323, y=6.388), Point(x=6.4323, y=6.5265), Point(x=6.2747, y=6.5265)], span=DocumentSpan(offset=1183, length=4), confidence=0.992), DocumentWord(content=such, polygon=[Point(x=6.4705, y=6.388), Point(x=6.714, y=6.388), Point(x=6.7188, y=6.5265), Point(x=6.4705, y=6.5265)], span=DocumentSpan(offset=1188, length=4), confidence=0.993), DocumentWord(content=reports),, polygon=[Point(x=6.7522, y=6.388), Point(x=7.2107, y=6.388), Point(x=7.2107, y=6.5265), Point(x=6.7522, y=6.5265)], span=DocumentSpan(offset=1193, length=9), confidence=0.976), DocumentWord(content=and, polygon=[Point(x=7.2393, y=6.388), Point(x=7.4399, y=6.388), Point(x=7.4399, y=6.5265), Point(x=7.2393, y=6.5265)], span=DocumentSpan(offset=1203, length=3), confidence=0.995), DocumentWord(content=(2), polygon=[Point(x=7.4781, y=6.388), Point(x=7.6261, y=6.388), Point(x=7.6261, y=6.5265), Point(x=7.4781, y=6.5265)], span=DocumentSpan(offset=1207, length=3), confidence=0.995), DocumentWord(content=has, polygon=[Point(x=7.6548, y=6.388), Point(x=7.8553, y=6.388), Point(x=7.8553, y=6.5313), Point(x=7.6548, y=6.5265)], span=DocumentSpan(offset=1211, length=3), confidence=0.995), DocumentWord(content=been, polygon=[Point(x=0.6351, y=6.536), Point(x=0.8978, y=6.536), Point(x=0.9025, y=6.6649), Point(x=0.6399, y=6.6649)], span=DocumentSpan(offset=1215, length=4), confidence=0.992), DocumentWord(content=subject, polygon=[Point(x=0.9312, y=6.536), Point(x=1.3037, y=6.5313), Point(x=1.3084, y=6.6697), Point(x=0.936, y=6.6649)], span=DocumentSpan(offset=1220, length=7), confidence=0.983), DocumentWord(content=to, polygon=[Point(x=1.3323, y=6.5313), Point(x=1.4469, y=6.5313), Point(x=1.4469, y=6.6697), Point(x=1.3323, y=6.6697)], span=DocumentSpan(offset=1228, length=2), confidence=0.979), DocumentWord(content=such, polygon=[Point(x=1.4708, y=6.5313), Point(x=1.7191, y=6.5313), Point(x=1.7191, y=6.6745), Point(x=1.4756, y=6.6697)], span=DocumentSpan(offset=1231, length=4), confidence=0.993), DocumentWord(content=filing, polygon=[Point(x=1.7525, y=6.5313), Point(x=2.0008, y=6.5313), Point(x=2.0008, y=6.6745), Point(x=1.7573, y=6.6745)], span=DocumentSpan(offset=1236, length=6), confidence=0.994), DocumentWord(content=requirements, polygon=[Point(x=2.0295, y=6.5313), Point(x=2.7267, y=6.5313), Point(x=2.7267, y=6.6745), Point(x=2.0295, y=6.6745)], span=DocumentSpan(offset=1243, length=12), confidence=0.983), DocumentWord(content=for, polygon=[Point(x=2.7506, y=6.5313), Point(x=2.8938, y=6.5313), Point(x=2.8938, y=6.6745), Point(x=2.7506, y=6.6745)], span=DocumentSpan(offset=1256, length=3), confidence=0.995), DocumentWord(content=the, polygon=[Point(x=2.9225, y=6.5313), Point(x=3.0992, y=6.5313), Point(x=3.0944, y=6.6697), Point(x=2.9177, y=6.6697)], span=DocumentSpan(offset=1260, length=3), confidence=0.995), DocumentWord(content=past, polygon=[Point(x=3.123, y=6.5313), Point(x=3.3618, y=6.536), Point(x=3.3618, y=6.6697), Point(x=3.123, y=6.6697)], span=DocumentSpan(offset=1264, length=4), confidence=0.992), DocumentWord(content=90, polygon=[Point(x=3.3904, y=6.536), Point(x=3.5194, y=6.536), Point(x=3.5194, y=6.6697), Point(x=3.3857, y=6.6697)], span=DocumentSpan(offset=1269, length=2), confidence=0.995), DocumentWord(content=days., polygon=[Point(x=3.548, y=6.536), Point(x=3.8584, y=6.536), Point(x=3.8537, y=6.6649), Point(x=3.548, y=6.6697)], span=DocumentSpan(offset=1272, length=5), confidence=0.994), DocumentWord(content=Yes, polygon=[Point(x=3.973, y=6.536), Point(x=4.1831, y=6.5408), Point(x=4.1831, y=6.6602), Point(x=3.9683, y=6.6649)], span=DocumentSpan(offset=1278, length=3), confidence=0.995), DocumentWord(content=No, polygon=[Point(x=4.4744, y=6.5408), Point(x=4.6225, y=6.5408), Point(x=4.6225, y=6.6411), Point(x=4.4744, y=6.6363)], span=DocumentSpan(offset=1306, length=2), confidence=0.995), DocumentWord(content=Indicate, polygon=[Point(x=0.6399, y=6.7318), Point(x=1.0315, y=6.7318), Point(x=1.0362, y=6.8655), Point(x=0.6447, y=6.8655)], span=DocumentSpan(offset=1309, length=8), confidence=0.973), DocumentWord(content=by, polygon=[Point(x=1.0601, y=6.7318), Point(x=1.1938, y=6.7318), Point(x=1.1938, y=6.8655), Point(x=1.0601, y=6.8655)], span=DocumentSpan(offset=1318, length=2), confidence=0.995), DocumentWord(content=check, polygon=[Point(x=1.2177, y=6.7318), Point(x=1.5185, y=6.7318), Point(x=1.5185, y=6.8655), Point(x=1.2225, y=6.8655)], span=DocumentSpan(offset=1321, length=5), confidence=0.995), DocumentWord(content=mark, polygon=[Point(x=1.5424, y=6.7318), Point(x=1.8003, y=6.7318), Point(x=1.8003, y=6.8655), Point(x=1.5472, y=6.8655)], span=DocumentSpan(offset=1327, length=4), confidence=0.985), DocumentWord(content=whether, polygon=[Point(x=1.8242, y=6.7318), Point(x=2.2396, y=6.7318), Point(x=2.2396, y=6.8655), Point(x=1.8242, y=6.8655)], span=DocumentSpan(offset=1332, length=7), confidence=0.994), DocumentWord(content=the, polygon=[Point(x=2.2635, y=6.7318), Point(x=2.4211, y=6.7318), Point(x=2.4211, y=6.8655), Point(x=2.2635, y=6.8655)], span=DocumentSpan(offset=1340, length=3), confidence=0.996), DocumentWord(content=registrant, polygon=[Point(x=2.4497, y=6.7318), Point(x=2.932, y=6.7318), Point(x=2.932, y=6.8655), Point(x=2.4497, y=6.8655)], span=DocumentSpan(offset=1344, length=10), confidence=0.991), DocumentWord(content=has, polygon=[Point(x=2.9559, y=6.7318), Point(x=3.1517, y=6.7318), Point(x=3.1517, y=6.8655), Point(x=2.9607, y=6.8655)], span=DocumentSpan(offset=1355, length=3), confidence=0.995), DocumentWord(content=submitted, polygon=[Point(x=3.1756, y=6.7318), Point(x=3.677, y=6.7318), Point(x=3.6817, y=6.8655), Point(x=3.1803, y=6.8655)], span=DocumentSpan(offset=1359, length=9), confidence=0.991), DocumentWord(content=electronically, polygon=[Point(x=3.7056, y=6.7318), Point(x=4.3742, y=6.7318), Point(x=4.3742, y=6.8655), Point(x=3.7056, y=6.8655)], span=DocumentSpan(offset=1369, length=14), confidence=0.979), DocumentWord(content=every, polygon=[Point(x=4.398, y=6.7318), Point(x=4.6702, y=6.7318), Point(x=4.6702, y=6.8655), Point(x=4.398, y=6.8655)], span=DocumentSpan(offset=1384, length=5), confidence=0.995), DocumentWord(content=Interactive, polygon=[Point(x=4.6989, y=6.7318), Point(x=5.2337, y=6.7318), Point(x=5.2337, y=6.8655), Point(x=4.6989, y=6.8655)], span=DocumentSpan(offset=1390, length=11), confidence=0.961), DocumentWord(content=Data, polygon=[Point(x=5.2624, y=6.7318), Point(x=5.5059, y=6.7318), Point(x=5.5059, y=6.8655), Point(x=5.2624, y=6.8655)], span=DocumentSpan(offset=1402, length=4), confidence=0.993), DocumentWord(content=File, polygon=[Point(x=5.5346, y=6.7318), Point(x=5.716, y=6.7318), Point(x=5.716, y=6.8655), Point(x=5.5346, y=6.8655)], span=DocumentSpan(offset=1407, length=4), confidence=0.99), DocumentWord(content=required, polygon=[Point(x=5.7447, y=6.7318), Point(x=6.1649, y=6.7318), Point(x=6.1649, y=6.8655), Point(x=5.7447, y=6.8655)], span=DocumentSpan(offset=1412, length=8), confidence=0.989), DocumentWord(content=to, polygon=[Point(x=6.1935, y=6.7318), Point(x=6.289, y=6.7318), Point(x=6.289, y=6.8655), Point(x=6.1935, y=6.8655)], span=DocumentSpan(offset=1421, length=2), confidence=0.992), DocumentWord(content=be, polygon=[Point(x=6.3177, y=6.7318), Point(x=6.4562, y=6.7318), Point(x=6.4562, y=6.8655), Point(x=6.3129, y=6.8655)], span=DocumentSpan(offset=1424, length=2), confidence=0.995), DocumentWord(content=submitted, polygon=[Point(x=6.4848, y=6.7318), Point(x=6.9767, y=6.7318), Point(x=6.9719, y=6.8655), Point(x=6.4801, y=6.8655)], span=DocumentSpan(offset=1427, length=9), confidence=0.988), DocumentWord(content=pursuant, polygon=[Point(x=7.0006, y=6.7318), Point(x=7.4494, y=6.7318), Point(x=7.4494, y=6.8655), Point(x=7.0006, y=6.8655)], span=DocumentSpan(offset=1437, length=8), confidence=0.993), DocumentWord(content=to, polygon=[Point(x=7.4781, y=6.7318), Point(x=7.5831, y=6.7318), Point(x=7.5784, y=6.8655), Point(x=7.4733, y=6.8655)], span=DocumentSpan(offset=1446, length=2), confidence=0.995), DocumentWord(content=Rule, polygon=[Point(x=7.607, y=6.7318), Point(x=7.8553, y=6.7318), Point(x=7.8506, y=6.8655), Point(x=7.607, y=6.8655)], span=DocumentSpan(offset=1449, length=4), confidence=0.992), DocumentWord(content=405, polygon=[Point(x=0.6399, y=6.8655), Point(x=0.8309, y=6.8655), Point(x=0.8357, y=6.9991), Point(x=0.6447, y=6.9991)], span=DocumentSpan(offset=1454, length=3), confidence=0.995), DocumentWord(content=of, polygon=[Point(x=0.8596, y=6.8655), Point(x=0.9646, y=6.8655), Point(x=0.9646, y=6.9991), Point(x=0.8596, y=6.9991)], span=DocumentSpan(offset=1458, length=2), confidence=0.995), DocumentWord(content=Regulation, polygon=[Point(x=0.9885, y=6.8655), Point(x=1.5424, y=6.8655), Point(x=1.5424, y=6.9991), Point(x=0.9933, y=6.9991)], span=DocumentSpan(offset=1461, length=10), confidence=0.989), DocumentWord(content=S-T, polygon=[Point(x=1.5758, y=6.8655), Point(x=1.7621, y=6.8655), Point(x=1.7621, y=6.9991), Point(x=1.5806, y=6.9991)], span=DocumentSpan(offset=1472, length=3), confidence=0.995), DocumentWord(content=(§232.405, polygon=[Point(x=1.786, y=6.8655), Point(x=2.316, y=6.8655), Point(x=2.316, y=6.9991), Point(x=1.7907, y=6.9991)], span=DocumentSpan(offset=1476, length=9), confidence=0.876), DocumentWord(content=of, polygon=[Point(x=2.3399, y=6.8655), Point(x=2.4354, y=6.8655), Point(x=2.4402, y=6.9991), Point(x=2.3447, y=6.9991)], span=DocumentSpan(offset=1486, length=2), confidence=0.995), DocumentWord(content=this, polygon=[Point(x=2.464, y=6.8655), Point(x=2.6455, y=6.8655), Point(x=2.6503, y=6.9991), Point(x=2.464, y=6.9991)], span=DocumentSpan(offset=1489, length=4), confidence=0.993), DocumentWord(content=chapter), polygon=[Point(x=2.6742, y=6.8655), Point(x=3.1039, y=6.8655), Point(x=3.1039, y=6.9991), Point(x=2.6742, y=6.9991)], span=DocumentSpan(offset=1494, length=8), confidence=0.993), DocumentWord(content=during, polygon=[Point(x=3.1278, y=6.8655), Point(x=3.443, y=6.8655), Point(x=3.4478, y=6.9991), Point(x=3.1326, y=6.9991)], span=DocumentSpan(offset=1503, length=6), confidence=0.994), DocumentWord(content=the, polygon=[Point(x=3.4716, y=6.8655), Point(x=3.6388, y=6.8655), Point(x=3.6388, y=6.9991), Point(x=3.4764, y=6.9991)], span=DocumentSpan(offset=1510, length=3), confidence=0.995), DocumentWord(content=preceding, polygon=[Point(x=3.6626, y=6.8655), Point(x=4.1831, y=6.8702), Point(x=4.1831, y=7.0039), Point(x=3.6674, y=6.9991)], span=DocumentSpan(offset=1514, length=9), confidence=0.983), DocumentWord(content=12, polygon=[Point(x=4.2261, y=6.8702), Point(x=4.3407, y=6.8702), Point(x=4.3407, y=7.0039), Point(x=4.2309, y=7.0039)], span=DocumentSpan(offset=1524, length=2), confidence=0.995), DocumentWord(content=months, polygon=[Point(x=4.3646, y=6.8702), Point(x=4.7514, y=6.8702), Point(x=4.7562, y=7.0039), Point(x=4.3694, y=7.0039)], span=DocumentSpan(offset=1527, length=6), confidence=0.994), DocumentWord(content=(or, polygon=[Point(x=4.7801, y=6.8702), Point(x=4.9185, y=6.8702), Point(x=4.9233, y=7.0039), Point(x=4.7801, y=7.0039)], span=DocumentSpan(offset=1534, length=3), confidence=0.995), DocumentWord(content=for, polygon=[Point(x=4.9472, y=6.8702), Point(x=5.0952, y=6.8702), Point(x=5.0952, y=7.0039), Point(x=4.9472, y=7.0039)], span=DocumentSpan(offset=1538, length=3), confidence=0.996), DocumentWord(content=such, polygon=[Point(x=5.1191, y=6.8702), Point(x=5.3579, y=6.8702), Point(x=5.3579, y=7.0039), Point(x=5.1239, y=7.0039)], span=DocumentSpan(offset=1542, length=4), confidence=0.987), DocumentWord(content=shorter, polygon=[Point(x=5.3913, y=6.8702), Point(x=5.7542, y=6.8702), Point(x=5.7542, y=7.0039), Point(x=5.3961, y=7.0039)], span=DocumentSpan(offset=1547, length=7), confidence=0.961), DocumentWord(content=period, polygon=[Point(x=5.7781, y=6.8702), Point(x=6.1028, y=6.8702), Point(x=6.1076, y=7.0039), Point(x=5.7829, y=7.0039)], span=DocumentSpan(offset=1555, length=6), confidence=0.994), DocumentWord(content=that, polygon=[Point(x=6.1315, y=6.8702), Point(x=6.3225, y=6.8702), Point(x=6.3272, y=7.0039), Point(x=6.1315, y=7.0039)], span=DocumentSpan(offset=1562, length=4), confidence=0.992), DocumentWord(content=the, polygon=[Point(x=6.3463, y=6.8702), Point(x=6.5135, y=6.8702), Point(x=6.5183, y=7.0039), Point(x=6.3511, y=7.0039)], span=DocumentSpan(offset=1567, length=3), confidence=0.996), DocumentWord(content=registrant, polygon=[Point(x=6.5421, y=6.8702), Point(x=7.0244, y=6.8702), Point(x=7.0244, y=7.0039), Point(x=6.5421, y=7.0039)], span=DocumentSpan(offset=1571, length=10), confidence=0.992), DocumentWord(content=was, polygon=[Point(x=7.0483, y=6.8702), Point(x=7.2584, y=6.8702), Point(x=7.2632, y=7.0039), Point(x=7.0531, y=7.0039)], span=DocumentSpan(offset=1582, length=3), confidence=0.995), DocumentWord(content=required, polygon=[Point(x=7.2871, y=6.8702), Point(x=7.7169, y=6.8702), Point(x=7.7216, y=7.0039), Point(x=7.2919, y=7.0039)], span=DocumentSpan(offset=1586, length=8), confidence=0.994), DocumentWord(content=to, polygon=[Point(x=7.7407, y=6.8702), Point(x=7.8506, y=6.8702), Point(x=7.8506, y=7.0039), Point(x=7.7455, y=7.0039)], span=DocumentSpan(offset=1595, length=2), confidence=0.995), DocumentWord(content=submit, polygon=[Point(x=0.6399, y=7.0135), Point(x=0.9885, y=7.0135), Point(x=0.9885, y=7.1424), Point(x=0.6447, y=7.1376)], span=DocumentSpan(offset=1598, length=6), confidence=0.994), DocumentWord(content=such, polygon=[Point(x=1.0124, y=7.0135), Point(x=1.2511, y=7.0135), Point(x=1.2559, y=7.1424), Point(x=1.0124, y=7.1424)], span=DocumentSpan(offset=1605, length=4), confidence=0.993), DocumentWord(content=files)., polygon=[Point(x=1.2846, y=7.0135), Point(x=1.5902, y=7.0182), Point(x=1.5902, y=7.1376), Point(x=1.2846, y=7.1424)], span=DocumentSpan(offset=1610, length=7), confidence=0.982), DocumentWord(content=Yes, polygon=[Point(x=1.6952, y=7.0182), Point(x=1.8958, y=7.023), Point(x=1.8958, y=7.128), Point(x=1.6952, y=7.1328)], span=DocumentSpan(offset=1618, length=3), confidence=0.996), DocumentWord(content=No, polygon=[Point(x=2.1919, y=7.0278), Point(x=2.3256, y=7.0278), Point(x=2.3256, y=7.1185), Point(x=2.1919, y=7.1185)], span=DocumentSpan(offset=1646, length=2), confidence=0.995), DocumentWord(content=Indicate, polygon=[Point(x=0.6303, y=7.2092), Point(x=1.0553, y=7.2092), Point(x=1.0553, y=7.3429), Point(x=0.6303, y=7.3429)], span=DocumentSpan(offset=1649, length=8), confidence=0.973), DocumentWord(content=by, polygon=[Point(x=1.0888, y=7.2092), Point(x=1.232, y=7.2092), Point(x=1.232, y=7.3429), Point(x=1.0888, y=7.3429)], span=DocumentSpan(offset=1658, length=2), confidence=0.995), DocumentWord(content=check, polygon=[Point(x=1.2559, y=7.2092), Point(x=1.5663, y=7.2092), Point(x=1.5663, y=7.3429), Point(x=1.2559, y=7.3429)], span=DocumentSpan(offset=1661, length=5), confidence=0.995), DocumentWord(content=mark, polygon=[Point(x=1.5902, y=7.2092), Point(x=1.8671, y=7.2092), Point(x=1.8671, y=7.3429), Point(x=1.5902, y=7.3429)], span=DocumentSpan(offset=1667, length=4), confidence=0.992), DocumentWord(content=whether, polygon=[Point(x=1.891, y=7.2092), Point(x=2.3256, y=7.2092), Point(x=2.3256, y=7.3429), Point(x=1.891, y=7.3429)], span=DocumentSpan(offset=1672, length=7), confidence=0.995), DocumentWord(content=the, polygon=[Point(x=2.3494, y=7.2092), Point(x=2.5261, y=7.2092), Point(x=2.5261, y=7.3429), Point(x=2.3494, y=7.3429)], span=DocumentSpan(offset=1680, length=3), confidence=0.996), DocumentWord(content=registrant, polygon=[Point(x=2.5548, y=7.2092), Point(x=3.0562, y=7.2092), Point(x=3.0562, y=7.3381), Point(x=2.5548, y=7.3429)], span=DocumentSpan(offset=1684, length=10), confidence=0.992), DocumentWord(content=is, polygon=[Point(x=3.0848, y=7.2092), Point(x=3.1899, y=7.2092), Point(x=3.1899, y=7.3381), Point(x=3.0848, y=7.3381)], span=DocumentSpan(offset=1695, length=2), confidence=0.995), DocumentWord(content=a, polygon=[Point(x=3.2138, y=7.2092), Point(x=3.2758, y=7.2092), Point(x=3.2758, y=7.3381), Point(x=3.2138, y=7.3381)], span=DocumentSpan(offset=1698, length=1), confidence=0.995), DocumentWord(content=large, polygon=[Point(x=3.3045, y=7.2092), Point(x=3.5862, y=7.2092), Point(x=3.5862, y=7.3381), Point(x=3.3045, y=7.3381)], span=DocumentSpan(offset=1700, length=5), confidence=0.993), DocumentWord(content=accelerated, polygon=[Point(x=3.6197, y=7.2092), Point(x=4.2309, y=7.2092), Point(x=4.2309, y=7.3429), Point(x=3.6197, y=7.3381)], span=DocumentSpan(offset=1706, length=11), confidence=0.993), DocumentWord(content=filer,, polygon=[Point(x=4.2643, y=7.2092), Point(x=4.5031, y=7.2092), Point(x=4.5031, y=7.3429), Point(x=4.2643, y=7.3429)], span=DocumentSpan(offset=1718, length=6), confidence=0.982), DocumentWord(content=an, polygon=[Point(x=4.527, y=7.2092), Point(x=4.6607, y=7.2092), Point(x=4.6607, y=7.3429), Point(x=4.527, y=7.3429)], span=DocumentSpan(offset=1725, length=2), confidence=0.996), DocumentWord(content=accelerated, polygon=[Point(x=4.6989, y=7.2092), Point(x=5.3149, y=7.2092), Point(x=5.3149, y=7.3429), Point(x=4.6989, y=7.3429)], span=DocumentSpan(offset=1728, length=11), confidence=0.945), DocumentWord(content=filer,, polygon=[Point(x=5.3388, y=7.2092), Point(x=5.5871, y=7.2092), Point(x=5.5871, y=7.3429), Point(x=5.3388, y=7.3429)], span=DocumentSpan(offset=1740, length=6), confidence=0.951), DocumentWord(content=a, polygon=[Point(x=5.6157, y=7.2092), Point(x=5.6778, y=7.2092), Point(x=5.6778, y=7.3429), Point(x=5.6157, y=7.3429)], span=DocumentSpan(offset=1747, length=1), confidence=0.996), DocumentWord(content=non-accelerated, polygon=[Point(x=5.7017, y=7.2092), Point(x=6.5565, y=7.2092), Point(x=6.5565, y=7.3477), Point(x=5.7017, y=7.3429)], span=DocumentSpan(offset=1749, length=15), confidence=0.982), DocumentWord(content=filer,, polygon=[Point(x=6.5947, y=7.2092), Point(x=6.8334, y=7.2092), Point(x=6.8334, y=7.3477), Point(x=6.5947, y=7.3477)], span=DocumentSpan(offset=1765, length=6), confidence=0.993), DocumentWord(content=a, polygon=[Point(x=6.8573, y=7.2092), Point(x=6.9289, y=7.2092), Point(x=6.9289, y=7.3477), Point(x=6.8573, y=7.3477)], span=DocumentSpan(offset=1772, length=1), confidence=0.995), DocumentWord(content=smaller, polygon=[Point(x=6.9624, y=7.2092), Point(x=7.3444, y=7.2092), Point(x=7.3444, y=7.3477), Point(x=6.9624, y=7.3477)], span=DocumentSpan(offset=1774, length=7), confidence=0.994), DocumentWord(content=reporting, polygon=[Point(x=7.3683, y=7.2092), Point(x=7.8553, y=7.2092), Point(x=7.8553, y=7.3524), Point(x=7.3683, y=7.3477)], span=DocumentSpan(offset=1782, length=9), confidence=0.991), DocumentWord(content=company,, polygon=[Point(x=0.6399, y=7.3572), Point(x=1.1604, y=7.3572), Point(x=1.1604, y=7.4909), Point(x=0.6399, y=7.4909)], span=DocumentSpan(offset=1792, length=8), confidence=0.993), DocumentWord(content=or, polygon=[Point(x=1.189, y=7.3572), Point(x=1.2989, y=7.3524), Point(x=1.2989, y=7.4909), Point(x=1.189, y=7.4909)], span=DocumentSpan(offset=1801, length=2), confidence=0.996), DocumentWord(content=an, polygon=[Point(x=1.3228, y=7.3524), Point(x=1.4565, y=7.3524), Point(x=1.4612, y=7.4909), Point(x=1.3228, y=7.4909)], span=DocumentSpan(offset=1804, length=2), confidence=0.992), DocumentWord(content=emerging, polygon=[Point(x=1.4851, y=7.3524), Point(x=1.9817, y=7.3524), Point(x=1.9817, y=7.4861), Point(x=1.4851, y=7.4909)], span=DocumentSpan(offset=1807, length=8), confidence=0.993), DocumentWord(content=growth, polygon=[Point(x=2.0104, y=7.3524), Point(x=2.3685, y=7.3477), Point(x=2.3685, y=7.4861), Point(x=2.0104, y=7.4861)], span=DocumentSpan(offset=1816, length=6), confidence=0.995), DocumentWord(content=company., polygon=[Point(x=2.3972, y=7.3477), Point(x=2.9272, y=7.3477), Point(x=2.9272, y=7.4861), Point(x=2.3972, y=7.4861)], span=DocumentSpan(offset=1823, length=8), confidence=0.993), DocumentWord(content=See, polygon=[Point(x=2.9559, y=7.3477), Point(x=3.1517, y=7.3477), Point(x=3.1517, y=7.4861), Point(x=2.9559, y=7.4861)], span=DocumentSpan(offset=1832, length=3), confidence=0.995), DocumentWord(content=the, polygon=[Point(x=3.1803, y=7.3477), Point(x=3.357, y=7.3477), Point(x=3.3618, y=7.4861), Point(x=3.1803, y=7.4861)], span=DocumentSpan(offset=1836, length=3), confidence=0.996), DocumentWord(content=definitions, polygon=[Point(x=3.3857, y=7.3477), Point(x=3.9253, y=7.3477), Point(x=3.9301, y=7.4861), Point(x=3.3857, y=7.4861)], span=DocumentSpan(offset=1840, length=11), confidence=0.977), DocumentWord(content=of, polygon=[Point(x=3.9539, y=7.3477), Point(x=4.0351, y=7.3477), Point(x=4.0351, y=7.4861), Point(x=3.9539, y=7.4861)], span=DocumentSpan(offset=1852, length=2), confidence=0.995), DocumentWord(content=\"large, polygon=[Point(x=4.0638, y=7.3477), Point(x=4.3933, y=7.3477), Point(x=4.398, y=7.4861), Point(x=4.0638, y=7.4861)], span=DocumentSpan(offset=1855, length=6), confidence=0.948), DocumentWord(content=accelerated, polygon=[Point(x=4.4219, y=7.3477), Point(x=5.0331, y=7.3477), Point(x=5.0379, y=7.4861), Point(x=4.4219, y=7.4861)], span=DocumentSpan(offset=1862, length=11), confidence=0.985), DocumentWord(content=filer,\", polygon=[Point(x=5.0618, y=7.3477), Point(x=5.3149, y=7.3477), Point(x=5.3149, y=7.4861), Point(x=5.0618, y=7.4861)], span=DocumentSpan(offset=1874, length=7), confidence=0.933), DocumentWord(content=\"accelerated, polygon=[Point(x=5.3388, y=7.3477), Point(x=6.0073, y=7.3477), Point(x=6.0073, y=7.4861), Point(x=5.3435, y=7.4861)], span=DocumentSpan(offset=1882, length=12), confidence=0.94), DocumentWord(content=filer,\", polygon=[Point(x=6.036, y=7.3477), Point(x=6.2938, y=7.3477), Point(x=6.2986, y=7.4861), Point(x=6.036, y=7.4861)], span=DocumentSpan(offset=1895, length=7), confidence=0.948), DocumentWord(content=\"smaller, polygon=[Point(x=6.3225, y=7.3477), Point(x=6.7522, y=7.3477), Point(x=6.757, y=7.4861), Point(x=6.3225, y=7.4861)], span=DocumentSpan(offset=1903, length=8), confidence=0.959), DocumentWord(content=reporting, polygon=[Point(x=6.7809, y=7.3477), Point(x=7.2584, y=7.3524), Point(x=7.2632, y=7.4909), Point(x=6.7857, y=7.4861)], span=DocumentSpan(offset=1912, length=9), confidence=0.975), DocumentWord(content=company,\", polygon=[Point(x=7.2871, y=7.3524), Point(x=7.8458, y=7.3524), Point(x=7.8506, y=7.4909), Point(x=7.2871, y=7.4909)], span=DocumentSpan(offset=1922, length=9), confidence=0.93), DocumentWord(content=and, polygon=[Point(x=0.6399, y=7.4909), Point(x=0.8357, y=7.4909), Point(x=0.8357, y=7.6198), Point(x=0.6399, y=7.6198)], span=DocumentSpan(offset=1932, length=3), confidence=0.996), DocumentWord(content=\"emerging, polygon=[Point(x=0.8643, y=7.4909), Point(x=1.4087, y=7.4861), Point(x=1.4087, y=7.6198), Point(x=0.8643, y=7.6198)], span=DocumentSpan(offset=1936, length=9), confidence=0.948), DocumentWord(content=growth, polygon=[Point(x=1.4326, y=7.4861), Point(x=1.786, y=7.4861), Point(x=1.786, y=7.6198), Point(x=1.4326, y=7.6198)], span=DocumentSpan(offset=1946, length=6), confidence=0.995), DocumentWord(content=company\", polygon=[Point(x=1.8242, y=7.4861), Point(x=2.3351, y=7.4861), Point(x=2.3351, y=7.6198), Point(x=1.8242, y=7.6198)], span=DocumentSpan(offset=1953, length=8), confidence=0.948), DocumentWord(content=in, polygon=[Point(x=2.359, y=7.4861), Point(x=2.464, y=7.4861), Point(x=2.464, y=7.6198), Point(x=2.359, y=7.6198)], span=DocumentSpan(offset=1962, length=2), confidence=0.965), DocumentWord(content=Rule, polygon=[Point(x=2.5022, y=7.4813), Point(x=2.7458, y=7.4813), Point(x=2.7458, y=7.6198), Point(x=2.5022, y=7.6198)], span=DocumentSpan(offset=1965, length=4), confidence=0.992), DocumentWord(content=12b-2, polygon=[Point(x=2.7935, y=7.4813), Point(x=3.0848, y=7.4813), Point(x=3.0848, y=7.6198), Point(x=2.7935, y=7.6198)], span=DocumentSpan(offset=1970, length=5), confidence=0.993), DocumentWord(content=of, polygon=[Point(x=3.1087, y=7.4813), Point(x=3.2042, y=7.4813), Point(x=3.2042, y=7.6198), Point(x=3.1087, y=7.6198)], span=DocumentSpan(offset=1976, length=2), confidence=0.995), DocumentWord(content=the, polygon=[Point(x=3.2329, y=7.4813), Point(x=3.4096, y=7.4813), Point(x=3.4096, y=7.6198), Point(x=3.2329, y=7.6198)], span=DocumentSpan(offset=1979, length=3), confidence=0.997), DocumentWord(content=Exchange, polygon=[Point(x=3.4334, y=7.4813), Point(x=3.973, y=7.4813), Point(x=3.973, y=7.6198), Point(x=3.4334, y=7.6198)], span=DocumentSpan(offset=1983, length=8), confidence=0.993), DocumentWord(content=Act., polygon=[Point(x=3.9969, y=7.4813), Point(x=4.2022, y=7.4813), Point(x=4.2022, y=7.6198), Point(x=3.9969, y=7.6198)], span=DocumentSpan(offset=1992, length=4), confidence=0.984), DocumentWord(content=Large, polygon=[Point(x=0.6351, y=7.6866), Point(x=0.9503, y=7.6914), Point(x=0.9503, y=7.8299), Point(x=0.6399, y=7.8346)], span=DocumentSpan(offset=2008, length=5), confidence=0.994), DocumentWord(content=accelerated, polygon=[Point(x=0.9837, y=7.6914), Point(x=1.5854, y=7.6962), Point(x=1.5902, y=7.8155), Point(x=0.9837, y=7.8299)], span=DocumentSpan(offset=2014, length=11), confidence=0.993), DocumentWord(content=filer, polygon=[Point(x=1.6236, y=7.6962), Point(x=1.8337, y=7.6962), Point(x=1.8337, y=7.8108), Point(x=1.6236, y=7.8155)], span=DocumentSpan(offset=2026, length=5), confidence=0.994), DocumentWord(content=Accelerated, polygon=[Point(x=5.3244, y=7.6914), Point(x=5.95, y=7.6962), Point(x=5.9452, y=7.8155), Point(x=5.3292, y=7.8203)], span=DocumentSpan(offset=2045, length=11), confidence=0.992), DocumentWord(content=filer, polygon=[Point(x=5.9787, y=7.6962), Point(x=6.1935, y=7.6962), Point(x=6.1888, y=7.8108), Point(x=5.9787, y=7.8155)], span=DocumentSpan(offset=2057, length=5), confidence=0.995), DocumentWord(content=Non-accelerated, polygon=[Point(x=0.6399, y=7.8681), Point(x=1.509, y=7.8728), Point(x=1.509, y=7.9922), Point(x=0.6399, y=7.9922)], span=DocumentSpan(offset=2063, length=15), confidence=0.986), DocumentWord(content=filer, polygon=[Point(x=1.5424, y=7.8728), Point(x=1.7573, y=7.8776), Point(x=1.7525, y=7.9874), Point(x=1.5376, y=7.9922)], span=DocumentSpan(offset=2079, length=5), confidence=0.995), DocumentWord(content=Smaller, polygon=[Point(x=5.3292, y=7.8633), Point(x=5.7303, y=7.8728), Point(x=5.7303, y=8.0017), Point(x=5.3292, y=8.0017)], span=DocumentSpan(offset=2111, length=7), confidence=0.995), DocumentWord(content=reporting, polygon=[Point(x=5.7542, y=7.8728), Point(x=6.227, y=7.8776), Point(x=6.227, y=8.0065), Point(x=5.759, y=8.0017)], span=DocumentSpan(offset=2119, length=9), confidence=0.994), DocumentWord(content=company, polygon=[Point(x=6.2604, y=7.8776), Point(x=6.7475, y=7.8824), Point(x=6.7475, y=8.0065), Point(x=6.2604, y=8.0065)], span=DocumentSpan(offset=2129, length=7), confidence=0.995), DocumentWord(content=Emerging, polygon=[Point(x=5.3292, y=8.0447), Point(x=5.8402, y=8.0447), Point(x=5.8402, y=8.1784), Point(x=5.334, y=8.1832)], span=DocumentSpan(offset=2150, length=8), confidence=0.995), DocumentWord(content=growth, polygon=[Point(x=5.864, y=8.0447), Point(x=6.2222, y=8.0447), Point(x=6.2222, y=8.1784), Point(x=5.864, y=8.1784)], span=DocumentSpan(offset=2159, length=6), confidence=0.994), DocumentWord(content=company, polygon=[Point(x=6.2508, y=8.0447), Point(x=6.7522, y=8.0447), Point(x=6.7475, y=8.1784), Point(x=6.2508, y=8.1784)], span=DocumentSpan(offset=2166, length=7), confidence=0.995), DocumentWord(content=If, polygon=[Point(x=0.6399, y=8.2405), Point(x=0.7115, y=8.2405), Point(x=0.7115, y=8.3837), Point(x=0.6447, y=8.3837)], span=DocumentSpan(offset=2174, length=2), confidence=0.963), DocumentWord(content=an, polygon=[Point(x=0.7354, y=8.2405), Point(x=0.8643, y=8.2405), Point(x=0.8643, y=8.3837), Point(x=0.7402, y=8.3837)], span=DocumentSpan(offset=2177, length=2), confidence=0.996), DocumentWord(content=emerging, polygon=[Point(x=0.8978, y=8.2405), Point(x=1.3896, y=8.2405), Point(x=1.3944, y=8.3789), Point(x=0.9025, y=8.3837)], span=DocumentSpan(offset=2180, length=8), confidence=0.993), DocumentWord(content=growth, polygon=[Point(x=1.4183, y=8.2405), Point(x=1.7764, y=8.2405), Point(x=1.7812, y=8.3789), Point(x=1.423, y=8.3789)], span=DocumentSpan(offset=2189, length=6), confidence=0.995), DocumentWord(content=company,, polygon=[Point(x=1.8051, y=8.2405), Point(x=2.3065, y=8.2405), Point(x=2.3065, y=8.3789), Point(x=1.8051, y=8.3789)], span=DocumentSpan(offset=2196, length=8), confidence=0.993), DocumentWord(content=indicate, polygon=[Point(x=2.3351, y=8.2405), Point(x=2.7553, y=8.2405), Point(x=2.7553, y=8.3789), Point(x=2.3351, y=8.3789)], span=DocumentSpan(offset=2205, length=8), confidence=0.993), DocumentWord(content=by, polygon=[Point(x=2.7792, y=8.2405), Point(x=2.9177, y=8.2405), Point(x=2.9177, y=8.3789), Point(x=2.784, y=8.3789)], span=DocumentSpan(offset=2214, length=2), confidence=0.995), DocumentWord(content=check, polygon=[Point(x=2.9416, y=8.2405), Point(x=3.2472, y=8.2405), Point(x=3.2472, y=8.3741), Point(x=2.9463, y=8.3789)], span=DocumentSpan(offset=2217, length=5), confidence=0.995), DocumentWord(content=mark, polygon=[Point(x=3.2758, y=8.2405), Point(x=3.5337, y=8.2405), Point(x=3.5337, y=8.3741), Point(x=3.2758, y=8.3741)], span=DocumentSpan(offset=2223, length=4), confidence=0.992), DocumentWord(content=if, polygon=[Point(x=3.5624, y=8.2405), Point(x=3.634, y=8.2405), Point(x=3.634, y=8.3741), Point(x=3.5624, y=8.3741)], span=DocumentSpan(offset=2228, length=2), confidence=0.995), DocumentWord(content=the, polygon=[Point(x=3.6579, y=8.2405), Point(x=3.8202, y=8.2405), Point(x=3.8202, y=8.3741), Point(x=3.6626, y=8.3741)], span=DocumentSpan(offset=2231, length=3), confidence=0.997), DocumentWord(content=registrant, polygon=[Point(x=3.8489, y=8.2405), Point(x=4.3503, y=8.2405), Point(x=4.3503, y=8.3741), Point(x=3.8489, y=8.3741)], span=DocumentSpan(offset=2235, length=10), confidence=0.993), DocumentWord(content=has, polygon=[Point(x=4.3789, y=8.2405), Point(x=4.5747, y=8.2405), Point(x=4.5747, y=8.3741), Point(x=4.3789, y=8.3741)], span=DocumentSpan(offset=2246, length=3), confidence=0.996), DocumentWord(content=elected, polygon=[Point(x=4.5986, y=8.2405), Point(x=4.9758, y=8.2405), Point(x=4.9806, y=8.3741), Point(x=4.6034, y=8.3741)], span=DocumentSpan(offset=2250, length=7), confidence=0.994), DocumentWord(content=not, polygon=[Point(x=5.0045, y=8.2405), Point(x=5.1764, y=8.2405), Point(x=5.1764, y=8.3741), Point(x=5.0045, y=8.3741)], span=DocumentSpan(offset=2258, length=3), confidence=0.995), DocumentWord(content=to, polygon=[Point(x=5.2003, y=8.2405), Point(x=5.3101, y=8.2405), Point(x=5.3101, y=8.3741), Point(x=5.2003, y=8.3741)], span=DocumentSpan(offset=2262, length=2), confidence=0.996), DocumentWord(content=use, polygon=[Point(x=5.334, y=8.2405), Point(x=5.525, y=8.2405), Point(x=5.525, y=8.3741), Point(x=5.3388, y=8.3741)], span=DocumentSpan(offset=2265, length=3), confidence=0.995), DocumentWord(content=the, polygon=[Point(x=5.5489, y=8.2405), Point(x=5.7208, y=8.2405), Point(x=5.7208, y=8.3741), Point(x=5.5537, y=8.3741)], span=DocumentSpan(offset=2269, length=3), confidence=0.995), DocumentWord(content=extended, polygon=[Point(x=5.7494, y=8.2405), Point(x=6.2413, y=8.2405), Point(x=6.2413, y=8.3741), Point(x=5.7494, y=8.3741)], span=DocumentSpan(offset=2273, length=8), confidence=0.983), DocumentWord(content=transition, polygon=[Point(x=6.2699, y=8.2405), Point(x=6.7522, y=8.2405), Point(x=6.7522, y=8.3789), Point(x=6.2699, y=8.3741)], span=DocumentSpan(offset=2282, length=10), confidence=0.992), DocumentWord(content=period, polygon=[Point(x=6.7809, y=8.2405), Point(x=7.1104, y=8.2405), Point(x=7.1104, y=8.3789), Point(x=6.7809, y=8.3789)], span=DocumentSpan(offset=2293, length=6), confidence=0.994), DocumentWord(content=for, polygon=[Point(x=7.139, y=8.2405), Point(x=7.2823, y=8.2452), Point(x=7.2823, y=8.3789), Point(x=7.139, y=8.3789)], span=DocumentSpan(offset=2300, length=3), confidence=0.995), DocumentWord(content=complying, polygon=[Point(x=7.3062, y=8.2452), Point(x=7.8458, y=8.2452), Point(x=7.8458, y=8.3789), Point(x=7.3062, y=8.3789)], span=DocumentSpan(offset=2304, length=9), confidence=0.993), DocumentWord(content=with, polygon=[Point(x=0.6351, y=8.398), Point(x=0.8452, y=8.398), Point(x=0.85, y=8.5269), Point(x=0.6399, y=8.5269)], span=DocumentSpan(offset=2314, length=4), confidence=0.993), DocumentWord(content=any, polygon=[Point(x=0.8787, y=8.398), Point(x=1.0744, y=8.398), Point(x=1.0792, y=8.5269), Point(x=0.8834, y=8.5269)], span=DocumentSpan(offset=2319, length=3), confidence=0.995), DocumentWord(content=new, polygon=[Point(x=1.1031, y=8.398), Point(x=1.3037, y=8.398), Point(x=1.3084, y=8.5269), Point(x=1.1031, y=8.5269)], span=DocumentSpan(offset=2323, length=3), confidence=0.996), DocumentWord(content=or, polygon=[Point(x=1.3562, y=8.398), Point(x=1.4565, y=8.398), Point(x=1.4565, y=8.5269), Point(x=1.361, y=8.5269)], span=DocumentSpan(offset=2327, length=2), confidence=0.995), DocumentWord(content=revised, polygon=[Point(x=1.4803, y=8.398), Point(x=1.8767, y=8.3932), Point(x=1.8815, y=8.5269), Point(x=1.4851, y=8.5269)], span=DocumentSpan(offset=2330, length=7), confidence=0.994), DocumentWord(content=financial, polygon=[Point(x=1.9053, y=8.3932), Point(x=2.3447, y=8.3932), Point(x=2.3494, y=8.5269), Point(x=1.9053, y=8.5269)], span=DocumentSpan(offset=2338, length=9), confidence=0.992), DocumentWord(content=accounting, polygon=[Point(x=2.3733, y=8.3932), Point(x=2.9463, y=8.3932), Point(x=2.9463, y=8.5317), Point(x=2.3733, y=8.5269)], span=DocumentSpan(offset=2348, length=10), confidence=0.993), DocumentWord(content=standards, polygon=[Point(x=2.9846, y=8.3932), Point(x=3.4955, y=8.3932), Point(x=3.4955, y=8.5317), Point(x=2.9846, y=8.5317)], span=DocumentSpan(offset=2359, length=9), confidence=0.981), DocumentWord(content=provided, polygon=[Point(x=3.5194, y=8.3932), Point(x=3.9826, y=8.3932), Point(x=3.9826, y=8.5317), Point(x=3.5242, y=8.5317)], span=DocumentSpan(offset=2369, length=8), confidence=0.993), DocumentWord(content=pursuant, polygon=[Point(x=4.0065, y=8.3932), Point(x=4.4744, y=8.3932), Point(x=4.4744, y=8.5317), Point(x=4.0065, y=8.5317)], span=DocumentSpan(offset=2378, length=8), confidence=0.992), DocumentWord(content=to, polygon=[Point(x=4.5031, y=8.3932), Point(x=4.6177, y=8.3932), Point(x=4.6177, y=8.5317), Point(x=4.5031, y=8.5317)], span=DocumentSpan(offset=2387, length=2), confidence=0.992), DocumentWord(content=Section, polygon=[Point(x=4.6511, y=8.3932), Point(x=5.0331, y=8.3932), Point(x=5.0331, y=8.5317), Point(x=4.6511, y=8.5317)], span=DocumentSpan(offset=2390, length=7), confidence=0.978), DocumentWord(content=13(a), polygon=[Point(x=5.0857, y=8.3932), Point(x=5.3483, y=8.3932), Point(x=5.3483, y=8.5317), Point(x=5.0857, y=8.5317)], span=DocumentSpan(offset=2398, length=5), confidence=0.994), DocumentWord(content=of, polygon=[Point(x=5.377, y=8.3932), Point(x=5.4725, y=8.3932), Point(x=5.4725, y=8.5317), Point(x=5.377, y=8.5317)], span=DocumentSpan(offset=2404, length=2), confidence=0.995), DocumentWord(content=the, polygon=[Point(x=5.5011, y=8.3932), Point(x=5.6778, y=8.3932), Point(x=5.6778, y=8.5317), Point(x=5.5011, y=8.5317)], span=DocumentSpan(offset=2407, length=3), confidence=0.997), DocumentWord(content=Exchange, polygon=[Point(x=5.7017, y=8.3932), Point(x=6.2317, y=8.398), Point(x=6.2317, y=8.5317), Point(x=5.7017, y=8.5317)], span=DocumentSpan(offset=2411, length=8), confidence=0.993), DocumentWord(content=Act., polygon=[Point(x=6.2699, y=8.398), Point(x=6.4657, y=8.398), Point(x=6.4657, y=8.5269), Point(x=6.2699, y=8.5317)], span=DocumentSpan(offset=2420, length=4), confidence=0.983), DocumentWord(content=Indicate, polygon=[Point(x=0.6447, y=8.5985), Point(x=1.041, y=8.5985), Point(x=1.041, y=8.737), Point(x=0.6447, y=8.737)], span=DocumentSpan(offset=2438, length=8), confidence=0.983), DocumentWord(content=by, polygon=[Point(x=1.0697, y=8.5985), Point(x=1.1938, y=8.5985), Point(x=1.1986, y=8.737), Point(x=1.0697, y=8.737)], span=DocumentSpan(offset=2447, length=2), confidence=0.995), DocumentWord(content=check, polygon=[Point(x=1.2225, y=8.5985), Point(x=1.5233, y=8.5985), Point(x=1.5233, y=8.737), Point(x=1.2225, y=8.737)], span=DocumentSpan(offset=2450, length=5), confidence=0.995), DocumentWord(content=mark, polygon=[Point(x=1.552, y=8.5985), Point(x=1.8146, y=8.5985), Point(x=1.8146, y=8.737), Point(x=1.552, y=8.737)], span=DocumentSpan(offset=2456, length=4), confidence=0.992), DocumentWord(content=whether, polygon=[Point(x=1.8433, y=8.5985), Point(x=2.2492, y=8.5985), Point(x=2.2539, y=8.737), Point(x=1.8433, y=8.737)], span=DocumentSpan(offset=2461, length=7), confidence=0.994), DocumentWord(content=the, polygon=[Point(x=2.2778, y=8.5985), Point(x=2.4402, y=8.5985), Point(x=2.4449, y=8.737), Point(x=2.2826, y=8.737)], span=DocumentSpan(offset=2469, length=3), confidence=0.995), DocumentWord(content=registrant, polygon=[Point(x=2.4688, y=8.5985), Point(x=2.9511, y=8.5985), Point(x=2.9559, y=8.737), Point(x=2.4736, y=8.737)], span=DocumentSpan(offset=2473, length=10), confidence=0.961), DocumentWord(content=is, polygon=[Point(x=2.9798, y=8.5985), Point(x=3.0801, y=8.5985), Point(x=3.0848, y=8.737), Point(x=2.9846, y=8.737)], span=DocumentSpan(offset=2484, length=2), confidence=0.995), DocumentWord(content=a, polygon=[Point(x=3.1087, y=8.5985), Point(x=3.1708, y=8.5985), Point(x=3.1756, y=8.737), Point(x=3.1087, y=8.737)], span=DocumentSpan(offset=2487, length=1), confidence=0.995), DocumentWord(content=shell, polygon=[Point(x=3.1994, y=8.5985), Point(x=3.443, y=8.5985), Point(x=3.4478, y=8.737), Point(x=3.1994, y=8.737)], span=DocumentSpan(offset=2489, length=5), confidence=0.993), DocumentWord(content=company, polygon=[Point(x=3.4716, y=8.5985), Point(x=3.9348, y=8.5985), Point(x=3.9396, y=8.737), Point(x=3.4764, y=8.737)], span=DocumentSpan(offset=2495, length=7), confidence=0.994), DocumentWord(content=(as, polygon=[Point(x=3.9635, y=8.5985), Point(x=4.1258, y=8.5985), Point(x=4.1306, y=8.737), Point(x=3.9683, y=8.737)], span=DocumentSpan(offset=2503, length=3), confidence=0.995), DocumentWord(content=defined, polygon=[Point(x=4.1545, y=8.5985), Point(x=4.5365, y=8.5985), Point(x=4.5413, y=8.737), Point(x=4.1593, y=8.737)], span=DocumentSpan(offset=2507, length=7), confidence=0.929), DocumentWord(content=in, polygon=[Point(x=4.5604, y=8.5985), Point(x=4.6607, y=8.5985), Point(x=4.6702, y=8.737), Point(x=4.5699, y=8.737)], span=DocumentSpan(offset=2515, length=2), confidence=0.995), DocumentWord(content=Rule, polygon=[Point(x=4.6893, y=8.5985), Point(x=4.9376, y=8.5985), Point(x=4.9424, y=8.737), Point(x=4.6941, y=8.737)], span=DocumentSpan(offset=2518, length=4), confidence=0.992), DocumentWord(content=12b-2, polygon=[Point(x=4.9711, y=8.5985), Point(x=5.2528, y=8.5985), Point(x=5.2624, y=8.737), Point(x=4.9758, y=8.737)], span=DocumentSpan(offset=2523, length=5), confidence=0.993), DocumentWord(content=of, polygon=[Point(x=5.2815, y=8.5985), Point(x=5.3817, y=8.5985), Point(x=5.3865, y=8.737), Point(x=5.2862, y=8.737)], span=DocumentSpan(offset=2529, length=2), confidence=0.995), DocumentWord(content=the, polygon=[Point(x=5.4104, y=8.5985), Point(x=5.5728, y=8.5985), Point(x=5.5775, y=8.737), Point(x=5.4152, y=8.737)], span=DocumentSpan(offset=2532, length=3), confidence=0.996), DocumentWord(content=Exchange, polygon=[Point(x=5.6014, y=8.5985), Point(x=6.1267, y=8.5985), Point(x=6.1362, y=8.737), Point(x=5.6062, y=8.737)], span=DocumentSpan(offset=2536, length=8), confidence=0.993), DocumentWord(content=Act)., polygon=[Point(x=6.1553, y=8.5985), Point(x=6.418, y=8.5985), Point(x=6.4275, y=8.737), Point(x=6.1649, y=8.737)], span=DocumentSpan(offset=2545, length=5), confidence=0.994), DocumentWord(content=Yes, polygon=[Point(x=6.4896, y=8.5603), Point(x=6.714, y=8.5603), Point(x=6.714, y=8.7513), Point(x=6.4896, y=8.7513)], span=DocumentSpan(offset=2564, length=3), confidence=0.927), DocumentWord(content=No, polygon=[Point(x=7.0149, y=8.6128), Point(x=7.1534, y=8.6128), Point(x=7.1534, y=8.7131), Point(x=7.0149, y=8.7083)], span=DocumentSpan(offset=2579, length=2), confidence=0.995), DocumentWord(content=Indicate, polygon=[Point(x=0.6303, y=8.7943), Point(x=1.0362, y=8.7943), Point(x=1.0362, y=8.9327), Point(x=0.6351, y=8.928)], span=DocumentSpan(offset=2582, length=8), confidence=0.986), DocumentWord(content=the, polygon=[Point(x=1.0601, y=8.7943), Point(x=1.2272, y=8.7943), Point(x=1.2272, y=8.9327), Point(x=1.0649, y=8.9327)], span=DocumentSpan(offset=2591, length=3), confidence=0.983), DocumentWord(content=number, polygon=[Point(x=1.2511, y=8.7943), Point(x=1.657, y=8.799), Point(x=1.657, y=8.9327), Point(x=1.2559, y=8.9327)], span=DocumentSpan(offset=2595, length=6), confidence=0.994), DocumentWord(content=of, polygon=[Point(x=1.6809, y=8.799), Point(x=1.7907, y=8.799), Point(x=1.7907, y=8.9327), Point(x=1.6857, y=8.9327)], span=DocumentSpan(offset=2602, length=2), confidence=0.995), DocumentWord(content=shares, polygon=[Point(x=1.8146, y=8.799), Point(x=2.168, y=8.799), Point(x=2.168, y=8.9327), Point(x=1.8194, y=8.9327)], span=DocumentSpan(offset=2605, length=6), confidence=0.994), DocumentWord(content=outstanding, polygon=[Point(x=2.1919, y=8.799), Point(x=2.7983, y=8.799), Point(x=2.7983, y=8.9327), Point(x=2.1966, y=8.9327)], span=DocumentSpan(offset=2612, length=11), confidence=0.99), DocumentWord(content=of, polygon=[Point(x=2.8222, y=8.799), Point(x=2.9225, y=8.799), Point(x=2.9225, y=8.9327), Point(x=2.827, y=8.9327)], span=DocumentSpan(offset=2624, length=2), confidence=0.995), DocumentWord(content=each, polygon=[Point(x=2.9463, y=8.799), Point(x=3.1994, y=8.799), Point(x=3.2042, y=8.9327), Point(x=2.9463, y=8.9327)], span=DocumentSpan(offset=2627, length=4), confidence=0.992), DocumentWord(content=of, polygon=[Point(x=3.2281, y=8.799), Point(x=3.3236, y=8.799), Point(x=3.3236, y=8.9327), Point(x=3.2281, y=8.9327)], span=DocumentSpan(offset=2632, length=2), confidence=0.995), DocumentWord(content=the, polygon=[Point(x=3.3522, y=8.799), Point(x=3.5098, y=8.799), Point(x=3.5098, y=8.9327), Point(x=3.3522, y=8.9327)], span=DocumentSpan(offset=2635, length=3), confidence=0.996), DocumentWord(content=issuer's, polygon=[Point(x=3.5337, y=8.799), Point(x=3.9396, y=8.799), Point(x=3.9396, y=8.9327), Point(x=3.5385, y=8.9327)], span=DocumentSpan(offset=2639, length=8), confidence=0.985), DocumentWord(content=classes, polygon=[Point(x=3.9635, y=8.799), Point(x=4.3598, y=8.799), Point(x=4.3598, y=8.9327), Point(x=3.9683, y=8.9327)], span=DocumentSpan(offset=2648, length=7), confidence=0.993), DocumentWord(content=of, polygon=[Point(x=4.3885, y=8.799), Point(x=4.484, y=8.799), Point(x=4.484, y=8.9327), Point(x=4.3885, y=8.9327)], span=DocumentSpan(offset=2656, length=2), confidence=0.995), DocumentWord(content=common, polygon=[Point(x=4.5079, y=8.799), Point(x=4.9567, y=8.799), Point(x=4.9567, y=8.9327), Point(x=4.5079, y=8.9327)], span=DocumentSpan(offset=2659, length=6), confidence=0.985), DocumentWord(content=stock,, polygon=[Point(x=4.9902, y=8.799), Point(x=5.3006, y=8.799), Point(x=5.3006, y=8.9327), Point(x=4.9902, y=8.9327)], span=DocumentSpan(offset=2666, length=6), confidence=0.991), DocumentWord(content=as, polygon=[Point(x=5.3244, y=8.799), Point(x=5.4486, y=8.799), Point(x=5.4486, y=8.9327), Point(x=5.3244, y=8.9327)], span=DocumentSpan(offset=2673, length=2), confidence=0.995), DocumentWord(content=of, polygon=[Point(x=5.4725, y=8.799), Point(x=5.5728, y=8.799), Point(x=5.5728, y=8.9327), Point(x=5.4772, y=8.9327)], span=DocumentSpan(offset=2676, length=2), confidence=0.995), DocumentWord(content=the, polygon=[Point(x=5.5966, y=8.799), Point(x=5.7542, y=8.799), Point(x=5.7542, y=8.9327), Point(x=5.5966, y=8.9327)], span=DocumentSpan(offset=2679, length=3), confidence=0.993), DocumentWord(content=latest, polygon=[Point(x=5.7829, y=8.799), Point(x=6.0694, y=8.799), Point(x=6.0694, y=8.9327), Point(x=5.7829, y=8.9327)], span=DocumentSpan(offset=2683, length=6), confidence=0.993), DocumentWord(content=practicable, polygon=[Point(x=6.098, y=8.799), Point(x=6.6567, y=8.799), Point(x=6.6567, y=8.9327), Point(x=6.098, y=8.9327)], span=DocumentSpan(offset=2690, length=11), confidence=0.988), DocumentWord(content=date., polygon=[Point(x=6.6854, y=8.799), Point(x=6.9433, y=8.799), Point(x=6.9433, y=8.928), Point(x=6.6854, y=8.9327)], span=DocumentSpan(offset=2702, length=5), confidence=0.993), DocumentWord(content=Class, polygon=[Point(x=0.6447, y=9.0425), Point(x=0.9216, y=9.0521), Point(x=0.9121, y=9.224), Point(x=0.6399, y=9.2144)], span=DocumentSpan(offset=2708, length=5), confidence=0.994), DocumentWord(content=Outstanding, polygon=[Point(x=6.1171, y=9.0855), Point(x=6.7331, y=9.0807), Point(x=6.7331, y=9.2096), Point(x=6.1171, y=9.2144)], span=DocumentSpan(offset=2714, length=11), confidence=0.993), DocumentWord(content=as, polygon=[Point(x=6.757, y=9.0807), Point(x=6.8764, y=9.0807), Point(x=6.8764, y=9.2096), Point(x=6.7618, y=9.2096)], span=DocumentSpan(offset=2726, length=2), confidence=0.995), DocumentWord(content=of, polygon=[Point(x=6.9003, y=9.0807), Point(x=7.0101, y=9.0807), Point(x=7.0149, y=9.2096), Point(x=6.9051, y=9.2096)], span=DocumentSpan(offset=2729, length=2), confidence=0.997), DocumentWord(content=April, polygon=[Point(x=7.0388, y=9.0807), Point(x=7.2823, y=9.0807), Point(x=7.2823, y=9.2096), Point(x=7.0388, y=9.2096)], span=DocumentSpan(offset=2732, length=5), confidence=0.995), DocumentWord(content=24,, polygon=[Point(x=7.3062, y=9.0807), Point(x=7.4494, y=9.0807), Point(x=7.4494, y=9.2096), Point(x=7.3062, y=9.2096)], span=DocumentSpan(offset=2738, length=3), confidence=0.995), DocumentWord(content=2020, polygon=[Point(x=7.4733, y=9.0807), Point(x=7.7025, y=9.0807), Point(x=7.7073, y=9.2096), Point(x=7.4781, y=9.2096)], span=DocumentSpan(offset=2742, length=4), confidence=0.993), DocumentWord(content=Common, polygon=[Point(x=0.6399, y=9.3003), Point(x=1.1222, y=9.2956), Point(x=1.1222, y=9.4293), Point(x=0.6399, y=9.4245)], span=DocumentSpan(offset=2747, length=6), confidence=0.994), DocumentWord(content=Stock,, polygon=[Point(x=1.1556, y=9.2956), Point(x=1.4899, y=9.2956), Point(x=1.4899, y=9.434), Point(x=1.1556, y=9.4293)], span=DocumentSpan(offset=2754, length=6), confidence=0.991), DocumentWord(content=$0.00000625, polygon=[Point(x=1.5185, y=9.2956), Point(x=2.211, y=9.2956), Point(x=2.211, y=9.434), Point(x=1.5185, y=9.434)], span=DocumentSpan(offset=2761, length=11), confidence=0.992), DocumentWord(content=par, polygon=[Point(x=2.2348, y=9.2956), Point(x=2.4115, y=9.2956), Point(x=2.4115, y=9.434), Point(x=2.2348, y=9.434)], span=DocumentSpan(offset=2773, length=3), confidence=0.995), DocumentWord(content=value, polygon=[Point(x=2.4354, y=9.2956), Point(x=2.7267, y=9.3003), Point(x=2.7267, y=9.434), Point(x=2.4354, y=9.434)], span=DocumentSpan(offset=2777, length=5), confidence=0.995), DocumentWord(content=per, polygon=[Point(x=2.7553, y=9.3003), Point(x=2.9368, y=9.3003), Point(x=2.9368, y=9.434), Point(x=2.7553, y=9.434)], span=DocumentSpan(offset=2783, length=3), confidence=0.995), DocumentWord(content=share, polygon=[Point(x=2.9654, y=9.3003), Point(x=3.2615, y=9.3051), Point(x=3.2615, y=9.434), Point(x=2.9654, y=9.434)], span=DocumentSpan(offset=2787, length=5), confidence=0.995), DocumentWord(content=7,583,440,247, polygon=[Point(x=6.5612, y=9.3242), Point(x=7.3253, y=9.3194), Point(x=7.3301, y=9.4579), Point(x=6.566, y=9.4627)], span=DocumentSpan(offset=2793, length=13), confidence=0.989), DocumentWord(content=shares, polygon=[Point(x=7.3539, y=9.3194), Point(x=7.7169, y=9.3194), Point(x=7.7169, y=9.4579), Point(x=7.3539, y=9.4579)], span=DocumentSpan(offset=2807, length=6), confidence=0.995)], selection_marks=[DocumentSelectionMark(state=selected, span=DocumentSpan(offset=82, length=10), confidence=0.98, polygon=[Point(x=0.6572, y=1.7653), Point(x=0.7809, y=1.7653), Point(x=0.7809, y=1.8873), Point(x=0.6572, y=1.8873)]), DocumentSelectionMark(state=unselected, span=DocumentSpan(offset=232, length=12), confidence=0.98, polygon=[Point(x=0.6611, y=2.6871), Point(x=0.7835, y=2.6871), Point(x=0.7835, y=2.8103), Point(x=0.6611, y=2.8103)]), DocumentSelectionMark(state=selected, span=DocumentSpan(offset=1282, length=10), confidence=0.99, polygon=[Point(x=4.2406, y=6.5435), Point(x=4.3391, y=6.5435), Point(x=4.3391, y=6.6413), Point(x=4.2406, y=6.6413)]), DocumentSelectionMark(state=unselected, span=DocumentSpan(offset=1293, length=12), confidence=0.995, polygon=[Point(x=4.7086, y=6.5447), Point(x=4.8033, y=6.5447), Point(x=4.8033, y=6.6375), Point(x=4.7086, y=6.6375)]), DocumentSelectionMark(state=selected, span=DocumentSpan(offset=1622, length=10), confidence=0.99, polygon=[Point(x=1.9626, y=7.0222), Point(x=2.0623, y=7.0222), Point(x=2.0623, y=7.1187), Point(x=1.9626, y=7.1187)]), DocumentSelectionMark(state=unselected, span=DocumentSpan(offset=1633, length=12), confidence=0.987, polygon=[Point(x=2.4205, y=7.0234), Point(x=2.5139, y=7.0234), Point(x=2.5139, y=7.1174), Point(x=2.4205, y=7.1174)]), DocumentSelectionMark(state=selected, span=DocumentSpan(offset=1997, length=10), confidence=0.983, polygon=[Point(x=1.8588, y=7.7045), Point(x=1.9573, y=7.7045), Point(x=1.9573, y=7.8011), Point(x=1.8588, y=7.8011)]), DocumentSelectionMark(state=unselected, span=DocumentSpan(offset=2032, length=12), confidence=0.982, polygon=[Point(x=6.2252, y=7.7045), Point(x=6.3199, y=7.7045), Point(x=6.3199, y=7.7998), Point(x=6.2252, y=7.7998)]), DocumentSelectionMark(state=unselected, span=DocumentSpan(offset=2085, length=12), confidence=0.99, polygon=[Point(x=1.7804, y=7.8803), Point(x=1.8764, y=7.8803), Point(x=1.8764, y=7.9755), Point(x=1.7804, y=7.9755)]), DocumentSelectionMark(state=unselected, span=DocumentSpan(offset=2098, length=12), confidence=0.995, polygon=[Point(x=6.7894, y=7.8815), Point(x=6.884, y=7.8815), Point(x=6.884, y=7.9768), Point(x=6.7894, y=7.9768)]), DocumentSelectionMark(state=unselected, span=DocumentSpan(offset=2137, length=12), confidence=0.987, polygon=[Point(x=6.7843, y=8.0534), Point(x=6.879, y=8.0534), Point(x=6.879, y=8.1474), Point(x=6.7843, y=8.1474)]), DocumentSelectionMark(state=unselected, span=DocumentSpan(offset=2425, length=12), confidence=0.99, polygon=[Point(x=6.5389, y=8.4099), Point(x=6.6298, y=8.4099), Point(x=6.6298, y=8.5013), Point(x=6.5389, y=8.5013)]), DocumentSelectionMark(state=unselected, span=DocumentSpan(offset=2551, length=12), confidence=0.997, polygon=[Point(x=6.7881, y=8.6098), Point(x=6.884, y=8.6098), Point(x=6.884, y=8.7051), Point(x=6.7881, y=8.7051)]), DocumentSelectionMark(state=selected, span=DocumentSpan(offset=2568, length=10), confidence=0.99, polygon=[Point(x=7.2397, y=8.6136), Point(x=7.3369, y=8.6136), Point(x=7.3369, y=8.7089), Point(x=7.2397, y=8.7089)])], spans=[DocumentSpan(offset=0, length=2813)], barcodes=[], formulas=[])], paragraphs=[DocumentParagraph(role=title, content=UNITED STATES SECURITIES AND EXCHANGE COMMISSION Washington, D.C. 20549, bounding_regions=[BoundingRegion(page_number=1, polygon=[Point(x=2.1656, y=0.6713), Point(x=6.3116, y=0.6468), Point(x=6.3151, y=1.2434), Point(x=2.1692, y=1.268)])], spans=[DocumentSpan(offset=0, length=71)]), DocumentParagraph(role=sectionHeading, content=FORM 10-Q, bounding_regions=[BoundingRegion(page_number=1, polygon=[Point(x=3.7104, y=1.3893), Point(x=4.7944, y=1.3893), Point(x=4.7944, y=1.5898), Point(x=3.7104, y=1.5898)])], spans=[DocumentSpan(offset=72, length=9)]), DocumentParagraph(role=None, content=:selected: ☒ QUARTERLY REPORT PURSUANT TO SECTION 13 OR 15(d) OF THE SECURITIES EXCHANGE ACT OF 1934, bounding_regions=[BoundingRegion(page_number=1, polygon=[Point(x=0.6572, y=1.7426), Point(x=7.8601, y=1.7426), Point(x=7.8601, y=2.0625), Point(x=0.6572, y=2.0625)])], spans=[DocumentSpan(offset=82, length=100)]), DocumentParagraph(role=None, content=For the Quarterly Period Ended March 31, 2020, bounding_regions=[BoundingRegion(page_number=1, polygon=[Point(x=0.9787, y=2.1341), Point(x=3.4621, y=2.1293), Point(x=3.4624, y=2.2726), Point(x=0.9789, y=2.2773)])], spans=[DocumentSpan(offset=183, length=45)]), DocumentParagraph(role=None, content=OR, bounding_regions=[BoundingRegion(page_number=1, polygon=[Point(x=4.1306, y=2.2726), Point(x=4.3646, y=2.2726), Point(x=4.3646, y=2.4158), Point(x=4.1306, y=2.4158)])], spans=[DocumentSpan(offset=229, length=2)]), DocumentParagraph(role=None, content=:unselected:, bounding_regions=[BoundingRegion(page_number=1, polygon=[Point(x=0.6611, y=2.6871), Point(x=0.7835, y=2.6871), Point(x=0.7835, y=2.8103), Point(x=0.6611, y=2.8103)])], spans=[DocumentSpan(offset=232, length=12)]), DocumentParagraph(role=None, content=☐ TRANSITION REPORT PURSUANT TO SECTION 13 OR 15(d) OF THE SECURITIES EXCHANGE ACT OF 1934, bounding_regions=[BoundingRegion(page_number=1, polygon=[Point(x=0.6694, y=2.6641), Point(x=7.8649, y=2.6641), Point(x=7.8649, y=2.9935), Point(x=0.6694, y=2.9935)])], spans=[DocumentSpan(offset=245, length=90)]), DocumentParagraph(role=None, content=For the Transition Period From, bounding_regions=[BoundingRegion(page_number=1, polygon=[Point(x=0.9694, y=3.0556), Point(x=2.6264, y=3.0556), Point(x=2.6264, y=3.194), Point(x=0.9694, y=3.194)])], spans=[DocumentSpan(offset=336, length=30)]), DocumentParagraph(role=None, content=to, bounding_regions=[BoundingRegion(page_number=1, polygon=[Point(x=3.1565, y=3.0794), Point(x=3.2819, y=3.0746), Point(x=3.2854, y=3.1654), Point(x=3.16, y=3.1702)])], spans=[DocumentSpan(offset=367, length=2)]), DocumentParagraph(role=None, content=Commission File Number 001-37845, bounding_regions=[BoundingRegion(page_number=1, polygon=[Point(x=3.2182, y=3.2418), Point(x=5.2671, y=3.237), Point(x=5.2675, y=3.3802), Point(x=3.2185, y=3.385)])], spans=[DocumentSpan(offset=370, length=32)]), DocumentParagraph(role=sectionHeading, content=MICROSOFT CORPORATION, bounding_regions=[BoundingRegion(page_number=1, polygon=[Point(x=2.5258, y=3.5378), Point(x=5.9691, y=3.533), Point(x=5.9694, y=3.7765), Point(x=2.5261, y=3.7812)])], spans=[DocumentSpan(offset=403, length=21)]), DocumentParagraph(role=None, content=WASHINGTON (STATE OF INCORPORATION), bounding_regions=[BoundingRegion(page_number=1, polygon=[Point(x=1.6857, y=3.9293), Point(x=3.1135, y=3.9293), Point(x=3.1135, y=4.2014), Point(x=1.6857, y=4.2014)])], spans=[DocumentSpan(offset=425, length=35)]), DocumentParagraph(role=None, content=91-1144442, bounding_regions=[BoundingRegion(page_number=1, polygon=[Point(x=5.7542, y=3.934), Point(x=6.418, y=3.9388), Point(x=6.418, y=4.0677), Point(x=5.7542, y=4.0629)])], spans=[DocumentSpan(offset=461, length=10)]), DocumentParagraph(role=None, content=(I.R.S. ID), bounding_regions=[BoundingRegion(page_number=1, polygon=[Point(x=5.8593, y=4.082), Point(x=6.3081, y=4.082), Point(x=6.3081, y=4.2062), Point(x=5.8593, y=4.2014)])], spans=[DocumentSpan(offset=472, length=11)]), DocumentParagraph(role=None, content=ONE MICROSOFT WAY, REDMOND, WASHINGTON 98052-6399 (425) 882-8080 www.microsoft.com/investor, bounding_regions=[BoundingRegion(page_number=1, polygon=[Point(x=2.5691, y=4.2491), Point(x=5.9118, y=4.2491), Point(x=5.9118, y=4.6454), Point(x=2.5691, y=4.6454)])], spans=[DocumentSpan(offset=484, length=91)]), DocumentParagraph(role=None, content=Securities registered pursuant to Section 12(b) of the Act:, bounding_regions=[BoundingRegion(page_number=1, polygon=[Point(x=0.6158, y=4.717), Point(x=3.634, y=4.7122), Point(x=3.6342, y=4.8555), Point(x=0.616, y=4.8602)])], spans=[DocumentSpan(offset=576, length=59)]), DocumentParagraph(role=None, content=Title of each class, bounding_regions=[BoundingRegion(page_number=1, polygon=[Point(x=0.5561, y=4.8963), Point(x=3.8728, y=4.8963), Point(x=3.8728, y=5.1163), Point(x=0.5561, y=5.1163)])], spans=[DocumentSpan(offset=636, length=19)]), DocumentParagraph(role=None, content=Trading Symbol, bounding_regions=[BoundingRegion(page_number=1, polygon=[Point(x=3.8728, y=4.8963), Point(x=5.381, y=4.8963), Point(x=5.3883, y=5.1163), Point(x=3.8728, y=5.1163)])], spans=[DocumentSpan(offset=656, length=14)]), DocumentParagraph(role=None, content=Name of exchange on which registered, bounding_regions=[BoundingRegion(page_number=1, polygon=[Point(x=5.381, y=4.8963), Point(x=7.7019, y=4.8963), Point(x=7.7019, y=5.1163), Point(x=5.3883, y=5.1163)])], spans=[DocumentSpan(offset=671, length=36)]), DocumentParagraph(role=None, content=Common stock, $0.00000625 par value per share, bounding_regions=[BoundingRegion(page_number=1, polygon=[Point(x=0.5561, y=5.1163), Point(x=3.8728, y=5.1163), Point(x=3.8728, y=5.2997), Point(x=0.5561, y=5.2997)])], spans=[DocumentSpan(offset=708, length=45)]), DocumentParagraph(role=None, content=MSFT, bounding_regions=[BoundingRegion(page_number=1, polygon=[Point(x=3.8728, y=5.1163), Point(x=5.3883, y=5.1163), Point(x=5.3883, y=5.2997), Point(x=3.8728, y=5.2997)])], spans=[DocumentSpan(offset=754, length=4)]), DocumentParagraph(role=None, content=NASDAQ, bounding_regions=[BoundingRegion(page_number=1, polygon=[Point(x=5.3883, y=5.1163), Point(x=7.7019, y=5.1163), Point(x=7.7019, y=5.2997), Point(x=5.3883, y=5.2997)])], spans=[DocumentSpan(offset=759, length=6)]), DocumentParagraph(role=None, content=2.125% Notes due 2021, bounding_regions=[BoundingRegion(page_number=1, polygon=[Point(x=0.5561, y=5.2997), Point(x=3.8728, y=5.2997), Point(x=3.8801, y=5.4537), Point(x=0.5561, y=5.4537)])], spans=[DocumentSpan(offset=766, length=21)]), DocumentParagraph(role=None, content=MSFT, bounding_regions=[BoundingRegion(page_number=1, polygon=[Point(x=3.8728, y=5.2997), Point(x=5.3883, y=5.2997), Point(x=5.3883, y=5.4537), Point(x=3.8801, y=5.4537)])], spans=[DocumentSpan(offset=788, length=4)]), DocumentParagraph(role=None, content=NASDAQ, bounding_regions=[BoundingRegion(page_number=1, polygon=[Point(x=5.3883, y=5.2997), Point(x=7.7019, y=5.2997), Point(x=7.7019, y=5.4537), Point(x=5.3883, y=5.4537)])], spans=[DocumentSpan(offset=793, length=6)]), DocumentParagraph(role=None, content=3.125% Notes due 2028, bounding_regions=[BoundingRegion(page_number=1, polygon=[Point(x=0.5561, y=5.4537), Point(x=3.8801, y=5.4537), Point(x=3.8801, y=5.615), Point(x=0.5561, y=5.615)])], spans=[DocumentSpan(offset=800, length=21)]), DocumentParagraph(role=None, content=MSFT, bounding_regions=[BoundingRegion(page_number=1, polygon=[Point(x=3.8801, y=5.4537), Point(x=5.3883, y=5.4537), Point(x=5.3883, y=5.615), Point(x=3.8801, y=5.615)])], spans=[DocumentSpan(offset=822, length=4)]), DocumentParagraph(role=None, content=NASDAQ, bounding_regions=[BoundingRegion(page_number=1, polygon=[Point(x=5.3883, y=5.4537), Point(x=7.7019, y=5.4537), Point(x=7.7019, y=5.615), Point(x=5.3883, y=5.615)])], spans=[DocumentSpan(offset=827, length=6)]), DocumentParagraph(role=None, content=2.625% Notes due 2033, bounding_regions=[BoundingRegion(page_number=1, polygon=[Point(x=0.5561, y=5.615), Point(x=3.8801, y=5.615), Point(x=3.8801, y=5.7984), Point(x=0.5561, y=5.8057)])], spans=[DocumentSpan(offset=834, length=21)]), DocumentParagraph(role=None, content=MSFT, bounding_regions=[BoundingRegion(page_number=1, polygon=[Point(x=3.8801, y=5.615), Point(x=5.3883, y=5.615), Point(x=5.3883, y=5.7984), Point(x=3.8801, y=5.7984)])], spans=[DocumentSpan(offset=856, length=4)]), DocumentParagraph(role=None, content=NASDAQ, bounding_regions=[BoundingRegion(page_number=1, polygon=[Point(x=5.3883, y=5.615), Point(x=7.7019, y=5.615), Point(x=7.7019, y=5.7984), Point(x=5.3883, y=5.7984)])], spans=[DocumentSpan(offset=861, length=6)]), DocumentParagraph(role=None, content=Securities registered pursuant to Section 12(g) of the Act:, bounding_regions=[BoundingRegion(page_number=1, polygon=[Point(x=0.6065, y=5.8199), Point(x=3.6292, y=5.8199), Point(x=3.6292, y=5.9631), Point(x=0.6065, y=5.9631)])], spans=[DocumentSpan(offset=868, length=59)]), DocumentParagraph(role=None, content=NONE, bounding_regions=[BoundingRegion(page_number=1, polygon=[Point(x=0.6112, y=6.0538), Point(x=0.9789, y=6.0538), Point(x=0.9789, y=6.178), Point(x=0.6112, y=6.178)])], spans=[DocumentSpan(offset=928, length=4)]), DocumentParagraph(role=None, content=Indicate by check mark whether the registrant (1) has filed all reports required to be filed by Section 13 or 15(d) of the Securities Exchange Act of 1934 during the preceding 12 months (or for such shorter period that the registrant was required to file such reports), and (2) has been subject to such filing requirements for the past 90 days. Yes :selected: :unselected: No, bounding_regions=[BoundingRegion(page_number=1, polygon=[Point(x=0.6302, y=6.2448), Point(x=7.8553, y=6.24), Point(x=7.8556, y=6.6673), Point(x=0.6305, y=6.6721)])], spans=[DocumentSpan(offset=933, length=375)]), DocumentParagraph(role=None, content=Indicate by check mark whether the registrant has submitted electronically every Interactive Data File required to be submitted pursuant to Rule 405 of Regulation S-T (§232.405 of this chapter) during the preceding 12 months (or for such shorter period that the registrant was required to submit such files). Yes :selected: :unselected: No, bounding_regions=[BoundingRegion(page_number=1, polygon=[Point(x=0.6351, y=6.727), Point(x=7.8601, y=6.727), Point(x=7.8601, y=7.1376), Point(x=0.6351, y=7.1376)])], spans=[DocumentSpan(offset=1309, length=339)]), DocumentParagraph(role=None, content=Indicate by check mark whether the registrant is a large accelerated filer, an accelerated filer, a non-accelerated filer, a smaller reporting company, or an emerging growth company. See the definitions of \"large accelerated filer,\" \"accelerated filer,\" \"smaller reporting company,\" and \"emerging growth company\" in Rule 12b-2 of the Exchange Act., bounding_regions=[BoundingRegion(page_number=1, polygon=[Point(x=0.6303, y=7.2044), Point(x=7.8506, y=7.2044), Point(x=7.8506, y=7.6198), Point(x=0.6303, y=7.6198)])], spans=[DocumentSpan(offset=1649, length=347)]), DocumentParagraph(role=None, content=:selected: Large accelerated filer, bounding_regions=[BoundingRegion(page_number=1, polygon=[Point(x=0.6351, y=7.6866), Point(x=1.9573, y=7.6866), Point(x=1.9573, y=7.8299), Point(x=0.6351, y=7.8299)])], spans=[DocumentSpan(offset=1997, length=34)]), DocumentParagraph(role=None, content=:unselected: Accelerated filer, bounding_regions=[BoundingRegion(page_number=1, polygon=[Point(x=5.3149, y=7.6866), Point(x=6.3199, y=7.6866), Point(x=6.3199, y=7.8155), Point(x=5.3149, y=7.8155)])], spans=[DocumentSpan(offset=2032, length=30)]), DocumentParagraph(role=None, content=Non-accelerated filer, bounding_regions=[BoundingRegion(page_number=1, polygon=[Point(x=0.6351, y=7.8681), Point(x=1.7573, y=7.8681), Point(x=1.7573, y=7.9922), Point(x=0.6351, y=7.9922)])], spans=[DocumentSpan(offset=2063, length=21)]), DocumentParagraph(role=None, content=:unselected:, bounding_regions=[BoundingRegion(page_number=1, polygon=[Point(x=1.7804, y=7.8803), Point(x=1.8764, y=7.8803), Point(x=1.8764, y=7.9755), Point(x=1.7804, y=7.9755)])], spans=[DocumentSpan(offset=2085, length=12)]), DocumentParagraph(role=None, content=:unselected: Smaller reporting company, bounding_regions=[BoundingRegion(page_number=1, polygon=[Point(x=5.3101, y=7.8633), Point(x=6.8847, y=7.8737), Point(x=6.8838, y=8.0074), Point(x=5.3092, y=7.997)])], spans=[DocumentSpan(offset=2098, length=38)]), DocumentParagraph(role=None, content=:unselected: Emerging growth company, bounding_regions=[BoundingRegion(page_number=1, polygon=[Point(x=5.3292, y=8.0399), Point(x=6.879, y=8.0399), Point(x=6.879, y=8.1784), Point(x=5.3292, y=8.1784)])], spans=[DocumentSpan(offset=2137, length=36)]), DocumentParagraph(role=None, content=If an emerging growth company, indicate by check mark if the registrant has elected not to use the extended transition period for complying with any new or revised financial accounting standards provided pursuant to Section 13(a) of the Exchange Act., bounding_regions=[BoundingRegion(page_number=1, polygon=[Point(x=0.6351, y=8.2357), Point(x=7.8506, y=8.2357), Point(x=7.8506, y=8.5269), Point(x=0.6351, y=8.5269)])], spans=[DocumentSpan(offset=2174, length=250)]), DocumentParagraph(role=None, content=:unselected: Indicate by check mark whether the registrant is a shell company (as defined in Rule 12b-2 of the Exchange Act)., bounding_regions=[BoundingRegion(page_number=1, polygon=[Point(x=0.6356, y=8.5939), Point(x=6.6297, y=8.407), Point(x=6.6397, y=8.7259), Point(x=0.6455, y=8.9127)])], spans=[DocumentSpan(offset=2425, length=125)]), DocumentParagraph(role=None, content=:unselected: Yes, bounding_regions=[BoundingRegion(page_number=1, polygon=[Point(x=6.4323, y=8.5603), Point(x=6.884, y=8.5603), Point(x=6.884, y=8.7513), Point(x=6.4323, y=8.7513)])], spans=[DocumentSpan(offset=2551, length=16)]), DocumentParagraph(role=None, content=:selected: No, bounding_regions=[BoundingRegion(page_number=1, polygon=[Point(x=7.0101, y=8.6128), Point(x=7.3369, y=8.6128), Point(x=7.3369, y=8.7131), Point(x=7.0101, y=8.7131)])], spans=[DocumentSpan(offset=2568, length=13)]), DocumentParagraph(role=None, content=Indicate the number of shares outstanding of each of the issuer's classes of common stock, as of the latest practicable date., bounding_regions=[BoundingRegion(page_number=1, polygon=[Point(x=0.6303, y=8.7943), Point(x=6.9385, y=8.7943), Point(x=6.9385, y=8.928), Point(x=0.6303, y=8.928)])], spans=[DocumentSpan(offset=2582, length=125)]), DocumentParagraph(role=None, content=Class, bounding_regions=[BoundingRegion(page_number=1, polygon=[Point(x=0.5748, y=9.0407), Point(x=4.7136, y=9.0407), Point(x=4.721, y=9.2489), Point(x=0.5748, y=9.2415)])], spans=[DocumentSpan(offset=2708, length=5)]), DocumentParagraph(role=None, content=Outstanding as of April 24, 2020, bounding_regions=[BoundingRegion(page_number=1, polygon=[Point(x=4.7136, y=9.0407), Point(x=7.8288, y=9.0407), Point(x=7.8363, y=9.2489), Point(x=4.721, y=9.2489)])], spans=[DocumentSpan(offset=2714, length=32)]), DocumentParagraph(role=None, content=Common Stock, $0.00000625 par value per share, bounding_regions=[BoundingRegion(page_number=1, polygon=[Point(x=0.5748, y=9.2415), Point(x=4.721, y=9.2489), Point(x=4.7285, y=9.4869), Point(x=0.5748, y=9.4795)])], spans=[DocumentSpan(offset=2747, length=45)]), DocumentParagraph(role=None, content=7,583,440,247 shares, bounding_regions=[BoundingRegion(page_number=1, polygon=[Point(x=4.721, y=9.2489), Point(x=7.8363, y=9.2489), Point(x=7.8438, y=9.4869), Point(x=4.7285, y=9.4869)])], spans=[DocumentSpan(offset=2793, length=20)])], tables=[DocumentTable(row_count=5, column_count=3, cells=[DocumentTableCell(kind=columnHeader, row_index=0, column_index=0, row_span=1, column_span=1, content=Title of each class, bounding_regions=[BoundingRegion(page_number=1, polygon=[Point(x=0.5561, y=4.8963), Point(x=3.8728, y=4.8963), Point(x=3.8728, y=5.1163), Point(x=0.5561, y=5.1163)])], spans=[DocumentSpan(offset=636, length=19)]), DocumentTableCell(kind=columnHeader, row_index=0, column_index=1, row_span=1, column_span=1, content=Trading Symbol, bounding_regions=[BoundingRegion(page_number=1, polygon=[Point(x=3.8728, y=4.8963), Point(x=5.381, y=4.8963), Point(x=5.3883, y=5.1163), Point(x=3.8728, y=5.1163)])], spans=[DocumentSpan(offset=656, length=14)]), DocumentTableCell(kind=columnHeader, row_index=0, column_index=2, row_span=1, column_span=1, content=Name of exchange on which registered, bounding_regions=[BoundingRegion(page_number=1, polygon=[Point(x=5.381, y=4.8963), Point(x=7.7019, y=4.8963), Point(x=7.7019, y=5.1163), Point(x=5.3883, y=5.1163)])], spans=[DocumentSpan(offset=671, length=36)]), DocumentTableCell(kind=content, row_index=1, column_index=0, row_span=1, column_span=1, content=Common stock, $0.00000625 par value per share, bounding_regions=[BoundingRegion(page_number=1, polygon=[Point(x=0.5561, y=5.1163), Point(x=3.8728, y=5.1163), Point(x=3.8728, y=5.2997), Point(x=0.5561, y=5.2997)])], spans=[DocumentSpan(offset=708, length=45)]), DocumentTableCell(kind=content, row_index=1, column_index=1, row_span=1, column_span=1, content=MSFT, bounding_regions=[BoundingRegion(page_number=1, polygon=[Point(x=3.8728, y=5.1163), Point(x=5.3883, y=5.1163), Point(x=5.3883, y=5.2997), Point(x=3.8728, y=5.2997)])], spans=[DocumentSpan(offset=754, length=4)]), DocumentTableCell(kind=content, row_index=1, column_index=2, row_span=1, column_span=1, content=NASDAQ, bounding_regions=[BoundingRegion(page_number=1, polygon=[Point(x=5.3883, y=5.1163), Point(x=7.7019, y=5.1163), Point(x=7.7019, y=5.2997), Point(x=5.3883, y=5.2997)])], spans=[DocumentSpan(offset=759, length=6)]), DocumentTableCell(kind=content, row_index=2, column_index=0, row_span=1, column_span=1, content=2.125% Notes due 2021, bounding_regions=[BoundingRegion(page_number=1, polygon=[Point(x=0.5561, y=5.2997), Point(x=3.8728, y=5.2997), Point(x=3.8801, y=5.4537), Point(x=0.5561, y=5.4537)])], spans=[DocumentSpan(offset=766, length=21)]), DocumentTableCell(kind=content, row_index=2, column_index=1, row_span=1, column_span=1, content=MSFT, bounding_regions=[BoundingRegion(page_number=1, polygon=[Point(x=3.8728, y=5.2997), Point(x=5.3883, y=5.2997), Point(x=5.3883, y=5.4537), Point(x=3.8801, y=5.4537)])], spans=[DocumentSpan(offset=788, length=4)]), DocumentTableCell(kind=content, row_index=2, column_index=2, row_span=1, column_span=1, content=NASDAQ, bounding_regions=[BoundingRegion(page_number=1, polygon=[Point(x=5.3883, y=5.2997), Point(x=7.7019, y=5.2997), Point(x=7.7019, y=5.4537), Point(x=5.3883, y=5.4537)])], spans=[DocumentSpan(offset=793, length=6)]), DocumentTableCell(kind=content, row_index=3, column_index=0, row_span=1, column_span=1, content=3.125% Notes due 2028, bounding_regions=[BoundingRegion(page_number=1, polygon=[Point(x=0.5561, y=5.4537), Point(x=3.8801, y=5.4537), Point(x=3.8801, y=5.615), Point(x=0.5561, y=5.615)])], spans=[DocumentSpan(offset=800, length=21)]), DocumentTableCell(kind=content, row_index=3, column_index=1, row_span=1, column_span=1, content=MSFT, bounding_regions=[BoundingRegion(page_number=1, polygon=[Point(x=3.8801, y=5.4537), Point(x=5.3883, y=5.4537), Point(x=5.3883, y=5.615), Point(x=3.8801, y=5.615)])], spans=[DocumentSpan(offset=822, length=4)]), DocumentTableCell(kind=content, row_index=3, column_index=2, row_span=1, column_span=1, content=NASDAQ, bounding_regions=[BoundingRegion(page_number=1, polygon=[Point(x=5.3883, y=5.4537), Point(x=7.7019, y=5.4537), Point(x=7.7019, y=5.615), Point(x=5.3883, y=5.615)])], spans=[DocumentSpan(offset=827, length=6)]), DocumentTableCell(kind=content, row_index=4, column_index=0, row_span=1, column_span=1, content=2.625% Notes due 2033, bounding_regions=[BoundingRegion(page_number=1, polygon=[Point(x=0.5561, y=5.615), Point(x=3.8801, y=5.615), Point(x=3.8801, y=5.7984), Point(x=0.5561, y=5.8057)])], spans=[DocumentSpan(offset=834, length=21)]), DocumentTableCell(kind=content, row_index=4, column_index=1, row_span=1, column_span=1, content=MSFT, bounding_regions=[BoundingRegion(page_number=1, polygon=[Point(x=3.8801, y=5.615), Point(x=5.3883, y=5.615), Point(x=5.3883, y=5.7984), Point(x=3.8801, y=5.7984)])], spans=[DocumentSpan(offset=856, length=4)]), DocumentTableCell(kind=content, row_index=4, column_index=2, row_span=1, column_span=1, content=NASDAQ, bounding_regions=[BoundingRegion(page_number=1, polygon=[Point(x=5.3883, y=5.615), Point(x=7.7019, y=5.615), Point(x=7.7019, y=5.7984), Point(x=5.3883, y=5.7984)])], spans=[DocumentSpan(offset=861, length=6)])], bounding_regions=[BoundingRegion(page_number=1, polygon=[Point(x=0.5809, y=4.897), Point(x=7.7181, y=4.8965), Point(x=7.7203, y=5.8067), Point(x=0.5824, y=5.8075)])], spans=[DocumentSpan(offset=636, length=231)]), DocumentTable(row_count=2, column_count=2, cells=[DocumentTableCell(kind=columnHeader, row_index=0, column_index=0, row_span=1, column_span=1, content=Class, bounding_regions=[BoundingRegion(page_number=1, polygon=[Point(x=0.5748, y=9.0407), Point(x=4.7136, y=9.0407), Point(x=4.721, y=9.2489), Point(x=0.5748, y=9.2415)])], spans=[DocumentSpan(offset=2708, length=5)]), DocumentTableCell(kind=columnHeader, row_index=0, column_index=1, row_span=1, column_span=1, content=Outstanding as of April 24, 2020, bounding_regions=[BoundingRegion(page_number=1, polygon=[Point(x=4.7136, y=9.0407), Point(x=7.8288, y=9.0407), Point(x=7.8363, y=9.2489), Point(x=4.721, y=9.2489)])], spans=[DocumentSpan(offset=2714, length=32)]), DocumentTableCell(kind=content, row_index=1, column_index=0, row_span=1, column_span=1, content=Common Stock, $0.00000625 par value per share, bounding_regions=[BoundingRegion(page_number=1, polygon=[Point(x=0.5748, y=9.2415), Point(x=4.721, y=9.2489), Point(x=4.7285, y=9.4869), Point(x=0.5748, y=9.4795)])], spans=[DocumentSpan(offset=2747, length=45)]), DocumentTableCell(kind=content, row_index=1, column_index=1, row_span=1, column_span=1, content=7,583,440,247 shares, bounding_regions=[BoundingRegion(page_number=1, polygon=[Point(x=4.721, y=9.2489), Point(x=7.8363, y=9.2489), Point(x=7.8438, y=9.4869), Point(x=4.7285, y=9.4869)])], spans=[DocumentSpan(offset=2793, length=20)])], bounding_regions=[BoundingRegion(page_number=1, polygon=[Point(x=0.5989, y=9.0458), Point(x=7.8807, y=9.0475), Point(x=7.8833, y=9.5126), Point(x=0.6003, y=9.511)])], spans=[DocumentSpan(offset=2708, length=105)])], key_value_pairs=[], styles=[DocumentStyle(is_handwritten=True, spans=[DocumentSpan(offset=2564, length=3)], confidence=0.3, similar_font_family=None, font_style=None, font_weight=None, color=None, background_color=None)], documents=[])"
      ]
     },
     "execution_count": 4,
     "metadata": {},
     "output_type": "execute_result"
    }
   ],
   "source": [
    "# Analyze a document at a URL:\n",
    "url = \"https://raw.githubusercontent.com/Azure-Samples/cognitive-services-REST-api-samples/master/curl/form-recognizer/sample-layout.pdf\"\n",
    "\n",
    "\n",
    "# Replace with your actual url:\n",
    "# If you use the URL of a public website, to find more URLs, please visit: https://aka.ms/V3.1-more-URLs \n",
    "# If you analyze a document in Blob Storage, you need to generate Public SAS URL, please visit: https://aka.ms/create-sas-tokens\n",
    "\n",
    "poller = document_analysis_client.begin_analyze_document_from_url(\"prebuilt-layout\", document_url=url)\n",
    "result = poller.result()\n",
    "#print(result) ## this worked "
   ]
  },
  {
   "cell_type": "markdown",
   "metadata": {
    "nteract": {
     "transient": {
      "deleting": false
     }
    }
   },
   "source": [
    "## Now for Custom Doc SDK code"
   ]
  },
  {
   "cell_type": "code",
   "execution_count": 12,
   "metadata": {
    "gather": {
     "logged": 1732654521373
    },
    "jupyter": {
     "outputs_hidden": false,
     "source_hidden": false
    },
    "nteract": {
     "transient": {
      "deleting": false
     }
    }
   },
   "outputs": [
    {
     "name": "stdout",
     "output_type": "stream",
     "text": [
      "Ready to use Azure ML 1.57.0 to work with azureml-documentclassifier\n"
     ]
    }
   ],
   "source": [
    "import azureml.core\n",
    "import os\n",
    "from azureml.core import Workspace\n",
    "\n",
    "# Load the workspace from the saved config file\n",
    "ws = Workspace.from_config()\n",
    "print('Ready to use Azure ML {} to work with {}'.format(azureml.core.VERSION, ws.name))"
   ]
  },
  {
   "cell_type": "code",
   "execution_count": 13,
   "metadata": {
    "gather": {
     "logged": 1732654523020
    },
    "jupyter": {
     "outputs_hidden": false,
     "source_hidden": false
    },
    "nteract": {
     "transient": {
      "deleting": false
     }
    }
   },
   "outputs": [],
   "source": [
    "from azure.core.credentials import AzureKeyCredential\n",
    "from azure.ai.documentintelligence import DocumentIntelligenceClient\n",
    "from azure.core.exceptions import HttpResponseError\n"
   ]
  },
  {
   "cell_type": "code",
   "execution_count": 14,
   "metadata": {
    "gather": {
     "logged": 1732654525375
    },
    "jupyter": {
     "outputs_hidden": false,
     "source_hidden": false
    },
    "nteract": {
     "transient": {
      "deleting": false
     }
    }
   },
   "outputs": [
    {
     "name": "stdout",
     "output_type": "stream",
     "text": [
      "/mnt/batch/tasks/shared/LS_root/mounts/clusters/comp-instance-docintel/code/Users/jaypadhya\n",
      "Path exists: /mnt/batch/tasks/shared/LS_root/mounts/clusters/comp-instance-docintel/code/Users/jaypadhya/CustomClassifier/TRAINING_DOCUMENTS\n",
      "Commercial invoice\n",
      "Forwarders Cargo Receipt\n",
      "Packaging List Doc\n",
      "Sea Waybill\n",
      "/mnt/batch/tasks/shared/LS_root/mounts/clusters/comp-instance-docintel/code/Users/jaypadhya/CustomClassifier/TRAINING_DOCUMENTS\n"
     ]
    }
   ],
   "source": [
    "import os\n",
    "\n",
    "# Get the current working directory\n",
    "current_dir = os.getcwd()\n",
    "print(current_dir)\n",
    "\n",
    "#Additional Folders need to be added here\n",
    "base_dir = current_dir + '/CustomClassifier/TRAINING_DOCUMENTS'\n",
    "\n",
    "if os.path.exists(base_dir):\n",
    "    print(f\"Path exists: {base_dir}\")\n",
    "else:\n",
    "    print(f\"Path does NOT exist: {base_dir}\")\n",
    "\n",
    "\n",
    "for item in os.listdir(base_dir):\n",
    "    print(item)\n",
    "    \n",
    "local_directory =base_dir\n",
    "print(local_directory)"
   ]
  },
  {
   "cell_type": "code",
   "execution_count": 54,
   "metadata": {
    "gather": {
     "logged": 1732645278581
    },
    "jupyter": {
     "outputs_hidden": false,
     "source_hidden": false
    },
    "nteract": {
     "transient": {
      "deleting": false
     }
    }
   },
   "outputs": [],
   "source": [
    "def analyze_layout():\n",
    "# [START analyze_layout]\n",
    "\n",
    "    document_intelligence_client = DocumentIntelligenceClient(endpoint=endpoint, credential=AzureKeyCredential(key))\n",
    "\n",
    "    # Create arrays to store the incompatible files\n",
    "    incompatible_files = []\n",
    "\n",
    "    # Iterate through files in the local directory and analyze each document\n",
    "    for root, dirs, files in os.walk(local_directory):\n",
    "        for dir in dirs:\n",
    "            dir_path = os.path.join(root, dir)\n",
    "            for file in os.listdir(dir_path):\n",
    "                document_file_path = os.path.join(dir_path, file)\n",
    "                if not file.endswith((\".json\", \".jsonl\")):\n",
    "                    print(f\"Analyzing document in {document_file_path}\")\n",
    "                    ocr_json_file_path = document_file_path + \".ocr.json\"\n",
    "                    try:\n",
    "                        with open(document_file_path, \"rb\") as f:\n",
    "                            # Use begin_analyze_document to start the analysis process, and use a callback in order to recieve the raw response\n",
    "                            poller = document_intelligence_client.begin_analyze_document(\n",
    "                                \"prebuilt-layout\", analyze_request=f, content_type=\"application/octet-stream\", cls=lambda raw_response, _, headers: create_ocr_json(ocr_json_file_path, raw_response)\n",
    "                            )\n",
    "                    except HttpResponseError as error:\n",
    "                        print(f\"Analysis of {file} failed: {error.error}\\n\\nSkipping to next file...\")\n",
    "                        incompatible_files.append(document_file_path)\n",
    "                        continue \n",
    "                    result = poller.result()\n",
    "\n",
    "    # Print the list of incompatible files\n",
    "    if len(incompatible_files) > 0:\n",
    "        print(\"\\nThe following files were skipped as they are corrupted or the format is unsupported:\")\n",
    "        for file in incompatible_files:\n",
    "            print(f\"\\t{file}\")\n",
    "        print(\"Please visit the following link for more information on supported file types and sizes. \\nhttps://learn.microsoft.com/en-us/azure/ai-services/document-intelligence/concept-custom-classifier?view=doc-intel-4.0.0#input-requirements\")\n",
    "    \n",
    "    print(\"Batch layout analysis completed!\")\n",
    "# [END analyze_layout]\n",
    "\n",
    "def create_ocr_json(ocr_json_file_path, raw_response):\n",
    "# [START create_ocr_json]\n",
    "    with open(ocr_json_file_path, \"w\", encoding=\"utf-8\") as f:\n",
    "        f.write(raw_response.http_response.body().decode(\"utf-8\"))\n",
    "        print(f\"\\tOutput saved to {ocr_json_file_path}\")\n",
    "# [END create_ocr_json]"
   ]
  },
  {
   "cell_type": "code",
   "execution_count": 55,
   "metadata": {
    "gather": {
     "logged": 1732645472211
    },
    "jupyter": {
     "outputs_hidden": false,
     "source_hidden": false
    },
    "nteract": {
     "transient": {
      "deleting": false
     }
    }
   },
   "outputs": [
    {
     "name": "stdout",
     "output_type": "stream",
     "text": [
      "Analyzing document in /mnt/batch/tasks/shared/LS_root/mounts/clusters/comp-instance-docintel/code/Users/jaypadhya/CustomClassifier/TRAINING_DOCUMENTS/Commercial invoice/.amlignore\n",
      "Analysis of .amlignore failed: (InvalidRequest) Invalid request.\n",
      "Code: InvalidRequest\n",
      "Message: Invalid request.\n",
      "Inner error: {\n",
      "    \"code\": \"InvalidContent\",\n",
      "    \"message\": \"The file is corrupted or format is unsupported. Refer to documentation for the list of supported formats.\"\n",
      "}\n",
      "\n",
      "Skipping to next file...\n",
      "Analyzing document in /mnt/batch/tasks/shared/LS_root/mounts/clusters/comp-instance-docintel/code/Users/jaypadhya/CustomClassifier/TRAINING_DOCUMENTS/Commercial invoice/.amlignore.amltmp\n",
      "Analysis of .amlignore.amltmp failed: (InvalidRequest) Invalid request.\n",
      "Code: InvalidRequest\n",
      "Message: Invalid request.\n",
      "Inner error: {\n",
      "    \"code\": \"InvalidContent\",\n",
      "    \"message\": \"The file is corrupted or format is unsupported. Refer to documentation for the list of supported formats.\"\n",
      "}\n",
      "\n",
      "Skipping to next file...\n",
      "Analyzing document in /mnt/batch/tasks/shared/LS_root/mounts/clusters/comp-instance-docintel/code/Users/jaypadhya/CustomClassifier/TRAINING_DOCUMENTS/Commercial invoice/Commercial Invoice-4700567821 4700567822-POUCHEN_WWW_PNH1224951 USA - MER-X23005-BUYER DOC.PDF\n",
      "\tOutput saved to /mnt/batch/tasks/shared/LS_root/mounts/clusters/comp-instance-docintel/code/Users/jaypadhya/CustomClassifier/TRAINING_DOCUMENTS/Commercial invoice/Commercial Invoice-4700567821 4700567822-POUCHEN_WWW_PNH1224951 USA - MER-X23005-BUYER DOC.PDF.ocr.json\n",
      "Analyzing document in /mnt/batch/tasks/shared/LS_root/mounts/clusters/comp-instance-docintel/code/Users/jaypadhya/CustomClassifier/TRAINING_DOCUMENTS/Commercial invoice/Commercial Invoice-4700571518-SHC-20230119-USA-PNH2716136-INV.pdf\n",
      "\tOutput saved to /mnt/batch/tasks/shared/LS_root/mounts/clusters/comp-instance-docintel/code/Users/jaypadhya/CustomClassifier/TRAINING_DOCUMENTS/Commercial invoice/Commercial Invoice-4700571518-SHC-20230119-USA-PNH2716136-INV.pdf.ocr.json\n",
      "Analyzing document in /mnt/batch/tasks/shared/LS_root/mounts/clusters/comp-instance-docintel/code/Users/jaypadhya/CustomClassifier/TRAINING_DOCUMENTS/Commercial invoice/Commercial Invoice-4700571527-SHC-20230112-USA-PNH2716134-INV.pdf\n",
      "\tOutput saved to /mnt/batch/tasks/shared/LS_root/mounts/clusters/comp-instance-docintel/code/Users/jaypadhya/CustomClassifier/TRAINING_DOCUMENTS/Commercial invoice/Commercial Invoice-4700571527-SHC-20230112-USA-PNH2716134-INV.pdf.ocr.json\n",
      "Analyzing document in /mnt/batch/tasks/shared/LS_root/mounts/clusters/comp-instance-docintel/code/Users/jaypadhya/CustomClassifier/TRAINING_DOCUMENTS/Commercial invoice/Commercial Invoice-4700572043-INV-WWW  CB0501 CTNS USA-DC#52.pdf\n",
      "\tOutput saved to /mnt/batch/tasks/shared/LS_root/mounts/clusters/comp-instance-docintel/code/Users/jaypadhya/CustomClassifier/TRAINING_DOCUMENTS/Commercial invoice/Commercial Invoice-4700572043-INV-WWW  CB0501 CTNS USA-DC#52.pdf.ocr.json\n",
      "Analyzing document in /mnt/batch/tasks/shared/LS_root/mounts/clusters/comp-instance-docintel/code/Users/jaypadhya/CustomClassifier/TRAINING_DOCUMENTS/Commercial invoice/Commercial Invoice-4700572378-LINKBOWS_WWW_PNH1224948-CSB-230269 FULL DOC.pdf\n",
      "\tOutput saved to /mnt/batch/tasks/shared/LS_root/mounts/clusters/comp-instance-docintel/code/Users/jaypadhya/CustomClassifier/TRAINING_DOCUMENTS/Commercial invoice/Commercial Invoice-4700572378-LINKBOWS_WWW_PNH1224948-CSB-230269 FULL DOC.pdf.ocr.json\n",
      "Analyzing document in /mnt/batch/tasks/shared/LS_root/mounts/clusters/comp-instance-docintel/code/Users/jaypadhya/CustomClassifier/TRAINING_DOCUMENTS/Commercial invoice/Commercial Invoice-4700575335-SHC-20230119-USA-PNH2717767-INV.pdf\n",
      "\tOutput saved to /mnt/batch/tasks/shared/LS_root/mounts/clusters/comp-instance-docintel/code/Users/jaypadhya/CustomClassifier/TRAINING_DOCUMENTS/Commercial invoice/Commercial Invoice-4700575335-SHC-20230119-USA-PNH2717767-INV.pdf.ocr.json\n",
      "Analyzing document in /mnt/batch/tasks/shared/LS_root/mounts/clusters/comp-instance-docintel/code/Users/jaypadhya/CustomClassifier/TRAINING_DOCUMENTS/Commercial invoice/Commercial Invoice-4700575335-SHC-20230119-USA-PNH2717772-INV.pdf\n",
      "\tOutput saved to /mnt/batch/tasks/shared/LS_root/mounts/clusters/comp-instance-docintel/code/Users/jaypadhya/CustomClassifier/TRAINING_DOCUMENTS/Commercial invoice/Commercial Invoice-4700575335-SHC-20230119-USA-PNH2717772-INV.pdf.ocr.json\n",
      "Analyzing document in /mnt/batch/tasks/shared/LS_root/mounts/clusters/comp-instance-docintel/code/Users/jaypadhya/CustomClassifier/TRAINING_DOCUMENTS/Commercial invoice/Commercial Invoice-4700575335-SHC-20230119-USA-PNH2717774-INV.pdf\n",
      "\tOutput saved to /mnt/batch/tasks/shared/LS_root/mounts/clusters/comp-instance-docintel/code/Users/jaypadhya/CustomClassifier/TRAINING_DOCUMENTS/Commercial invoice/Commercial Invoice-4700575335-SHC-20230119-USA-PNH2717774-INV.pdf.ocr.json\n",
      "Analyzing document in /mnt/batch/tasks/shared/LS_root/mounts/clusters/comp-instance-docintel/code/Users/jaypadhya/CustomClassifier/TRAINING_DOCUMENTS/Commercial invoice/Commercial Invoice-4700575335-SHC-20230119-USA-PNH2717779-INV.pdf\n",
      "\tOutput saved to /mnt/batch/tasks/shared/LS_root/mounts/clusters/comp-instance-docintel/code/Users/jaypadhya/CustomClassifier/TRAINING_DOCUMENTS/Commercial invoice/Commercial Invoice-4700575335-SHC-20230119-USA-PNH2717779-INV.pdf.ocr.json\n",
      "Analyzing document in /mnt/batch/tasks/shared/LS_root/mounts/clusters/comp-instance-docintel/code/Users/jaypadhya/CustomClassifier/TRAINING_DOCUMENTS/Commercial invoice/Commercial Invoice-4700575335-SHC-20230119-USA-PNH2717780-INV.pdf\n",
      "\tOutput saved to /mnt/batch/tasks/shared/LS_root/mounts/clusters/comp-instance-docintel/code/Users/jaypadhya/CustomClassifier/TRAINING_DOCUMENTS/Commercial invoice/Commercial Invoice-4700575335-SHC-20230119-USA-PNH2717780-INV.pdf.ocr.json\n",
      "Analyzing document in /mnt/batch/tasks/shared/LS_root/mounts/clusters/comp-instance-docintel/code/Users/jaypadhya/CustomClassifier/TRAINING_DOCUMENTS/Commercial invoice/Commercial Invoice-4700575335-SHC-20230119-USA-PNH2717782-INV.pdf\n",
      "\tOutput saved to /mnt/batch/tasks/shared/LS_root/mounts/clusters/comp-instance-docintel/code/Users/jaypadhya/CustomClassifier/TRAINING_DOCUMENTS/Commercial invoice/Commercial Invoice-4700575335-SHC-20230119-USA-PNH2717782-INV.pdf.ocr.json\n",
      "Analyzing document in /mnt/batch/tasks/shared/LS_root/mounts/clusters/comp-instance-docintel/code/Users/jaypadhya/CustomClassifier/TRAINING_DOCUMENTS/Commercial invoice/Commercial Invoice-4700575335-SHC-20230119-USA-PNH2717785-INV.pdf\n",
      "\tOutput saved to /mnt/batch/tasks/shared/LS_root/mounts/clusters/comp-instance-docintel/code/Users/jaypadhya/CustomClassifier/TRAINING_DOCUMENTS/Commercial invoice/Commercial Invoice-4700575335-SHC-20230119-USA-PNH2717785-INV.pdf.ocr.json\n",
      "Analyzing document in /mnt/batch/tasks/shared/LS_root/mounts/clusters/comp-instance-docintel/code/Users/jaypadhya/CustomClassifier/TRAINING_DOCUMENTS/Commercial invoice/Commercial Invoice-4700575335-SHC-20230119-USA-PNH2717788-INV.pdf\n",
      "\tOutput saved to /mnt/batch/tasks/shared/LS_root/mounts/clusters/comp-instance-docintel/code/Users/jaypadhya/CustomClassifier/TRAINING_DOCUMENTS/Commercial invoice/Commercial Invoice-4700575335-SHC-20230119-USA-PNH2717788-INV.pdf.ocr.json\n",
      "Analyzing document in /mnt/batch/tasks/shared/LS_root/mounts/clusters/comp-instance-docintel/code/Users/jaypadhya/CustomClassifier/TRAINING_DOCUMENTS/Forwarders Cargo Receipt/.amlignore\n",
      "Analysis of .amlignore failed: (InvalidRequest) Invalid request.\n",
      "Code: InvalidRequest\n",
      "Message: Invalid request.\n",
      "Inner error: {\n",
      "    \"code\": \"InvalidContent\",\n",
      "    \"message\": \"The file is corrupted or format is unsupported. Refer to documentation for the list of supported formats.\"\n",
      "}\n",
      "\n",
      "Skipping to next file...\n",
      "Analyzing document in /mnt/batch/tasks/shared/LS_root/mounts/clusters/comp-instance-docintel/code/Users/jaypadhya/CustomClassifier/TRAINING_DOCUMENTS/Forwarders Cargo Receipt/.amlignore.amltmp\n",
      "Analysis of .amlignore.amltmp failed: (InvalidRequest) Invalid request.\n",
      "Code: InvalidRequest\n",
      "Message: Invalid request.\n",
      "Inner error: {\n",
      "    \"code\": \"InvalidContent\",\n",
      "    \"message\": \"The file is corrupted or format is unsupported. Refer to documentation for the list of supported formats.\"\n",
      "}\n",
      "\n",
      "Skipping to next file...\n",
      "Analyzing document in /mnt/batch/tasks/shared/LS_root/mounts/clusters/comp-instance-docintel/code/Users/jaypadhya/CustomClassifier/TRAINING_DOCUMENTS/Forwarders Cargo Receipt/Forwarders cargo receipt-4700567821 4700567822-POUCHEN_WWW_PNH1224951.pdf\n",
      "\tOutput saved to /mnt/batch/tasks/shared/LS_root/mounts/clusters/comp-instance-docintel/code/Users/jaypadhya/CustomClassifier/TRAINING_DOCUMENTS/Forwarders Cargo Receipt/Forwarders cargo receipt-4700567821 4700567822-POUCHEN_WWW_PNH1224951.pdf.ocr.json\n",
      "Analyzing document in /mnt/batch/tasks/shared/LS_root/mounts/clusters/comp-instance-docintel/code/Users/jaypadhya/CustomClassifier/TRAINING_DOCUMENTS/Forwarders Cargo Receipt/Forwarders cargo receipt-4700571518 4700571527...-STRONGHE_WWW_PNH1224949 - Copy.pdf\n",
      "\tOutput saved to /mnt/batch/tasks/shared/LS_root/mounts/clusters/comp-instance-docintel/code/Users/jaypadhya/CustomClassifier/TRAINING_DOCUMENTS/Forwarders Cargo Receipt/Forwarders cargo receipt-4700571518 4700571527...-STRONGHE_WWW_PNH1224949 - Copy.pdf.ocr.json\n",
      "Analyzing document in /mnt/batch/tasks/shared/LS_root/mounts/clusters/comp-instance-docintel/code/Users/jaypadhya/CustomClassifier/TRAINING_DOCUMENTS/Forwarders Cargo Receipt/Forwarders cargo receipt-4700571518 4700571527...-STRONGHE_WWW_PNH1224949.pdf\n",
      "\tOutput saved to /mnt/batch/tasks/shared/LS_root/mounts/clusters/comp-instance-docintel/code/Users/jaypadhya/CustomClassifier/TRAINING_DOCUMENTS/Forwarders Cargo Receipt/Forwarders cargo receipt-4700571518 4700571527...-STRONGHE_WWW_PNH1224949.pdf.ocr.json\n",
      "Analyzing document in /mnt/batch/tasks/shared/LS_root/mounts/clusters/comp-instance-docintel/code/Users/jaypadhya/CustomClassifier/TRAINING_DOCUMENTS/Forwarders Cargo Receipt/Forwarders cargo receipt-4700572043-CHUANLI3_WWW_PNH1224952.pdf\n",
      "\tOutput saved to /mnt/batch/tasks/shared/LS_root/mounts/clusters/comp-instance-docintel/code/Users/jaypadhya/CustomClassifier/TRAINING_DOCUMENTS/Forwarders Cargo Receipt/Forwarders cargo receipt-4700572043-CHUANLI3_WWW_PNH1224952.pdf.ocr.json\n",
      "Analyzing document in /mnt/batch/tasks/shared/LS_root/mounts/clusters/comp-instance-docintel/code/Users/jaypadhya/CustomClassifier/TRAINING_DOCUMENTS/Forwarders Cargo Receipt/Forwarders cargo receipt-4700572378-LINKBOWS_WWW_PNH1224948.pdf\n",
      "\tOutput saved to /mnt/batch/tasks/shared/LS_root/mounts/clusters/comp-instance-docintel/code/Users/jaypadhya/CustomClassifier/TRAINING_DOCUMENTS/Forwarders Cargo Receipt/Forwarders cargo receipt-4700572378-LINKBOWS_WWW_PNH1224948.pdf.ocr.json\n",
      "Analyzing document in /mnt/batch/tasks/shared/LS_root/mounts/clusters/comp-instance-docintel/code/Users/jaypadhya/CustomClassifier/TRAINING_DOCUMENTS/Packaging List Doc/.amlignore\n",
      "Analysis of .amlignore failed: (InvalidRequest) Invalid request.\n",
      "Code: InvalidRequest\n",
      "Message: Invalid request.\n",
      "Inner error: {\n",
      "    \"code\": \"InvalidContent\",\n",
      "    \"message\": \"The file is corrupted or format is unsupported. Refer to documentation for the list of supported formats.\"\n",
      "}\n",
      "\n",
      "Skipping to next file...\n",
      "Analyzing document in /mnt/batch/tasks/shared/LS_root/mounts/clusters/comp-instance-docintel/code/Users/jaypadhya/CustomClassifier/TRAINING_DOCUMENTS/Packaging List Doc/.amlignore.amltmp\n",
      "Analysis of .amlignore.amltmp failed: (InvalidRequest) Invalid request.\n",
      "Code: InvalidRequest\n",
      "Message: Invalid request.\n",
      "Inner error: {\n",
      "    \"code\": \"InvalidContent\",\n",
      "    \"message\": \"The file is corrupted or format is unsupported. Refer to documentation for the list of supported formats.\"\n",
      "}\n",
      "\n",
      "Skipping to next file...\n",
      "Analyzing document in /mnt/batch/tasks/shared/LS_root/mounts/clusters/comp-instance-docintel/code/Users/jaypadhya/CustomClassifier/TRAINING_DOCUMENTS/Packaging List Doc/Packing List-4700571518-SHC-20230119-USA-PNH2716136-PK.pdf\n",
      "\tOutput saved to /mnt/batch/tasks/shared/LS_root/mounts/clusters/comp-instance-docintel/code/Users/jaypadhya/CustomClassifier/TRAINING_DOCUMENTS/Packaging List Doc/Packing List-4700571518-SHC-20230119-USA-PNH2716136-PK.pdf.ocr.json\n",
      "Analyzing document in /mnt/batch/tasks/shared/LS_root/mounts/clusters/comp-instance-docintel/code/Users/jaypadhya/CustomClassifier/TRAINING_DOCUMENTS/Packaging List Doc/Packing List-4700571527-SHC-20230112-USA-PNH2716134-PK.pdf\n",
      "\tOutput saved to /mnt/batch/tasks/shared/LS_root/mounts/clusters/comp-instance-docintel/code/Users/jaypadhya/CustomClassifier/TRAINING_DOCUMENTS/Packaging List Doc/Packing List-4700571527-SHC-20230112-USA-PNH2716134-PK.pdf.ocr.json\n",
      "Analyzing document in /mnt/batch/tasks/shared/LS_root/mounts/clusters/comp-instance-docintel/code/Users/jaypadhya/CustomClassifier/TRAINING_DOCUMENTS/Packaging List Doc/Packing List-4700572043-PK-WWW  CB0501 CTNS USA-DC#52.pdf\n",
      "\tOutput saved to /mnt/batch/tasks/shared/LS_root/mounts/clusters/comp-instance-docintel/code/Users/jaypadhya/CustomClassifier/TRAINING_DOCUMENTS/Packaging List Doc/Packing List-4700572043-PK-WWW  CB0501 CTNS USA-DC#52.pdf.ocr.json\n",
      "Analyzing document in /mnt/batch/tasks/shared/LS_root/mounts/clusters/comp-instance-docintel/code/Users/jaypadhya/CustomClassifier/TRAINING_DOCUMENTS/Packaging List Doc/Packing List-4700575335-SHC-20230119-USA-PNH2717767-PK.pdf\n",
      "\tOutput saved to /mnt/batch/tasks/shared/LS_root/mounts/clusters/comp-instance-docintel/code/Users/jaypadhya/CustomClassifier/TRAINING_DOCUMENTS/Packaging List Doc/Packing List-4700575335-SHC-20230119-USA-PNH2717767-PK.pdf.ocr.json\n",
      "Analyzing document in /mnt/batch/tasks/shared/LS_root/mounts/clusters/comp-instance-docintel/code/Users/jaypadhya/CustomClassifier/TRAINING_DOCUMENTS/Packaging List Doc/Packing List-4700575335-SHC-20230119-USA-PNH2717772-PK.pdf\n",
      "\tOutput saved to /mnt/batch/tasks/shared/LS_root/mounts/clusters/comp-instance-docintel/code/Users/jaypadhya/CustomClassifier/TRAINING_DOCUMENTS/Packaging List Doc/Packing List-4700575335-SHC-20230119-USA-PNH2717772-PK.pdf.ocr.json\n",
      "Analyzing document in /mnt/batch/tasks/shared/LS_root/mounts/clusters/comp-instance-docintel/code/Users/jaypadhya/CustomClassifier/TRAINING_DOCUMENTS/Packaging List Doc/Packing List-4700575335-SHC-20230119-USA-PNH2717774-PK.pdf\n",
      "\tOutput saved to /mnt/batch/tasks/shared/LS_root/mounts/clusters/comp-instance-docintel/code/Users/jaypadhya/CustomClassifier/TRAINING_DOCUMENTS/Packaging List Doc/Packing List-4700575335-SHC-20230119-USA-PNH2717774-PK.pdf.ocr.json\n",
      "Analyzing document in /mnt/batch/tasks/shared/LS_root/mounts/clusters/comp-instance-docintel/code/Users/jaypadhya/CustomClassifier/TRAINING_DOCUMENTS/Packaging List Doc/Packing List-4700575335-SHC-20230119-USA-PNH2717779-PK.pdf\n",
      "\tOutput saved to /mnt/batch/tasks/shared/LS_root/mounts/clusters/comp-instance-docintel/code/Users/jaypadhya/CustomClassifier/TRAINING_DOCUMENTS/Packaging List Doc/Packing List-4700575335-SHC-20230119-USA-PNH2717779-PK.pdf.ocr.json\n",
      "Analyzing document in /mnt/batch/tasks/shared/LS_root/mounts/clusters/comp-instance-docintel/code/Users/jaypadhya/CustomClassifier/TRAINING_DOCUMENTS/Packaging List Doc/Packing List-4700575335-SHC-20230119-USA-PNH2717780-PK.pdf\n",
      "\tOutput saved to /mnt/batch/tasks/shared/LS_root/mounts/clusters/comp-instance-docintel/code/Users/jaypadhya/CustomClassifier/TRAINING_DOCUMENTS/Packaging List Doc/Packing List-4700575335-SHC-20230119-USA-PNH2717780-PK.pdf.ocr.json\n",
      "Analyzing document in /mnt/batch/tasks/shared/LS_root/mounts/clusters/comp-instance-docintel/code/Users/jaypadhya/CustomClassifier/TRAINING_DOCUMENTS/Packaging List Doc/Packing List-4700575335-SHC-20230119-USA-PNH2717782-PK.pdf\n",
      "\tOutput saved to /mnt/batch/tasks/shared/LS_root/mounts/clusters/comp-instance-docintel/code/Users/jaypadhya/CustomClassifier/TRAINING_DOCUMENTS/Packaging List Doc/Packing List-4700575335-SHC-20230119-USA-PNH2717782-PK.pdf.ocr.json\n",
      "Analyzing document in /mnt/batch/tasks/shared/LS_root/mounts/clusters/comp-instance-docintel/code/Users/jaypadhya/CustomClassifier/TRAINING_DOCUMENTS/Packaging List Doc/Packing List-4700575335-SHC-20230119-USA-PNH2717785-PK.pdf\n",
      "\tOutput saved to /mnt/batch/tasks/shared/LS_root/mounts/clusters/comp-instance-docintel/code/Users/jaypadhya/CustomClassifier/TRAINING_DOCUMENTS/Packaging List Doc/Packing List-4700575335-SHC-20230119-USA-PNH2717785-PK.pdf.ocr.json\n",
      "Analyzing document in /mnt/batch/tasks/shared/LS_root/mounts/clusters/comp-instance-docintel/code/Users/jaypadhya/CustomClassifier/TRAINING_DOCUMENTS/Packaging List Doc/Packing List-4700575335-SHC-20230119-USA-PNH2717788-PK.pdf\n",
      "\tOutput saved to /mnt/batch/tasks/shared/LS_root/mounts/clusters/comp-instance-docintel/code/Users/jaypadhya/CustomClassifier/TRAINING_DOCUMENTS/Packaging List Doc/Packing List-4700575335-SHC-20230119-USA-PNH2717788-PK.pdf.ocr.json\n",
      "Analyzing document in /mnt/batch/tasks/shared/LS_root/mounts/clusters/comp-instance-docintel/code/Users/jaypadhya/CustomClassifier/TRAINING_DOCUMENTS/Sea Waybill/.amlignore\n",
      "Analysis of .amlignore failed: (InvalidRequest) Invalid request.\n",
      "Code: InvalidRequest\n",
      "Message: Invalid request.\n",
      "Inner error: {\n",
      "    \"code\": \"InvalidContent\",\n",
      "    \"message\": \"The file is corrupted or format is unsupported. Refer to documentation for the list of supported formats.\"\n",
      "}\n",
      "\n",
      "Skipping to next file...\n",
      "Analyzing document in /mnt/batch/tasks/shared/LS_root/mounts/clusters/comp-instance-docintel/code/Users/jaypadhya/CustomClassifier/TRAINING_DOCUMENTS/Sea Waybill/.amlignore.amltmp\n",
      "Analysis of .amlignore.amltmp failed: (InvalidRequest) Invalid request.\n",
      "Code: InvalidRequest\n",
      "Message: Invalid request.\n",
      "Inner error: {\n",
      "    \"code\": \"InvalidContent\",\n",
      "    \"message\": \"The file is corrupted or format is unsupported. Refer to documentation for the list of supported formats.\"\n",
      "}\n",
      "\n",
      "Skipping to next file...\n",
      "Analyzing document in /mnt/batch/tasks/shared/LS_root/mounts/clusters/comp-instance-docintel/code/Users/jaypadhya/CustomClassifier/TRAINING_DOCUMENTS/Sea Waybill/Arrival Notice - S407577959.PDF\n",
      "\tOutput saved to /mnt/batch/tasks/shared/LS_root/mounts/clusters/comp-instance-docintel/code/Users/jaypadhya/CustomClassifier/TRAINING_DOCUMENTS/Sea Waybill/Arrival Notice - S407577959.PDF.ocr.json\n",
      "Analyzing document in /mnt/batch/tasks/shared/LS_root/mounts/clusters/comp-instance-docintel/code/Users/jaypadhya/CustomClassifier/TRAINING_DOCUMENTS/Sea Waybill/B12-1054357592(1).pdf\n",
      "\tOutput saved to /mnt/batch/tasks/shared/LS_root/mounts/clusters/comp-instance-docintel/code/Users/jaypadhya/CustomClassifier/TRAINING_DOCUMENTS/Sea Waybill/B12-1054357592(1).pdf.ocr.json\n",
      "Analyzing document in /mnt/batch/tasks/shared/LS_root/mounts/clusters/comp-instance-docintel/code/Users/jaypadhya/CustomClassifier/TRAINING_DOCUMENTS/Sea Waybill/Carrier Sea Waybill-4700567821 4700567822...-223873213 ok.pdf\n",
      "\tOutput saved to /mnt/batch/tasks/shared/LS_root/mounts/clusters/comp-instance-docintel/code/Users/jaypadhya/CustomClassifier/TRAINING_DOCUMENTS/Sea Waybill/Carrier Sea Waybill-4700567821 4700567822...-223873213 ok.pdf.ocr.json\n",
      "Analyzing document in /mnt/batch/tasks/shared/LS_root/mounts/clusters/comp-instance-docintel/code/Users/jaypadhya/CustomClassifier/TRAINING_DOCUMENTS/Sea Waybill/JAS Bill Of Lading - NGB47577959.pdf\n",
      "\tOutput saved to /mnt/batch/tasks/shared/LS_root/mounts/clusters/comp-instance-docintel/code/Users/jaypadhya/CustomClassifier/TRAINING_DOCUMENTS/Sea Waybill/JAS Bill Of Lading - NGB47577959.pdf.ocr.json\n",
      "Analyzing document in /mnt/batch/tasks/shared/LS_root/mounts/clusters/comp-instance-docintel/code/Users/jaypadhya/CustomClassifier/TRAINING_DOCUMENTS/Sea Waybill/SWDKSEC0123102506110.pdf\n",
      "\tOutput saved to /mnt/batch/tasks/shared/LS_root/mounts/clusters/comp-instance-docintel/code/Users/jaypadhya/CustomClassifier/TRAINING_DOCUMENTS/Sea Waybill/SWDKSEC0123102506110.pdf.ocr.json\n",
      "\n",
      "The following files were skipped as they are corrupted or the format is unsupported:\n",
      "\t/mnt/batch/tasks/shared/LS_root/mounts/clusters/comp-instance-docintel/code/Users/jaypadhya/CustomClassifier/TRAINING_DOCUMENTS/Commercial invoice/.amlignore\n",
      "\t/mnt/batch/tasks/shared/LS_root/mounts/clusters/comp-instance-docintel/code/Users/jaypadhya/CustomClassifier/TRAINING_DOCUMENTS/Commercial invoice/.amlignore.amltmp\n",
      "\t/mnt/batch/tasks/shared/LS_root/mounts/clusters/comp-instance-docintel/code/Users/jaypadhya/CustomClassifier/TRAINING_DOCUMENTS/Forwarders Cargo Receipt/.amlignore\n",
      "\t/mnt/batch/tasks/shared/LS_root/mounts/clusters/comp-instance-docintel/code/Users/jaypadhya/CustomClassifier/TRAINING_DOCUMENTS/Forwarders Cargo Receipt/.amlignore.amltmp\n",
      "\t/mnt/batch/tasks/shared/LS_root/mounts/clusters/comp-instance-docintel/code/Users/jaypadhya/CustomClassifier/TRAINING_DOCUMENTS/Packaging List Doc/.amlignore\n",
      "\t/mnt/batch/tasks/shared/LS_root/mounts/clusters/comp-instance-docintel/code/Users/jaypadhya/CustomClassifier/TRAINING_DOCUMENTS/Packaging List Doc/.amlignore.amltmp\n",
      "\t/mnt/batch/tasks/shared/LS_root/mounts/clusters/comp-instance-docintel/code/Users/jaypadhya/CustomClassifier/TRAINING_DOCUMENTS/Sea Waybill/.amlignore\n",
      "\t/mnt/batch/tasks/shared/LS_root/mounts/clusters/comp-instance-docintel/code/Users/jaypadhya/CustomClassifier/TRAINING_DOCUMENTS/Sea Waybill/.amlignore.amltmp\n",
      "Please visit the following link for more information on supported file types and sizes. \n",
      "https://learn.microsoft.com/en-us/azure/ai-services/document-intelligence/concept-custom-classifier?view=doc-intel-4.0.0#input-requirements\n",
      "Batch layout analysis completed!\n"
     ]
    }
   ],
   "source": [
    "if __name__ == \"__main__\":\n",
    "    analyze_layout()"
   ]
  },
  {
   "cell_type": "markdown",
   "metadata": {
    "nteract": {
     "transient": {
      "deleting": false
     }
    }
   },
   "source": [
    "## Uploading the OCR to Blobs Storage and then use Custom Classification Model "
   ]
  },
  {
   "cell_type": "code",
   "execution_count": null,
   "metadata": {
    "gather": {
     "logged": 1732656746663
    },
    "jupyter": {
     "outputs_hidden": false,
     "source_hidden": false
    },
    "nteract": {
     "transient": {
      "deleting": false
     }
    }
   },
   "outputs": [],
   "source": [
    "from azure.storage.blob import BlobServiceClient, ContainerClient\n",
    "# Account URL and key\n",
    "account_url = \"\"#\"https://storageemaildocs.blob.core.windows.net\"\n",
    "account_key = \"\" # Replace with your storage account key\n",
    "container_name = \"\"\n",
    "\n",
    "# Create a BlobServiceClient\n",
    "blob_service_client = BlobServiceClient(account_url=account_url, credential=account_key)\n",
    "\n",
    "# Create a ContainerClient\n",
    "container_client = blob_service_client.get_container_client(container_name)\n",
    "\n",
    "# Create the container if it does not already exist\n",
    "if not container_client.exists():\n",
    "    print(f\"Container {container_name} does not exist. Creating container...\")\n",
    "    container_client.create_container()\n",
    "    print(f\"\\tContainer {container_name} created!\")\n"
   ]
  },
  {
   "cell_type": "code",
   "execution_count": 15,
   "metadata": {
    "gather": {
     "logged": 1732654545639
    },
    "jupyter": {
     "outputs_hidden": false,
     "source_hidden": false
    },
    "nteract": {
     "transient": {
      "deleting": false
     }
    }
   },
   "outputs": [
    {
     "name": "stdout",
     "output_type": "stream",
     "text": [
      "Uploaded /mnt/batch/tasks/shared/LS_root/mounts/clusters/comp-instance-docintel/code/Users/jaypadhya/CustomClassifier/TRAINING_DOCUMENTS/Commercial invoice/Commercial Invoice-4700567821 4700567822-POUCHEN_WWW_PNH1224951 USA - MER-X23005-BUYER DOC.PDF to Commercial invoice/Commercial Invoice-4700567821 4700567822-POUCHEN_WWW_PNH1224951 USA - MER-X23005-BUYER DOC.PDF in container emaildocs\n",
      "Uploaded /mnt/batch/tasks/shared/LS_root/mounts/clusters/comp-instance-docintel/code/Users/jaypadhya/CustomClassifier/TRAINING_DOCUMENTS/Commercial invoice/Commercial Invoice-4700567821 4700567822-POUCHEN_WWW_PNH1224951 USA - MER-X23005-BUYER DOC.PDF.ocr.json to Commercial invoice/Commercial Invoice-4700567821 4700567822-POUCHEN_WWW_PNH1224951 USA - MER-X23005-BUYER DOC.PDF.ocr.json in container emaildocs\n",
      "Uploaded /mnt/batch/tasks/shared/LS_root/mounts/clusters/comp-instance-docintel/code/Users/jaypadhya/CustomClassifier/TRAINING_DOCUMENTS/Commercial invoice/Commercial Invoice-4700571518-SHC-20230119-USA-PNH2716136-INV.pdf to Commercial invoice/Commercial Invoice-4700571518-SHC-20230119-USA-PNH2716136-INV.pdf in container emaildocs\n",
      "Uploaded /mnt/batch/tasks/shared/LS_root/mounts/clusters/comp-instance-docintel/code/Users/jaypadhya/CustomClassifier/TRAINING_DOCUMENTS/Commercial invoice/Commercial Invoice-4700571518-SHC-20230119-USA-PNH2716136-INV.pdf.ocr.json to Commercial invoice/Commercial Invoice-4700571518-SHC-20230119-USA-PNH2716136-INV.pdf.ocr.json in container emaildocs\n",
      "Uploaded /mnt/batch/tasks/shared/LS_root/mounts/clusters/comp-instance-docintel/code/Users/jaypadhya/CustomClassifier/TRAINING_DOCUMENTS/Commercial invoice/Commercial Invoice-4700571527-SHC-20230112-USA-PNH2716134-INV.pdf to Commercial invoice/Commercial Invoice-4700571527-SHC-20230112-USA-PNH2716134-INV.pdf in container emaildocs\n",
      "Uploaded /mnt/batch/tasks/shared/LS_root/mounts/clusters/comp-instance-docintel/code/Users/jaypadhya/CustomClassifier/TRAINING_DOCUMENTS/Commercial invoice/Commercial Invoice-4700571527-SHC-20230112-USA-PNH2716134-INV.pdf.ocr.json to Commercial invoice/Commercial Invoice-4700571527-SHC-20230112-USA-PNH2716134-INV.pdf.ocr.json in container emaildocs\n",
      "Uploaded /mnt/batch/tasks/shared/LS_root/mounts/clusters/comp-instance-docintel/code/Users/jaypadhya/CustomClassifier/TRAINING_DOCUMENTS/Commercial invoice/Commercial Invoice-4700572043-INV-WWW  CB0501 CTNS USA-DC#52.pdf to Commercial invoice/Commercial Invoice-4700572043-INV-WWW  CB0501 CTNS USA-DC#52.pdf in container emaildocs\n",
      "Uploaded /mnt/batch/tasks/shared/LS_root/mounts/clusters/comp-instance-docintel/code/Users/jaypadhya/CustomClassifier/TRAINING_DOCUMENTS/Commercial invoice/Commercial Invoice-4700572043-INV-WWW  CB0501 CTNS USA-DC#52.pdf.ocr.json to Commercial invoice/Commercial Invoice-4700572043-INV-WWW  CB0501 CTNS USA-DC#52.pdf.ocr.json in container emaildocs\n",
      "Uploaded /mnt/batch/tasks/shared/LS_root/mounts/clusters/comp-instance-docintel/code/Users/jaypadhya/CustomClassifier/TRAINING_DOCUMENTS/Commercial invoice/Commercial Invoice-4700572378-LINKBOWS_WWW_PNH1224948-CSB-230269 FULL DOC.pdf to Commercial invoice/Commercial Invoice-4700572378-LINKBOWS_WWW_PNH1224948-CSB-230269 FULL DOC.pdf in container emaildocs\n",
      "Uploaded /mnt/batch/tasks/shared/LS_root/mounts/clusters/comp-instance-docintel/code/Users/jaypadhya/CustomClassifier/TRAINING_DOCUMENTS/Commercial invoice/Commercial Invoice-4700572378-LINKBOWS_WWW_PNH1224948-CSB-230269 FULL DOC.pdf.ocr.json to Commercial invoice/Commercial Invoice-4700572378-LINKBOWS_WWW_PNH1224948-CSB-230269 FULL DOC.pdf.ocr.json in container emaildocs\n",
      "Uploaded /mnt/batch/tasks/shared/LS_root/mounts/clusters/comp-instance-docintel/code/Users/jaypadhya/CustomClassifier/TRAINING_DOCUMENTS/Commercial invoice/Commercial Invoice-4700575335-SHC-20230119-USA-PNH2717767-INV.pdf to Commercial invoice/Commercial Invoice-4700575335-SHC-20230119-USA-PNH2717767-INV.pdf in container emaildocs\n",
      "Uploaded /mnt/batch/tasks/shared/LS_root/mounts/clusters/comp-instance-docintel/code/Users/jaypadhya/CustomClassifier/TRAINING_DOCUMENTS/Commercial invoice/Commercial Invoice-4700575335-SHC-20230119-USA-PNH2717767-INV.pdf.ocr.json to Commercial invoice/Commercial Invoice-4700575335-SHC-20230119-USA-PNH2717767-INV.pdf.ocr.json in container emaildocs\n",
      "Uploaded /mnt/batch/tasks/shared/LS_root/mounts/clusters/comp-instance-docintel/code/Users/jaypadhya/CustomClassifier/TRAINING_DOCUMENTS/Commercial invoice/Commercial Invoice-4700575335-SHC-20230119-USA-PNH2717772-INV.pdf to Commercial invoice/Commercial Invoice-4700575335-SHC-20230119-USA-PNH2717772-INV.pdf in container emaildocs\n",
      "Uploaded /mnt/batch/tasks/shared/LS_root/mounts/clusters/comp-instance-docintel/code/Users/jaypadhya/CustomClassifier/TRAINING_DOCUMENTS/Commercial invoice/Commercial Invoice-4700575335-SHC-20230119-USA-PNH2717772-INV.pdf.ocr.json to Commercial invoice/Commercial Invoice-4700575335-SHC-20230119-USA-PNH2717772-INV.pdf.ocr.json in container emaildocs\n",
      "Uploaded /mnt/batch/tasks/shared/LS_root/mounts/clusters/comp-instance-docintel/code/Users/jaypadhya/CustomClassifier/TRAINING_DOCUMENTS/Commercial invoice/Commercial Invoice-4700575335-SHC-20230119-USA-PNH2717774-INV.pdf to Commercial invoice/Commercial Invoice-4700575335-SHC-20230119-USA-PNH2717774-INV.pdf in container emaildocs\n",
      "Uploaded /mnt/batch/tasks/shared/LS_root/mounts/clusters/comp-instance-docintel/code/Users/jaypadhya/CustomClassifier/TRAINING_DOCUMENTS/Commercial invoice/Commercial Invoice-4700575335-SHC-20230119-USA-PNH2717774-INV.pdf.ocr.json to Commercial invoice/Commercial Invoice-4700575335-SHC-20230119-USA-PNH2717774-INV.pdf.ocr.json in container emaildocs\n",
      "Uploaded /mnt/batch/tasks/shared/LS_root/mounts/clusters/comp-instance-docintel/code/Users/jaypadhya/CustomClassifier/TRAINING_DOCUMENTS/Commercial invoice/Commercial Invoice-4700575335-SHC-20230119-USA-PNH2717779-INV.pdf to Commercial invoice/Commercial Invoice-4700575335-SHC-20230119-USA-PNH2717779-INV.pdf in container emaildocs\n",
      "Uploaded /mnt/batch/tasks/shared/LS_root/mounts/clusters/comp-instance-docintel/code/Users/jaypadhya/CustomClassifier/TRAINING_DOCUMENTS/Commercial invoice/Commercial Invoice-4700575335-SHC-20230119-USA-PNH2717779-INV.pdf.ocr.json to Commercial invoice/Commercial Invoice-4700575335-SHC-20230119-USA-PNH2717779-INV.pdf.ocr.json in container emaildocs\n",
      "Uploaded /mnt/batch/tasks/shared/LS_root/mounts/clusters/comp-instance-docintel/code/Users/jaypadhya/CustomClassifier/TRAINING_DOCUMENTS/Commercial invoice/Commercial Invoice-4700575335-SHC-20230119-USA-PNH2717780-INV.pdf to Commercial invoice/Commercial Invoice-4700575335-SHC-20230119-USA-PNH2717780-INV.pdf in container emaildocs\n",
      "Uploaded /mnt/batch/tasks/shared/LS_root/mounts/clusters/comp-instance-docintel/code/Users/jaypadhya/CustomClassifier/TRAINING_DOCUMENTS/Commercial invoice/Commercial Invoice-4700575335-SHC-20230119-USA-PNH2717780-INV.pdf.ocr.json to Commercial invoice/Commercial Invoice-4700575335-SHC-20230119-USA-PNH2717780-INV.pdf.ocr.json in container emaildocs\n",
      "Uploaded /mnt/batch/tasks/shared/LS_root/mounts/clusters/comp-instance-docintel/code/Users/jaypadhya/CustomClassifier/TRAINING_DOCUMENTS/Commercial invoice/Commercial Invoice-4700575335-SHC-20230119-USA-PNH2717782-INV.pdf to Commercial invoice/Commercial Invoice-4700575335-SHC-20230119-USA-PNH2717782-INV.pdf in container emaildocs\n",
      "Uploaded /mnt/batch/tasks/shared/LS_root/mounts/clusters/comp-instance-docintel/code/Users/jaypadhya/CustomClassifier/TRAINING_DOCUMENTS/Commercial invoice/Commercial Invoice-4700575335-SHC-20230119-USA-PNH2717782-INV.pdf.ocr.json to Commercial invoice/Commercial Invoice-4700575335-SHC-20230119-USA-PNH2717782-INV.pdf.ocr.json in container emaildocs\n",
      "Uploaded /mnt/batch/tasks/shared/LS_root/mounts/clusters/comp-instance-docintel/code/Users/jaypadhya/CustomClassifier/TRAINING_DOCUMENTS/Commercial invoice/Commercial Invoice-4700575335-SHC-20230119-USA-PNH2717785-INV.pdf to Commercial invoice/Commercial Invoice-4700575335-SHC-20230119-USA-PNH2717785-INV.pdf in container emaildocs\n",
      "Uploaded /mnt/batch/tasks/shared/LS_root/mounts/clusters/comp-instance-docintel/code/Users/jaypadhya/CustomClassifier/TRAINING_DOCUMENTS/Commercial invoice/Commercial Invoice-4700575335-SHC-20230119-USA-PNH2717785-INV.pdf.ocr.json to Commercial invoice/Commercial Invoice-4700575335-SHC-20230119-USA-PNH2717785-INV.pdf.ocr.json in container emaildocs\n",
      "Uploaded /mnt/batch/tasks/shared/LS_root/mounts/clusters/comp-instance-docintel/code/Users/jaypadhya/CustomClassifier/TRAINING_DOCUMENTS/Commercial invoice/Commercial Invoice-4700575335-SHC-20230119-USA-PNH2717788-INV.pdf to Commercial invoice/Commercial Invoice-4700575335-SHC-20230119-USA-PNH2717788-INV.pdf in container emaildocs\n",
      "Uploaded /mnt/batch/tasks/shared/LS_root/mounts/clusters/comp-instance-docintel/code/Users/jaypadhya/CustomClassifier/TRAINING_DOCUMENTS/Commercial invoice/Commercial Invoice-4700575335-SHC-20230119-USA-PNH2717788-INV.pdf.ocr.json to Commercial invoice/Commercial Invoice-4700575335-SHC-20230119-USA-PNH2717788-INV.pdf.ocr.json in container emaildocs\n",
      "Uploaded /mnt/batch/tasks/shared/LS_root/mounts/clusters/comp-instance-docintel/code/Users/jaypadhya/CustomClassifier/TRAINING_DOCUMENTS/Commercial invoice.jsonl to Commercial invoice.jsonl in container emaildocs\n",
      "Uploaded /mnt/batch/tasks/shared/LS_root/mounts/clusters/comp-instance-docintel/code/Users/jaypadhya/CustomClassifier/TRAINING_DOCUMENTS/Forwarders Cargo Receipt/Forwarders cargo receipt-4700567821 4700567822-POUCHEN_WWW_PNH1224951.pdf to Forwarders Cargo Receipt/Forwarders cargo receipt-4700567821 4700567822-POUCHEN_WWW_PNH1224951.pdf in container emaildocs\n",
      "Uploaded /mnt/batch/tasks/shared/LS_root/mounts/clusters/comp-instance-docintel/code/Users/jaypadhya/CustomClassifier/TRAINING_DOCUMENTS/Forwarders Cargo Receipt/Forwarders cargo receipt-4700567821 4700567822-POUCHEN_WWW_PNH1224951.pdf.ocr.json to Forwarders Cargo Receipt/Forwarders cargo receipt-4700567821 4700567822-POUCHEN_WWW_PNH1224951.pdf.ocr.json in container emaildocs\n",
      "Uploaded /mnt/batch/tasks/shared/LS_root/mounts/clusters/comp-instance-docintel/code/Users/jaypadhya/CustomClassifier/TRAINING_DOCUMENTS/Forwarders Cargo Receipt/Forwarders cargo receipt-4700571518 4700571527...-STRONGHE_WWW_PNH1224949 - Copy.pdf to Forwarders Cargo Receipt/Forwarders cargo receipt-4700571518 4700571527...-STRONGHE_WWW_PNH1224949 - Copy.pdf in container emaildocs\n",
      "Uploaded /mnt/batch/tasks/shared/LS_root/mounts/clusters/comp-instance-docintel/code/Users/jaypadhya/CustomClassifier/TRAINING_DOCUMENTS/Forwarders Cargo Receipt/Forwarders cargo receipt-4700571518 4700571527...-STRONGHE_WWW_PNH1224949 - Copy.pdf.ocr.json to Forwarders Cargo Receipt/Forwarders cargo receipt-4700571518 4700571527...-STRONGHE_WWW_PNH1224949 - Copy.pdf.ocr.json in container emaildocs\n",
      "Uploaded /mnt/batch/tasks/shared/LS_root/mounts/clusters/comp-instance-docintel/code/Users/jaypadhya/CustomClassifier/TRAINING_DOCUMENTS/Forwarders Cargo Receipt/Forwarders cargo receipt-4700571518 4700571527...-STRONGHE_WWW_PNH1224949.pdf to Forwarders Cargo Receipt/Forwarders cargo receipt-4700571518 4700571527...-STRONGHE_WWW_PNH1224949.pdf in container emaildocs\n",
      "Uploaded /mnt/batch/tasks/shared/LS_root/mounts/clusters/comp-instance-docintel/code/Users/jaypadhya/CustomClassifier/TRAINING_DOCUMENTS/Forwarders Cargo Receipt/Forwarders cargo receipt-4700571518 4700571527...-STRONGHE_WWW_PNH1224949.pdf.ocr.json to Forwarders Cargo Receipt/Forwarders cargo receipt-4700571518 4700571527...-STRONGHE_WWW_PNH1224949.pdf.ocr.json in container emaildocs\n",
      "Uploaded /mnt/batch/tasks/shared/LS_root/mounts/clusters/comp-instance-docintel/code/Users/jaypadhya/CustomClassifier/TRAINING_DOCUMENTS/Forwarders Cargo Receipt/Forwarders cargo receipt-4700572043-CHUANLI3_WWW_PNH1224952.pdf to Forwarders Cargo Receipt/Forwarders cargo receipt-4700572043-CHUANLI3_WWW_PNH1224952.pdf in container emaildocs\n",
      "Uploaded /mnt/batch/tasks/shared/LS_root/mounts/clusters/comp-instance-docintel/code/Users/jaypadhya/CustomClassifier/TRAINING_DOCUMENTS/Forwarders Cargo Receipt/Forwarders cargo receipt-4700572043-CHUANLI3_WWW_PNH1224952.pdf.ocr.json to Forwarders Cargo Receipt/Forwarders cargo receipt-4700572043-CHUANLI3_WWW_PNH1224952.pdf.ocr.json in container emaildocs\n",
      "Uploaded /mnt/batch/tasks/shared/LS_root/mounts/clusters/comp-instance-docintel/code/Users/jaypadhya/CustomClassifier/TRAINING_DOCUMENTS/Forwarders Cargo Receipt/Forwarders cargo receipt-4700572378-LINKBOWS_WWW_PNH1224948.pdf to Forwarders Cargo Receipt/Forwarders cargo receipt-4700572378-LINKBOWS_WWW_PNH1224948.pdf in container emaildocs\n",
      "Uploaded /mnt/batch/tasks/shared/LS_root/mounts/clusters/comp-instance-docintel/code/Users/jaypadhya/CustomClassifier/TRAINING_DOCUMENTS/Forwarders Cargo Receipt/Forwarders cargo receipt-4700572378-LINKBOWS_WWW_PNH1224948.pdf.ocr.json to Forwarders Cargo Receipt/Forwarders cargo receipt-4700572378-LINKBOWS_WWW_PNH1224948.pdf.ocr.json in container emaildocs\n",
      "Uploaded /mnt/batch/tasks/shared/LS_root/mounts/clusters/comp-instance-docintel/code/Users/jaypadhya/CustomClassifier/TRAINING_DOCUMENTS/Forwarders Cargo Receipt.jsonl to Forwarders Cargo Receipt.jsonl in container emaildocs\n",
      "Uploaded /mnt/batch/tasks/shared/LS_root/mounts/clusters/comp-instance-docintel/code/Users/jaypadhya/CustomClassifier/TRAINING_DOCUMENTS/Packaging List Doc/Packing List-4700571518-SHC-20230119-USA-PNH2716136-PK.pdf to Packaging List Doc/Packing List-4700571518-SHC-20230119-USA-PNH2716136-PK.pdf in container emaildocs\n",
      "Uploaded /mnt/batch/tasks/shared/LS_root/mounts/clusters/comp-instance-docintel/code/Users/jaypadhya/CustomClassifier/TRAINING_DOCUMENTS/Packaging List Doc/Packing List-4700571518-SHC-20230119-USA-PNH2716136-PK.pdf.ocr.json to Packaging List Doc/Packing List-4700571518-SHC-20230119-USA-PNH2716136-PK.pdf.ocr.json in container emaildocs\n",
      "Uploaded /mnt/batch/tasks/shared/LS_root/mounts/clusters/comp-instance-docintel/code/Users/jaypadhya/CustomClassifier/TRAINING_DOCUMENTS/Packaging List Doc/Packing List-4700571527-SHC-20230112-USA-PNH2716134-PK.pdf to Packaging List Doc/Packing List-4700571527-SHC-20230112-USA-PNH2716134-PK.pdf in container emaildocs\n",
      "Uploaded /mnt/batch/tasks/shared/LS_root/mounts/clusters/comp-instance-docintel/code/Users/jaypadhya/CustomClassifier/TRAINING_DOCUMENTS/Packaging List Doc/Packing List-4700571527-SHC-20230112-USA-PNH2716134-PK.pdf.ocr.json to Packaging List Doc/Packing List-4700571527-SHC-20230112-USA-PNH2716134-PK.pdf.ocr.json in container emaildocs\n",
      "Uploaded /mnt/batch/tasks/shared/LS_root/mounts/clusters/comp-instance-docintel/code/Users/jaypadhya/CustomClassifier/TRAINING_DOCUMENTS/Packaging List Doc/Packing List-4700572043-PK-WWW  CB0501 CTNS USA-DC#52.pdf to Packaging List Doc/Packing List-4700572043-PK-WWW  CB0501 CTNS USA-DC#52.pdf in container emaildocs\n",
      "Uploaded /mnt/batch/tasks/shared/LS_root/mounts/clusters/comp-instance-docintel/code/Users/jaypadhya/CustomClassifier/TRAINING_DOCUMENTS/Packaging List Doc/Packing List-4700572043-PK-WWW  CB0501 CTNS USA-DC#52.pdf.ocr.json to Packaging List Doc/Packing List-4700572043-PK-WWW  CB0501 CTNS USA-DC#52.pdf.ocr.json in container emaildocs\n",
      "Uploaded /mnt/batch/tasks/shared/LS_root/mounts/clusters/comp-instance-docintel/code/Users/jaypadhya/CustomClassifier/TRAINING_DOCUMENTS/Packaging List Doc/Packing List-4700575335-SHC-20230119-USA-PNH2717767-PK.pdf to Packaging List Doc/Packing List-4700575335-SHC-20230119-USA-PNH2717767-PK.pdf in container emaildocs\n",
      "Uploaded /mnt/batch/tasks/shared/LS_root/mounts/clusters/comp-instance-docintel/code/Users/jaypadhya/CustomClassifier/TRAINING_DOCUMENTS/Packaging List Doc/Packing List-4700575335-SHC-20230119-USA-PNH2717767-PK.pdf.ocr.json to Packaging List Doc/Packing List-4700575335-SHC-20230119-USA-PNH2717767-PK.pdf.ocr.json in container emaildocs\n",
      "Uploaded /mnt/batch/tasks/shared/LS_root/mounts/clusters/comp-instance-docintel/code/Users/jaypadhya/CustomClassifier/TRAINING_DOCUMENTS/Packaging List Doc/Packing List-4700575335-SHC-20230119-USA-PNH2717772-PK.pdf to Packaging List Doc/Packing List-4700575335-SHC-20230119-USA-PNH2717772-PK.pdf in container emaildocs\n",
      "Uploaded /mnt/batch/tasks/shared/LS_root/mounts/clusters/comp-instance-docintel/code/Users/jaypadhya/CustomClassifier/TRAINING_DOCUMENTS/Packaging List Doc/Packing List-4700575335-SHC-20230119-USA-PNH2717772-PK.pdf.ocr.json to Packaging List Doc/Packing List-4700575335-SHC-20230119-USA-PNH2717772-PK.pdf.ocr.json in container emaildocs\n",
      "Uploaded /mnt/batch/tasks/shared/LS_root/mounts/clusters/comp-instance-docintel/code/Users/jaypadhya/CustomClassifier/TRAINING_DOCUMENTS/Packaging List Doc/Packing List-4700575335-SHC-20230119-USA-PNH2717774-PK.pdf to Packaging List Doc/Packing List-4700575335-SHC-20230119-USA-PNH2717774-PK.pdf in container emaildocs\n",
      "Uploaded /mnt/batch/tasks/shared/LS_root/mounts/clusters/comp-instance-docintel/code/Users/jaypadhya/CustomClassifier/TRAINING_DOCUMENTS/Packaging List Doc/Packing List-4700575335-SHC-20230119-USA-PNH2717774-PK.pdf.ocr.json to Packaging List Doc/Packing List-4700575335-SHC-20230119-USA-PNH2717774-PK.pdf.ocr.json in container emaildocs\n",
      "Uploaded /mnt/batch/tasks/shared/LS_root/mounts/clusters/comp-instance-docintel/code/Users/jaypadhya/CustomClassifier/TRAINING_DOCUMENTS/Packaging List Doc/Packing List-4700575335-SHC-20230119-USA-PNH2717779-PK.pdf to Packaging List Doc/Packing List-4700575335-SHC-20230119-USA-PNH2717779-PK.pdf in container emaildocs\n",
      "Uploaded /mnt/batch/tasks/shared/LS_root/mounts/clusters/comp-instance-docintel/code/Users/jaypadhya/CustomClassifier/TRAINING_DOCUMENTS/Packaging List Doc/Packing List-4700575335-SHC-20230119-USA-PNH2717779-PK.pdf.ocr.json to Packaging List Doc/Packing List-4700575335-SHC-20230119-USA-PNH2717779-PK.pdf.ocr.json in container emaildocs\n",
      "Uploaded /mnt/batch/tasks/shared/LS_root/mounts/clusters/comp-instance-docintel/code/Users/jaypadhya/CustomClassifier/TRAINING_DOCUMENTS/Packaging List Doc/Packing List-4700575335-SHC-20230119-USA-PNH2717780-PK.pdf to Packaging List Doc/Packing List-4700575335-SHC-20230119-USA-PNH2717780-PK.pdf in container emaildocs\n",
      "Uploaded /mnt/batch/tasks/shared/LS_root/mounts/clusters/comp-instance-docintel/code/Users/jaypadhya/CustomClassifier/TRAINING_DOCUMENTS/Packaging List Doc/Packing List-4700575335-SHC-20230119-USA-PNH2717780-PK.pdf.ocr.json to Packaging List Doc/Packing List-4700575335-SHC-20230119-USA-PNH2717780-PK.pdf.ocr.json in container emaildocs\n",
      "Uploaded /mnt/batch/tasks/shared/LS_root/mounts/clusters/comp-instance-docintel/code/Users/jaypadhya/CustomClassifier/TRAINING_DOCUMENTS/Packaging List Doc/Packing List-4700575335-SHC-20230119-USA-PNH2717782-PK.pdf to Packaging List Doc/Packing List-4700575335-SHC-20230119-USA-PNH2717782-PK.pdf in container emaildocs\n",
      "Uploaded /mnt/batch/tasks/shared/LS_root/mounts/clusters/comp-instance-docintel/code/Users/jaypadhya/CustomClassifier/TRAINING_DOCUMENTS/Packaging List Doc/Packing List-4700575335-SHC-20230119-USA-PNH2717782-PK.pdf.ocr.json to Packaging List Doc/Packing List-4700575335-SHC-20230119-USA-PNH2717782-PK.pdf.ocr.json in container emaildocs\n",
      "Uploaded /mnt/batch/tasks/shared/LS_root/mounts/clusters/comp-instance-docintel/code/Users/jaypadhya/CustomClassifier/TRAINING_DOCUMENTS/Packaging List Doc/Packing List-4700575335-SHC-20230119-USA-PNH2717785-PK.pdf to Packaging List Doc/Packing List-4700575335-SHC-20230119-USA-PNH2717785-PK.pdf in container emaildocs\n",
      "Uploaded /mnt/batch/tasks/shared/LS_root/mounts/clusters/comp-instance-docintel/code/Users/jaypadhya/CustomClassifier/TRAINING_DOCUMENTS/Packaging List Doc/Packing List-4700575335-SHC-20230119-USA-PNH2717785-PK.pdf.ocr.json to Packaging List Doc/Packing List-4700575335-SHC-20230119-USA-PNH2717785-PK.pdf.ocr.json in container emaildocs\n",
      "Uploaded /mnt/batch/tasks/shared/LS_root/mounts/clusters/comp-instance-docintel/code/Users/jaypadhya/CustomClassifier/TRAINING_DOCUMENTS/Packaging List Doc/Packing List-4700575335-SHC-20230119-USA-PNH2717788-PK.pdf to Packaging List Doc/Packing List-4700575335-SHC-20230119-USA-PNH2717788-PK.pdf in container emaildocs\n",
      "Uploaded /mnt/batch/tasks/shared/LS_root/mounts/clusters/comp-instance-docintel/code/Users/jaypadhya/CustomClassifier/TRAINING_DOCUMENTS/Packaging List Doc/Packing List-4700575335-SHC-20230119-USA-PNH2717788-PK.pdf.ocr.json to Packaging List Doc/Packing List-4700575335-SHC-20230119-USA-PNH2717788-PK.pdf.ocr.json in container emaildocs\n",
      "Uploaded /mnt/batch/tasks/shared/LS_root/mounts/clusters/comp-instance-docintel/code/Users/jaypadhya/CustomClassifier/TRAINING_DOCUMENTS/Packaging List Doc.jsonl to Packaging List Doc.jsonl in container emaildocs\n",
      "Uploaded /mnt/batch/tasks/shared/LS_root/mounts/clusters/comp-instance-docintel/code/Users/jaypadhya/CustomClassifier/TRAINING_DOCUMENTS/Sea Waybill/Arrival Notice - S407577959.PDF to Sea Waybill/Arrival Notice - S407577959.PDF in container emaildocs\n",
      "Uploaded /mnt/batch/tasks/shared/LS_root/mounts/clusters/comp-instance-docintel/code/Users/jaypadhya/CustomClassifier/TRAINING_DOCUMENTS/Sea Waybill/Arrival Notice - S407577959.PDF.ocr.json to Sea Waybill/Arrival Notice - S407577959.PDF.ocr.json in container emaildocs\n",
      "Uploaded /mnt/batch/tasks/shared/LS_root/mounts/clusters/comp-instance-docintel/code/Users/jaypadhya/CustomClassifier/TRAINING_DOCUMENTS/Sea Waybill/B12-1054357592(1).pdf to Sea Waybill/B12-1054357592(1).pdf in container emaildocs\n",
      "Uploaded /mnt/batch/tasks/shared/LS_root/mounts/clusters/comp-instance-docintel/code/Users/jaypadhya/CustomClassifier/TRAINING_DOCUMENTS/Sea Waybill/B12-1054357592(1).pdf.ocr.json to Sea Waybill/B12-1054357592(1).pdf.ocr.json in container emaildocs\n",
      "Uploaded /mnt/batch/tasks/shared/LS_root/mounts/clusters/comp-instance-docintel/code/Users/jaypadhya/CustomClassifier/TRAINING_DOCUMENTS/Sea Waybill/Carrier Sea Waybill-4700567821 4700567822...-223873213 ok.pdf to Sea Waybill/Carrier Sea Waybill-4700567821 4700567822...-223873213 ok.pdf in container emaildocs\n",
      "Uploaded /mnt/batch/tasks/shared/LS_root/mounts/clusters/comp-instance-docintel/code/Users/jaypadhya/CustomClassifier/TRAINING_DOCUMENTS/Sea Waybill/Carrier Sea Waybill-4700567821 4700567822...-223873213 ok.pdf.ocr.json to Sea Waybill/Carrier Sea Waybill-4700567821 4700567822...-223873213 ok.pdf.ocr.json in container emaildocs\n",
      "Uploaded /mnt/batch/tasks/shared/LS_root/mounts/clusters/comp-instance-docintel/code/Users/jaypadhya/CustomClassifier/TRAINING_DOCUMENTS/Sea Waybill/JAS Bill Of Lading - NGB47577959.pdf to Sea Waybill/JAS Bill Of Lading - NGB47577959.pdf in container emaildocs\n",
      "Uploaded /mnt/batch/tasks/shared/LS_root/mounts/clusters/comp-instance-docintel/code/Users/jaypadhya/CustomClassifier/TRAINING_DOCUMENTS/Sea Waybill/JAS Bill Of Lading - NGB47577959.pdf.ocr.json to Sea Waybill/JAS Bill Of Lading - NGB47577959.pdf.ocr.json in container emaildocs\n",
      "Uploaded /mnt/batch/tasks/shared/LS_root/mounts/clusters/comp-instance-docintel/code/Users/jaypadhya/CustomClassifier/TRAINING_DOCUMENTS/Sea Waybill/SWDKSEC0123102506110.pdf to Sea Waybill/SWDKSEC0123102506110.pdf in container emaildocs\n",
      "Uploaded /mnt/batch/tasks/shared/LS_root/mounts/clusters/comp-instance-docintel/code/Users/jaypadhya/CustomClassifier/TRAINING_DOCUMENTS/Sea Waybill/SWDKSEC0123102506110.pdf.ocr.json to Sea Waybill/SWDKSEC0123102506110.pdf.ocr.json in container emaildocs\n",
      "Uploaded /mnt/batch/tasks/shared/LS_root/mounts/clusters/comp-instance-docintel/code/Users/jaypadhya/CustomClassifier/TRAINING_DOCUMENTS/Sea Waybill.jsonl to Sea Waybill.jsonl in container emaildocs\n",
      "\n",
      "The following files are not of a supported file type, missing a corresponding .ocr.json file, or both:\n",
      "\t/mnt/batch/tasks/shared/LS_root/mounts/clusters/comp-instance-docintel/code/Users/jaypadhya/CustomClassifier/TRAINING_DOCUMENTS/Commercial invoice/.amlignore\n",
      "\t/mnt/batch/tasks/shared/LS_root/mounts/clusters/comp-instance-docintel/code/Users/jaypadhya/CustomClassifier/TRAINING_DOCUMENTS/Commercial invoice/.amlignore.amltmp\n",
      "\t/mnt/batch/tasks/shared/LS_root/mounts/clusters/comp-instance-docintel/code/Users/jaypadhya/CustomClassifier/TRAINING_DOCUMENTS/Forwarders Cargo Receipt/.amlignore\n",
      "\t/mnt/batch/tasks/shared/LS_root/mounts/clusters/comp-instance-docintel/code/Users/jaypadhya/CustomClassifier/TRAINING_DOCUMENTS/Forwarders Cargo Receipt/.amlignore.amltmp\n",
      "\t/mnt/batch/tasks/shared/LS_root/mounts/clusters/comp-instance-docintel/code/Users/jaypadhya/CustomClassifier/TRAINING_DOCUMENTS/Packaging List Doc/.amlignore\n",
      "\t/mnt/batch/tasks/shared/LS_root/mounts/clusters/comp-instance-docintel/code/Users/jaypadhya/CustomClassifier/TRAINING_DOCUMENTS/Packaging List Doc/.amlignore.amltmp\n",
      "\t/mnt/batch/tasks/shared/LS_root/mounts/clusters/comp-instance-docintel/code/Users/jaypadhya/CustomClassifier/TRAINING_DOCUMENTS/Sea Waybill/.amlignore\n",
      "\t/mnt/batch/tasks/shared/LS_root/mounts/clusters/comp-instance-docintel/code/Users/jaypadhya/CustomClassifier/TRAINING_DOCUMENTS/Sea Waybill/.amlignore.amltmp\n",
      "Please ensure you run analyze_layout.py to create .ocr.json files before uploading documents. \n",
      "Visit the following link for more information on supported file types and sizes. \n",
      "https://learn.microsoft.com/en-us/azure/ai-services/document-intelligence/concept-custom-classifier?view=doc-intel-4.0.0#input-requirements\n",
      "Batch upload completed!\n"
     ]
    }
   ],
   "source": [
    "def upload_documents():\n",
    "# [START upload_documents]\n",
    "    # Create arrays to store the incompatible files\n",
    "    incompatible_files = []\n",
    "\n",
    "    # List all files in the local directory\n",
    "    for root, dirs, files in os.walk(local_directory):\n",
    "        for dir in dirs:\n",
    "            jsonl_data = []\n",
    "            dir_path = os.path.join(root, dir)\n",
    "            for file in os.listdir(dir_path):\n",
    "                local_file_path = os.path.join(dir_path, file)\n",
    "                ocr_json_file_path = local_file_path + \".ocr.json\"\n",
    "                if ( file.lower().endswith((\".jpg\", \".jpeg\", \".png\", \".bmp\", \".tiff\", \".heif\", \".pdf\", \".docx\", \".xlsx\", \".pptx\")) \n",
    "                    and os.path.isfile(ocr_json_file_path)):\n",
    "                        upload_file_to_blob(local_file_path, jsonl_data)\n",
    "                        upload_file_to_blob(ocr_json_file_path)\n",
    "                elif not file.endswith((\".ocr.json\", \".jsonl\")):\n",
    "                    incompatible_files.append(local_file_path)\n",
    "\n",
    "            # Write the .jsonl file as long as there are at least 5 training files per document type\n",
    "            if len(jsonl_data) >= 5:\n",
    "                jsonl_file_path = os.path.join(local_directory, f\"{dir}.jsonl\")\n",
    "                with open(jsonl_file_path, \"w\") as f:\n",
    "                    for item in jsonl_data:\n",
    "                        f.write(json.dumps(item) + \"\\n\")\n",
    "                upload_file_to_blob(jsonl_file_path)\n",
    "\n",
    "    # Print the list of incompatible files\n",
    "    if len(incompatible_files) > 0:\n",
    "        print(\"\\nThe following files are not of a supported file type, missing a corresponding .ocr.json file, or both:\")\n",
    "        for local_file_path in incompatible_files:\n",
    "            print(f\"\\t{local_file_path}\")\n",
    "        print(\"Please ensure you run analyze_layout.py to create .ocr.json files before uploading documents. \\nVisit the following link for more information on supported file types and sizes. \\nhttps://learn.microsoft.com/en-us/azure/ai-services/document-intelligence/concept-custom-classifier?view=doc-intel-4.0.0#input-requirements\")\n",
    "    \n",
    "    print(\"Batch upload completed!\")\n",
    "# [END upload_documents]\n",
    "    \n",
    "def upload_file_to_blob(local_file_path, jsonl_data=None):\n",
    "# [START upload_file_to_blob]\n",
    "    blob_name = os.path.relpath(local_file_path, local_directory).replace(\"\\\\\", \"/\")\n",
    "    if jsonl_data is not None:\n",
    "        jsonl_data.append({\"file\": f\"{blob_name}\"})\n",
    "    blob_client = container_client.get_blob_client(blob_name)\n",
    "    # Upload the file to Azure Blob Storage\n",
    "    with open(local_file_path, \"rb\") as data:\n",
    "        blob_client.upload_blob(data, overwrite=True)\n",
    "    print(f\"Uploaded {local_file_path} to {blob_name} in container {container_name}\")\n",
    "# [END upload_file_to_blob]\n",
    "\n",
    "if __name__ == \"__main__\":\n",
    "    upload_documents()"
   ]
  },
  {
   "cell_type": "markdown",
   "metadata": {
    "nteract": {
     "transient": {
      "deleting": false
     }
    }
   },
   "source": [
    "## Build the Custom classifier Model here "
   ]
  },
  {
   "cell_type": "code",
   "execution_count": 14,
   "metadata": {
    "gather": {
     "logged": 1732656308215
    },
    "jupyter": {
     "outputs_hidden": false,
     "source_hidden": false
    },
    "nteract": {
     "transient": {
      "deleting": false
     }
    }
   },
   "outputs": [],
   "source": [
    "import os\n",
    "from azure.ai.documentintelligence import DocumentIntelligenceAdministrationClient\n",
    "from azure.ai.documentintelligence.models import (AzureBlobFileListContentSource,ClassifierDocumentTypeDetails,BuildDocumentClassifierRequest)\n",
    "from azure.core.credentials import AzureKeyCredential\n",
    "from azure.storage.blob import BlobServiceClient, ContainerSasPermissions, generate_container_sas\n",
    "from datetime import datetime, timezone, timedelta\n",
    "import uuid\n"
   ]
  },
  {
   "cell_type": "code",
   "execution_count": 20,
   "metadata": {
    "gather": {
     "logged": 1732656757324
    },
    "jupyter": {
     "outputs_hidden": false,
     "source_hidden": false
    },
    "nteract": {
     "transient": {
      "deleting": false
     }
    }
   },
   "outputs": [],
   "source": [
    "def build_classifier():\n",
    "# [START build_classifier]\n",
    "    base_classifier_id =None # os.environ[\"BASE_CLASSIFIER_ID\"] if os.environ[\"BASE_CLASSIFIER_ID\"] else None\n",
    "    classifier_description = None #os.environ[\"CLASSIFIER_DESCRIPTION\"] if os.environ[\"CLASSIFIER_DESCRIPTION\"] else None\n",
    "    document_model_admin_client, container_client = create_clients()\n",
    "    container_sas_url = create_container_sas_url(container_client)\n",
    "\n",
    "    poller = document_model_admin_client.begin_build_classifier(\n",
    "        BuildDocumentClassifierRequest(\n",
    "            classifier_id=str(uuid.uuid4()),\n",
    "            base_classifier_id=base_classifier_id,\n",
    "            description=classifier_description,\n",
    "            doc_types= get_doctypes(container_client, container_sas_url),\n",
    "        )\n",
    "    )\n",
    "    result = poller.result()\n",
    "    print_classifier_results(result)\n",
    "# [END build_classifier]"
   ]
  },
  {
   "cell_type": "code",
   "execution_count": null,
   "metadata": {
    "gather": {
     "logged": 1732656758954
    },
    "jupyter": {
     "outputs_hidden": false,
     "source_hidden": false
    },
    "nteract": {
     "transient": {
      "deleting": false
     }
    }
   },
   "outputs": [],
   "source": [
    "from azure.storage.blob import BlobServiceClient, ContainerClient\n",
    "\n",
    "\n",
    "def create_clients():\n",
    "# [START create_clients]\n",
    "    endpoint = \"\" #DocIntelligence Service\n",
    "    key = \"\"##DocIntelligence key\n",
    "    \n",
    "    container_name = \"\"\n",
    "    # Create a BlobServiceClient\n",
    "    blob_service_client = BlobServiceClient(account_url=account_url, credential=account_key)\n",
    "    container_client = blob_service_client.get_container_client(container_name)\n",
    "\n",
    "    document_model_admin_client = DocumentIntelligenceAdministrationClient(endpoint=endpoint, credential=AzureKeyCredential(key))\n",
    "    \n",
    "    \n",
    "    return document_model_admin_client, container_client\n"
   ]
  },
  {
   "cell_type": "code",
   "execution_count": 22,
   "metadata": {
    "gather": {
     "logged": 1732656762414
    },
    "jupyter": {
     "outputs_hidden": false,
     "source_hidden": false
    },
    "nteract": {
     "transient": {
      "deleting": false
     }
    }
   },
   "outputs": [],
   "source": [
    "def get_doctypes(container_client, container_sas_url):\n",
    "# [START get_doctypes]\n",
    "    doc_types = {}\n",
    "    doc_types_list = []\n",
    "\n",
    "    blob_list = container_client.walk_blobs()\n",
    "    for blob in blob_list:\n",
    "        if blob.name.endswith(\".jsonl\"):\n",
    "            doc_type = os.path.splitext(blob.name)[0]\n",
    "            doc_types_list.append(doc_type)\n",
    "\n",
    "    for doc_type in doc_types_list:\n",
    "        doc_types[doc_type] = ClassifierDocumentTypeDetails(\n",
    "            azure_blob_file_list_source=AzureBlobFileListContentSource(\n",
    "                container_url=container_sas_url, \n",
    "                file_list=f\"{doc_type}.jsonl\"\n",
    "            )\n",
    "        )\n",
    "    return doc_types\n",
    "    "
   ]
  },
  {
   "cell_type": "code",
   "execution_count": 23,
   "metadata": {
    "gather": {
     "logged": 1732656765731
    },
    "jupyter": {
     "outputs_hidden": false,
     "source_hidden": false
    },
    "nteract": {
     "transient": {
      "deleting": false
     }
    }
   },
   "outputs": [],
   "source": [
    "def create_container_sas_url(container_client):\n",
    "# [START create_container_sas_url]\n",
    "    # Define the SAS token permissions\n",
    "    sas_permissions=ContainerSasPermissions(read=True, list=True)\n",
    "\n",
    "    # Define the expiry time and start time for the SAS token\n",
    "    start_time = datetime.now(timezone.utc) - timedelta(minutes=1)\n",
    "    expiry_time = datetime.now(timezone.utc) + timedelta(minutes=5)\n",
    "\n",
    "    # Generate the container SAS token\n",
    "    container_sas_token = generate_container_sas(\n",
    "        container_client.account_name,\n",
    "        container_client.container_name,\n",
    "        account_key=container_client.credential.account_key,\n",
    "        permission=sas_permissions,\n",
    "        expiry=expiry_time,\n",
    "        start=start_time,\n",
    "    )\n",
    "    # Create the container sas URL by appending the token to the container url\n",
    "    container_sas_url = f\"{container_client.url}?{container_sas_token}\"\n",
    "\n",
    "    return container_sas_url\n",
    "# [END create_container_sas_url]"
   ]
  },
  {
   "cell_type": "code",
   "execution_count": null,
   "metadata": {
    "gather": {
     "logged": 1732657047763
    },
    "jupyter": {
     "outputs_hidden": false,
     "source_hidden": false
    },
    "nteract": {
     "transient": {
      "deleting": false
     }
    }
   },
   "outputs": [],
   "source": [
    "def print_classifier_results(result):\n",
    "# [START print_classifier_results]\n",
    "    print(f\"Classifier ID: {result.classifier_id}\")\n",
    "    print(f\"API version used to build the classifier model: {result.api_version}\")\n",
    "    print(f\"Classifier description: {result.description}\")\n",
    "    print(f\"Document classes used for training the model:\")\n",
    "    for doc_type in result.doc_types.items():\n",
    "        print(f\"Document type: {doc_type}\")\n",
    "        \n",
    "# [START print_classifier_results]\n",
    "        \n",
    "if __name__ == \"__main__\":\n",
    "    build_classifier()"
   ]
  },
  {
   "cell_type": "markdown",
   "metadata": {
    "nteract": {
     "transient": {
      "deleting": false
     }
    }
   },
   "source": [
    "## Classification of Documents"
   ]
  },
  {
   "cell_type": "code",
   "execution_count": 36,
   "metadata": {
    "gather": {
     "logged": 1732658287784
    },
    "jupyter": {
     "outputs_hidden": false,
     "source_hidden": false
    },
    "nteract": {
     "transient": {
      "deleting": false
     }
    }
   },
   "outputs": [],
   "source": [
    "import logging, json, os, time,uuid\n",
    "from azure.core.exceptions import HttpResponseError\n",
    "from requests import post, get\n",
    "from azure.core.credentials import AzureKeyCredential\n",
    "from azure.ai.documentintelligence import DocumentIntelligenceClient\n",
    "from azure.ai.documentintelligence.models import AnalyzeResult\n"
   ]
  },
  {
   "cell_type": "code",
   "execution_count": null,
   "metadata": {
    "gather": {
     "logged": 1732658209731
    },
    "jupyter": {
     "outputs_hidden": false,
     "source_hidden": false
    },
    "nteract": {
     "transient": {
      "deleting": false
     }
    }
   },
   "outputs": [],
   "source": [
    "DOCUMENT_INTELLIGENCE_KEY = key\n",
    "ENDPOINT = endpoint\n",
    "\n",
    "CLASSIFIER_ID =\"\" \n",
    "API_TYPE = \"\"##\"documentClassifiers\"\n",
    "API_VERSION = \"2024-02-29-preview\"\n"
   ]
  },
  {
   "cell_type": "code",
   "execution_count": null,
   "metadata": {
    "gather": {
     "logged": 1732658223115
    },
    "jupyter": {
     "outputs_hidden": false,
     "source_hidden": false
    },
    "nteract": {
     "transient": {
      "deleting": false
     }
    }
   },
   "outputs": [],
   "source": [
    "import os\n",
    "\n",
    "# Get the current working directory\n",
    "current_dir = os.getcwd()\n",
    "print(current_dir)\n",
    "\n",
    "#Additional Folders need to be added here\n",
    "train_doc_dir = current_dir + '/CustomClassifier/TESTING_DOCUMENTS'\n",
    "\n",
    "if os.path.exists(train_doc_dir):\n",
    "    print(f\"Path exists: {train_doc_dir}\")\n",
    "else:\n",
    "    print(f\"Path does NOT exist: {train_doc_dir}\")\n",
    "\n",
    "\n",
    "for item in os.listdir(train_doc_dir):\n",
    "    print(item)\n",
    "    \n",
    "local_directory =train_doc_dir\n",
    "#print(local_directory)\n",
    "TESTING_DATA = train_doc_dir #This works"
   ]
  },
  {
   "cell_type": "code",
   "execution_count": 34,
   "metadata": {
    "gather": {
     "logged": 1732658254297
    },
    "jupyter": {
     "outputs_hidden": false,
     "source_hidden": false
    },
    "nteract": {
     "transient": {
      "deleting": false
     }
    }
   },
   "outputs": [],
   "source": [
    "def classify_document(classifier_id, doc_path):\n",
    "\n",
    "    document_intelligence_client = DocumentIntelligenceClient(endpoint=endpoint, credential=AzureKeyCredential(key))\n",
    "    with open(doc_path, \"rb\") as f:\n",
    "        poller = document_intelligence_client.begin_classify_document(\n",
    "            classifier_id, classify_request=f, content_type=\"application/pdf\"\n",
    "        )\n",
    "    result: AnalyzeResult = poller.result()\n",
    "\n",
    "    print(\"----Classified documents----\")\n",
    "    if result.documents:\n",
    "        for doc in result.documents:\n",
    "            if doc.bounding_regions:\n",
    "                print(\n",
    "                    f\"Found document of type '{doc.doc_type or 'N/A'}' with a confidence of {doc.confidence} contained on \"\n",
    "                    f\"the following pages: {[region.page_number for region in doc.bounding_regions]}\"\n",
    "                )\n",
    "    # [END classify_document]"
   ]
  },
  {
   "cell_type": "code",
   "execution_count": 42,
   "metadata": {
    "gather": {
     "logged": 1732659065166
    },
    "jupyter": {
     "outputs_hidden": false,
     "source_hidden": false
    },
    "nteract": {
     "transient": {
      "deleting": false
     }
    }
   },
   "outputs": [
    {
     "name": "stdout",
     "output_type": "stream",
     "text": [
      ".amlignore\n",
      "Skipping .amlignore, as it is not a PDF file.\n",
      ".amlignore.amltmp\n",
      "Skipping .amlignore.amltmp, as it is not a PDF file.\n",
      "Commercial Invoice-4600345298 4600346678...-0014851.pdf\n",
      "----Classified documents----\n",
      "Found document of type 'Sea Waybill' with a confidence of 0.914 contained on the following pages: [1, 2]\n",
      "Commercial Invoice-4600345298 4600346678...-0014852.pdf\n",
      "----Classified documents----\n",
      "Found document of type 'Sea Waybill' with a confidence of 0.886 contained on the following pages: [1, 2, 3]\n",
      "Commercial Invoice-4600345298 4600346678...-0014853.pdf\n",
      "----Classified documents----\n",
      "Found document of type 'Sea Waybill' with a confidence of 0.9 contained on the following pages: [1, 2, 3]\n",
      "Commercial Invoice-4600345298 4600346678...-0014854.pdf\n",
      "----Classified documents----\n",
      "Found document of type 'Sea Waybill' with a confidence of 0.854 contained on the following pages: [1, 2, 3]\n",
      "Commercial Invoice-4600345298 4600346678...-0014855.pdf\n",
      "----Classified documents----\n",
      "Found document of type 'Sea Waybill' with a confidence of 0.879 contained on the following pages: [1, 2, 3]\n",
      "Commercial Invoice-4600345298 4600346678...-0014856.pdf\n",
      "----Classified documents----\n",
      "Found document of type 'Sea Waybill' with a confidence of 0.901 contained on the following pages: [1, 2]\n",
      "Commercial Invoice-4600345298 4600346678...-0014858.pdf\n",
      "----Classified documents----\n",
      "Found document of type 'Sea Waybill' with a confidence of 0.903 contained on the following pages: [1, 2, 3]\n",
      "Commercial Invoice-4600345298 4600346678...-0014859.pdf\n",
      "----Classified documents----\n",
      "Found document of type 'Sea Waybill' with a confidence of 0.91 contained on the following pages: [1, 2]\n",
      "Commercial Invoice-4700597443 4700597444...-document CI SMR224055 US.pdf\n",
      "----Classified documents----\n",
      "Found document of type 'Sea Waybill' with a confidence of 0.958 contained on the following pages: [1, 2, 3, 4, 5, 6, 7, 8, 9, 10, 11]\n",
      "Packing List-4600345298 4600346678...-PackingList_0014851.pdf\n",
      "----Classified documents----\n",
      "Found document of type 'Commercial invoice' with a confidence of 0.461 contained on the following pages: [1]\n",
      "Packing List-4600345298 4600346678...-PackingList_0014852.pdf\n",
      "----Classified documents----\n",
      "Found document of type 'Commercial invoice' with a confidence of 0.329 contained on the following pages: [1]\n",
      "Packing List-4600345298 4600346678...-PackingList_0014853.pdf\n",
      "----Classified documents----\n",
      "Found document of type 'Commercial invoice' with a confidence of 0.341 contained on the following pages: [1]\n",
      "Packing List-4600345298 4600346678...-PackingList_0014854.pdf\n",
      "----Classified documents----\n",
      "Found document of type 'Sea Waybill' with a confidence of 0.434 contained on the following pages: [1]\n",
      "Packing List-4600345298 4600346678...-PackingList_0014855.pdf\n",
      "----Classified documents----\n",
      "Found document of type 'Sea Waybill' with a confidence of 0.375 contained on the following pages: [1]\n",
      "Packing List-4600345298 4600346678...-PackingList_0014856.pdf\n",
      "----Classified documents----\n",
      "Found document of type 'Commercial invoice' with a confidence of 0.469 contained on the following pages: [1]\n",
      "Packing List-4600345298 4600346678...-PackingList_0014858.pdf\n",
      "----Classified documents----\n",
      "Found document of type 'Sea Waybill' with a confidence of 0.365 contained on the following pages: [1]\n",
      "Packing List-4600345298 4600346678...-PackingList_0014859.pdf\n",
      "----Classified documents----\n",
      "Found document of type 'Commercial invoice' with a confidence of 0.407 contained on the following pages: [1]\n",
      "Packing List-4700597443 4700597444...-document PL SMR224055 US.pdf\n",
      "----Classified documents----\n",
      "Found document of type 'Sea Waybill' with a confidence of 0.963 contained on the following pages: [1, 2, 3, 4, 5, 6, 7, 8, 9, 10, 11, 12, 13, 14, 15, 16, 17, 18, 19, 20, 21, 22, 23, 24, 25, 26, 27, 28, 29, 30, 31, 32, 33, 34, 35, 36, 37, 38, 39]\n"
     ]
    }
   ],
   "source": [
    "for document in os.listdir(TESTING_DATA):\n",
    "    print(document)\n",
    "    # Check if the file has a .pdf extension (case-insensitive)\n",
    "    if document.lower().endswith(\".pdf\"):\n",
    "        doc_path = os.path.join(TESTING_DATA, document)\n",
    "        request = classify_document(CLASSIFIER_ID, doc_path)\n",
    "    else:\n",
    "        print(f\"Skipping {document}, as it is not a PDF file.\")"
   ]
  },
  {
   "cell_type": "code",
   "execution_count": 43,
   "metadata": {
    "gather": {
     "logged": 1732659167469
    },
    "jupyter": {
     "outputs_hidden": false,
     "source_hidden": false
    },
    "nteract": {
     "transient": {
      "deleting": false
     }
    }
   },
   "outputs": [
    {
     "name": "stdout",
     "output_type": "stream",
     "text": [
      ".amlignore\n",
      "Skipping .amlignore, as it is not a PDF file.\n",
      ".amlignore.amltmp\n",
      "Skipping .amlignore.amltmp, as it is not a PDF file.\n",
      "Commercial Invoice-4600345298 4600346678...-0014851.pdf\n",
      "----Classified documents----\n",
      "Found document of type 'Sea Waybill' with a confidence of 0.914 contained on the following pages: [1, 2]\n",
      "Commercial Invoice-4600345298 4600346678...-0014852.pdf\n",
      "----Classified documents----\n",
      "Found document of type 'Sea Waybill' with a confidence of 0.886 contained on the following pages: [1, 2, 3]\n",
      "Commercial Invoice-4600345298 4600346678...-0014853.pdf\n",
      "----Classified documents----\n",
      "Found document of type 'Sea Waybill' with a confidence of 0.9 contained on the following pages: [1, 2, 3]\n",
      "Commercial Invoice-4600345298 4600346678...-0014854.pdf\n",
      "----Classified documents----\n",
      "Found document of type 'Sea Waybill' with a confidence of 0.854 contained on the following pages: [1, 2, 3]\n",
      "Commercial Invoice-4600345298 4600346678...-0014855.pdf\n",
      "----Classified documents----\n",
      "Found document of type 'Sea Waybill' with a confidence of 0.879 contained on the following pages: [1, 2, 3]\n",
      "Commercial Invoice-4600345298 4600346678...-0014856.pdf\n",
      "----Classified documents----\n",
      "Found document of type 'Sea Waybill' with a confidence of 0.901 contained on the following pages: [1, 2]\n",
      "Commercial Invoice-4600345298 4600346678...-0014858.pdf\n",
      "----Classified documents----\n",
      "Found document of type 'Sea Waybill' with a confidence of 0.903 contained on the following pages: [1, 2, 3]\n",
      "Commercial Invoice-4600345298 4600346678...-0014859.pdf\n",
      "----Classified documents----\n",
      "Found document of type 'Sea Waybill' with a confidence of 0.91 contained on the following pages: [1, 2]\n",
      "Commercial Invoice-4700597443 4700597444...-document CI SMR224055 US.pdf\n",
      "----Classified documents----\n",
      "Found document of type 'Sea Waybill' with a confidence of 0.958 contained on the following pages: [1, 2, 3, 4, 5, 6, 7, 8, 9, 10, 11]\n",
      "Packing List-4600345298 4600346678...-PackingList_0014851.pdf\n",
      "----Classified documents----\n",
      "Found document of type 'Commercial invoice' with a confidence of 0.461 contained on the following pages: [1]\n",
      "Packing List-4600345298 4600346678...-PackingList_0014852.pdf\n",
      "----Classified documents----\n",
      "Found document of type 'Commercial invoice' with a confidence of 0.329 contained on the following pages: [1]\n",
      "Packing List-4600345298 4600346678...-PackingList_0014853.pdf\n",
      "----Classified documents----\n",
      "Found document of type 'Commercial invoice' with a confidence of 0.341 contained on the following pages: [1]\n",
      "Packing List-4600345298 4600346678...-PackingList_0014854.pdf\n",
      "----Classified documents----\n",
      "Found document of type 'Sea Waybill' with a confidence of 0.434 contained on the following pages: [1]\n",
      "Packing List-4600345298 4600346678...-PackingList_0014855.pdf\n",
      "----Classified documents----\n",
      "Found document of type 'Sea Waybill' with a confidence of 0.375 contained on the following pages: [1]\n",
      "Packing List-4600345298 4600346678...-PackingList_0014856.pdf\n",
      "----Classified documents----\n",
      "Found document of type 'Commercial invoice' with a confidence of 0.469 contained on the following pages: [1]\n",
      "Packing List-4600345298 4600346678...-PackingList_0014858.pdf\n",
      "----Classified documents----\n",
      "Found document of type 'Sea Waybill' with a confidence of 0.365 contained on the following pages: [1]\n",
      "Packing List-4600345298 4600346678...-PackingList_0014859.pdf\n",
      "----Classified documents----\n",
      "Found document of type 'Commercial invoice' with a confidence of 0.407 contained on the following pages: [1]\n",
      "Packing List-4700597443 4700597444...-document PL SMR224055 US.pdf\n",
      "----Classified documents----\n",
      "Found document of type 'Sea Waybill' with a confidence of 0.963 contained on the following pages: [1, 2, 3, 4, 5, 6, 7, 8, 9, 10, 11, 12, 13, 14, 15, 16, 17, 18, 19, 20, 21, 22, 23, 24, 25, 26, 27, 28, 29, 30, 31, 32, 33, 34, 35, 36, 37, 38, 39]\n"
     ]
    }
   ],
   "source": [
    "if __name__ == \"__main__\":\n",
    "    try:\n",
    "        for document in os.listdir(TESTING_DATA):\n",
    "            print(document)\n",
    "            # Check if the file has a .pdf extension (case-insensitive)\n",
    "            if document.lower().endswith(\".pdf\"):\n",
    "                doc_path = os.path.join(TESTING_DATA, document)\n",
    "                request = classify_document(CLASSIFIER_ID, doc_path)\n",
    "            else:\n",
    "                print(f\"Skipping {document}, as it is not a PDF file.\")\n",
    "    except HttpResponseError as error:\n",
    "        # Examples of how to check an HttpResponseError\n",
    "        # Check by error code:\n",
    "        if error.error is not None:\n",
    "            if error.error.code == \"InvalidImage\":\n",
    "                print(f\"Received an invalid image error: {error.error}\")\n",
    "            if error.error.code == \"InvalidRequest\":\n",
    "                print(f\"Received an invalid request error: {error.error}\")\n",
    "            # Raise the error again after printing it\n",
    "            raise\n",
    "        # If the inner error is None and then it is possible to check the message to get more information:\n",
    "        if \"Invalid request\".casefold() in error.message.casefold():\n",
    "            print(f\"Uh-oh! Seems there was an invalid request: {error}\")\n",
    "        # Raise the error again\n",
    "        raise"
   ]
  },
  {
   "cell_type": "code",
   "execution_count": null,
   "metadata": {
    "jupyter": {
     "outputs_hidden": false,
     "source_hidden": false
    },
    "nteract": {
     "transient": {
      "deleting": false
     }
    }
   },
   "outputs": [],
   "source": []
  }
 ],
 "metadata": {
  "kernel_info": {
   "name": "python38-azureml"
  },
  "kernelspec": {
   "display_name": "base",
   "language": "python",
   "name": "python3"
  },
  "language_info": {
   "codemirror_mode": {
    "name": "ipython",
    "version": 3
   },
   "file_extension": ".py",
   "mimetype": "text/x-python",
   "name": "python",
   "nbconvert_exporter": "python",
   "pygments_lexer": "ipython3",
   "version": "3.11.7"
  },
  "microsoft": {
   "host": {
    "AzureML": {
     "notebookHasBeenCompleted": true
    }
   },
   "ms_spell_check": {
    "ms_spell_check_language": "en"
   }
  },
  "nteract": {
   "version": "nteract-front-end@1.0.0"
  }
 },
 "nbformat": 4,
 "nbformat_minor": 2
}
